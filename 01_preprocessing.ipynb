{
 "cells": [
  {
   "cell_type": "markdown",
   "metadata": {},
   "source": [
    "#### NOVA IMS / BSc in Data Science / Text Mining 2024/2025\n",
    "### <b>Group Project: \"Solving the Hyderabadi Word Soup\"</b>\n",
    "#### Notebook `Preprocessing`\n",
    "\n",
    "#### Group:\n",
    "- `Adriana Pinto - 20221921`\n",
    "- `David Duarte - 20221899`\n",
    "- `Maria Teresa Silva - 20221821`\n",
    "- `Marta Alves - 20221890` \n",
    "- `Miguel Nascimento - 20221876` \n",
    "\n",
    "#### <font color='#BFD72'>Table of Contents </font> <a class=\"anchor\" id='toc'></a> \n",
    "- [1. Imports](#imports)\n",
    "- [2. Restaurants Initial Preprocessing](#restaurants-initial-preprocessing)\n",
    "- [3. Reviews Initial Preprocessing](#reviews-initial-preprocessing)\n",
    "\n",
    "**Note:** This notebook comprises the initial data cleaning steps performed. The real pipeline for text processing the reviews is in the .py file in the utils folder."
   ]
  },
  {
   "cell_type": "markdown",
   "metadata": {},
   "source": [
    "# <font color='#BFD72'>Imports</font>\n",
    "[Back to TOC](#toc)"
   ]
  },
  {
   "cell_type": "code",
   "execution_count": 1,
   "metadata": {},
   "outputs": [],
   "source": [
    "# Ignoring warnings\n",
    "import warnings\n",
    "warnings.filterwarnings(\"ignore\")\n",
    "\n",
    "import time\n",
    "import re\n",
    "import pandas as pd\n",
    "from nltk.tokenize import PunktSentenceTokenizer\n",
    "sent_tokenizer = PunktSentenceTokenizer()\n",
    "\n",
    "#without truncation\n",
    "pd.set_option('display.max_colwidth', None)"
   ]
  },
  {
   "cell_type": "code",
   "execution_count": 2,
   "metadata": {},
   "outputs": [],
   "source": [
    "reviews=pd.read_csv('data/reviews.csv')\n",
    "restaurants=pd.read_csv('data/restaurants.csv') \n",
    "restaurants = restaurants.drop(columns=['Links'])"
   ]
  },
  {
   "cell_type": "markdown",
   "metadata": {},
   "source": [
    "# <font color='#BFD72'>Restaurants Initial Preprocessing</font>\n",
    "[Back to TOC](#toc)"
   ]
  },
  {
   "cell_type": "markdown",
   "metadata": {},
   "source": [
    "### Turning cost into a int column"
   ]
  },
  {
   "cell_type": "code",
   "execution_count": 3,
   "metadata": {},
   "outputs": [
    {
     "data": {
      "text/html": [
       "<div>\n",
       "<style scoped>\n",
       "    .dataframe tbody tr th:only-of-type {\n",
       "        vertical-align: middle;\n",
       "    }\n",
       "\n",
       "    .dataframe tbody tr th {\n",
       "        vertical-align: top;\n",
       "    }\n",
       "\n",
       "    .dataframe thead th {\n",
       "        text-align: right;\n",
       "    }\n",
       "</style>\n",
       "<table border=\"1\" class=\"dataframe\">\n",
       "  <thead>\n",
       "    <tr style=\"text-align: right;\">\n",
       "      <th></th>\n",
       "      <th>Name</th>\n",
       "      <th>Cost</th>\n",
       "      <th>Collections</th>\n",
       "      <th>Cuisines</th>\n",
       "      <th>Timings</th>\n",
       "    </tr>\n",
       "  </thead>\n",
       "  <tbody>\n",
       "    <tr>\n",
       "      <th>0</th>\n",
       "      <td>Beyond Flavours</td>\n",
       "      <td>800</td>\n",
       "      <td>Food Hygiene Rated Restaurants in Hyderabad, Corporate Favorites, Great Buffets, Top-Rated, Gold Curated, Live Sports Screenings</td>\n",
       "      <td>Chinese, Continental, Kebab, European, South Indian, North Indian</td>\n",
       "      <td>12noon to 3:30pm, 6:30pm to 11:30pm (Mon-Sun)</td>\n",
       "    </tr>\n",
       "    <tr>\n",
       "      <th>1</th>\n",
       "      <td>Paradise</td>\n",
       "      <td>800</td>\n",
       "      <td>Hyderabad's Hottest</td>\n",
       "      <td>Biryani, North Indian, Chinese</td>\n",
       "      <td>11 AM to 11 PM</td>\n",
       "    </tr>\n",
       "    <tr>\n",
       "      <th>2</th>\n",
       "      <td>Flechazo</td>\n",
       "      <td>1,300</td>\n",
       "      <td>Great Buffets, Hyderabad's Hottest</td>\n",
       "      <td>Asian, Mediterranean, North Indian, Desserts</td>\n",
       "      <td>11:30 AM to 4:30 PM, 6:30 PM to 11 PM</td>\n",
       "    </tr>\n",
       "    <tr>\n",
       "      <th>3</th>\n",
       "      <td>Shah Ghouse Hotel &amp; Restaurant</td>\n",
       "      <td>800</td>\n",
       "      <td>Late Night Restaurants</td>\n",
       "      <td>Biryani, North Indian, Chinese, Seafood, Beverages</td>\n",
       "      <td>12 Noon to 2 AM</td>\n",
       "    </tr>\n",
       "    <tr>\n",
       "      <th>4</th>\n",
       "      <td>Over The Moon Brew Company</td>\n",
       "      <td>1,200</td>\n",
       "      <td>Best Bars &amp; Pubs, Food Hygiene Rated Restaurants in Hyderabad, Top-Rated, Gold Curated, Hyderabad's Hottest</td>\n",
       "      <td>Asian, Continental, North Indian, Chinese, Mediterranean</td>\n",
       "      <td>12noon to 11pm (Mon, Tue, Wed, Thu, Sun), 12noon to 12midnight (Fri-Sat)</td>\n",
       "    </tr>\n",
       "    <tr>\n",
       "      <th>...</th>\n",
       "      <td>...</td>\n",
       "      <td>...</td>\n",
       "      <td>...</td>\n",
       "      <td>...</td>\n",
       "      <td>...</td>\n",
       "    </tr>\n",
       "    <tr>\n",
       "      <th>100</th>\n",
       "      <td>IndiBlaze</td>\n",
       "      <td>600</td>\n",
       "      <td>NaN</td>\n",
       "      <td>Fast Food, Salad</td>\n",
       "      <td>11 AM to 11 PM</td>\n",
       "    </tr>\n",
       "    <tr>\n",
       "      <th>101</th>\n",
       "      <td>Sweet Basket</td>\n",
       "      <td>200</td>\n",
       "      <td>NaN</td>\n",
       "      <td>Bakery, Mithai</td>\n",
       "      <td>10 AM to 10 PM (Mon-Thu), 8 AM to 10:30 PM (Fri-Sun)</td>\n",
       "    </tr>\n",
       "    <tr>\n",
       "      <th>102</th>\n",
       "      <td>Angaara Counts 3</td>\n",
       "      <td>500</td>\n",
       "      <td>NaN</td>\n",
       "      <td>North Indian, Biryani, Chinese</td>\n",
       "      <td>12 Noon to 11 PM</td>\n",
       "    </tr>\n",
       "    <tr>\n",
       "      <th>103</th>\n",
       "      <td>Wich Please</td>\n",
       "      <td>250</td>\n",
       "      <td>NaN</td>\n",
       "      <td>Fast Food</td>\n",
       "      <td>8am to 12:30AM (Mon-Sun)</td>\n",
       "    </tr>\n",
       "    <tr>\n",
       "      <th>104</th>\n",
       "      <td>Republic Of Noodles - Lemon Tree Hotel</td>\n",
       "      <td>1,700</td>\n",
       "      <td>Pan-Asian Delicacies</td>\n",
       "      <td>Thai, Asian, Chinese, Malaysian</td>\n",
       "      <td>11:30 AM to 3 PM, 7 PM to 12 Midnight</td>\n",
       "    </tr>\n",
       "  </tbody>\n",
       "</table>\n",
       "<p>105 rows × 5 columns</p>\n",
       "</div>"
      ],
      "text/plain": [
       "                                       Name   Cost  \\\n",
       "0                           Beyond Flavours    800   \n",
       "1                                  Paradise    800   \n",
       "2                                  Flechazo  1,300   \n",
       "3            Shah Ghouse Hotel & Restaurant    800   \n",
       "4                Over The Moon Brew Company  1,200   \n",
       "..                                      ...    ...   \n",
       "100                               IndiBlaze    600   \n",
       "101                            Sweet Basket    200   \n",
       "102                        Angaara Counts 3    500   \n",
       "103                             Wich Please    250   \n",
       "104  Republic Of Noodles - Lemon Tree Hotel  1,700   \n",
       "\n",
       "                                                                                                                          Collections  \\\n",
       "0    Food Hygiene Rated Restaurants in Hyderabad, Corporate Favorites, Great Buffets, Top-Rated, Gold Curated, Live Sports Screenings   \n",
       "1                                                                                                                 Hyderabad's Hottest   \n",
       "2                                                                                                  Great Buffets, Hyderabad's Hottest   \n",
       "3                                                                                                              Late Night Restaurants   \n",
       "4                         Best Bars & Pubs, Food Hygiene Rated Restaurants in Hyderabad, Top-Rated, Gold Curated, Hyderabad's Hottest   \n",
       "..                                                                                                                                ...   \n",
       "100                                                                                                                               NaN   \n",
       "101                                                                                                                               NaN   \n",
       "102                                                                                                                               NaN   \n",
       "103                                                                                                                               NaN   \n",
       "104                                                                                                              Pan-Asian Delicacies   \n",
       "\n",
       "                                                              Cuisines  \\\n",
       "0    Chinese, Continental, Kebab, European, South Indian, North Indian   \n",
       "1                                       Biryani, North Indian, Chinese   \n",
       "2                         Asian, Mediterranean, North Indian, Desserts   \n",
       "3                   Biryani, North Indian, Chinese, Seafood, Beverages   \n",
       "4             Asian, Continental, North Indian, Chinese, Mediterranean   \n",
       "..                                                                 ...   \n",
       "100                                                   Fast Food, Salad   \n",
       "101                                                     Bakery, Mithai   \n",
       "102                                     North Indian, Biryani, Chinese   \n",
       "103                                                          Fast Food   \n",
       "104                                    Thai, Asian, Chinese, Malaysian   \n",
       "\n",
       "                                                                      Timings  \n",
       "0                               12noon to 3:30pm, 6:30pm to 11:30pm (Mon-Sun)  \n",
       "1                                                              11 AM to 11 PM  \n",
       "2                                       11:30 AM to 4:30 PM, 6:30 PM to 11 PM  \n",
       "3                                                             12 Noon to 2 AM  \n",
       "4    12noon to 11pm (Mon, Tue, Wed, Thu, Sun), 12noon to 12midnight (Fri-Sat)  \n",
       "..                                                                        ...  \n",
       "100                                                            11 AM to 11 PM  \n",
       "101                      10 AM to 10 PM (Mon-Thu), 8 AM to 10:30 PM (Fri-Sun)  \n",
       "102                                                          12 Noon to 11 PM  \n",
       "103                                                  8am to 12:30AM (Mon-Sun)  \n",
       "104                                     11:30 AM to 3 PM, 7 PM to 12 Midnight  \n",
       "\n",
       "[105 rows x 5 columns]"
      ]
     },
     "execution_count": 3,
     "metadata": {},
     "output_type": "execute_result"
    }
   ],
   "source": [
    "restaurants"
   ]
  },
  {
   "cell_type": "code",
   "execution_count": 4,
   "metadata": {},
   "outputs": [],
   "source": [
    "#Turning collunm cost to int\n",
    "restaurants['Cost'] = restaurants['Cost'].str.replace(',', '').astype(int)"
   ]
  },
  {
   "cell_type": "markdown",
   "metadata": {},
   "source": [
    "### Solving null value in `Timings`\n"
   ]
  },
  {
   "cell_type": "code",
   "execution_count": 5,
   "metadata": {},
   "outputs": [],
   "source": [
    "restaurants[restaurants['Timings'].isnull()] #there is a missing value in timings\n",
    "#After visiting zomato website we took the timetable of this restaurant\n",
    "restaurants.loc[restaurants['Timings'].isnull(), 'Timings'] = '12AM to 3:30pm, 7pm to 11pm (Mon-Sun)'"
   ]
  },
  {
   "cell_type": "markdown",
   "metadata": {},
   "source": [
    "### Collections and Cuisines regex alteration\n"
   ]
  },
  {
   "cell_type": "code",
   "execution_count": 6,
   "metadata": {},
   "outputs": [],
   "source": [
    "# Putting this 2 collumns in a list\n",
    "restaurants['Collections'] = restaurants['Collections'].str.replace(r',\\s+', ',', regex=True).str.split(',')\n",
    "restaurants['Cuisines']=restaurants['Cuisines'].str.replace(r',\\s+', ',', regex=True).str.split(',')"
   ]
  },
  {
   "cell_type": "code",
   "execution_count": 7,
   "metadata": {},
   "outputs": [],
   "source": [
    "restaurants['N_collections'] = restaurants['Collections'].apply(lambda x: len(x) if type(x)==list else 0)"
   ]
  },
  {
   "cell_type": "markdown",
   "metadata": {},
   "source": [
    "### Creating a Open and Close Time column"
   ]
  },
  {
   "cell_type": "code",
   "execution_count": 8,
   "metadata": {},
   "outputs": [],
   "source": [
    "def capture_open_close_times(numbers_list):\n",
    "    result = []\n",
    "    for string in numbers_list:\n",
    "        # Find all numbers in the string\n",
    "        numbers = re.findall(r'\\d+', string)\n",
    "        if numbers:   \n",
    "            # Capture the first (opening time) and determine closing time\n",
    "            opening_time = numbers[0]\n",
    "            if numbers[-1] in ('15', '30', '40'):\n",
    "                closing_time = numbers[-2] if len(numbers) > 1 else None  # Use second-to-last if available\n",
    "            else:\n",
    "                closing_time = numbers[-1]  # Use last if not 15, 30, or 40\n",
    "\n",
    "            # Transform closing time if it's 10, 11, or 12\n",
    "            if closing_time in ['10', '11', '12']:\n",
    "                closing_time = str(int(closing_time) + 12)\n",
    "\n",
    "            # Transform opening time if it's 12, 1, 4, or 5\n",
    "            if opening_time in ['1', '4', '5']:\n",
    "                opening_time = str(int(opening_time) + 12)\n",
    "\n",
    "            # Append the transformed opening and closing times to the result\n",
    "            result.append((opening_time, closing_time))\n",
    "\n",
    "    return result\n",
    "\n",
    "# Get a list of tuples (opening time, closing time)\n",
    "open_close_times = capture_open_close_times(restaurants['Timings'])\n",
    "\n",
    "# Unpack opening and closing times into separate lists\n",
    "opening_times = [time[0] for time in open_close_times]\n",
    "closing_times = [time[1] for time in open_close_times]\n",
    "\n",
    "# Assign the lists to new columns in the DataFrame\n",
    "restaurants['open time'] = opening_times\n",
    "restaurants['closing time'] = closing_times\n",
    "restaurants.drop('Timings', axis=1, inplace=True)"
   ]
  },
  {
   "cell_type": "markdown",
   "metadata": {},
   "source": [
    "# <font color='#BFD72'>Reviews Initial Preprocessing</font>\n",
    "[Back to TOC](#toc)"
   ]
  },
  {
   "cell_type": "markdown",
   "metadata": {},
   "source": [
    "### Removing duplicated rows and rows that contain no information"
   ]
  },
  {
   "cell_type": "code",
   "execution_count": 9,
   "metadata": {},
   "outputs": [],
   "source": [
    "reviews.drop_duplicates(inplace=True)"
   ]
  },
  {
   "cell_type": "code",
   "execution_count": 10,
   "metadata": {},
   "outputs": [
    {
     "data": {
      "text/html": [
       "<div>\n",
       "<style scoped>\n",
       "    .dataframe tbody tr th:only-of-type {\n",
       "        vertical-align: middle;\n",
       "    }\n",
       "\n",
       "    .dataframe tbody tr th {\n",
       "        vertical-align: top;\n",
       "    }\n",
       "\n",
       "    .dataframe thead th {\n",
       "        text-align: right;\n",
       "    }\n",
       "</style>\n",
       "<table border=\"1\" class=\"dataframe\">\n",
       "  <thead>\n",
       "    <tr style=\"text-align: right;\">\n",
       "      <th></th>\n",
       "      <th>Restaurant</th>\n",
       "      <th>Reviewer</th>\n",
       "      <th>Review</th>\n",
       "      <th>Rating</th>\n",
       "      <th>Metadata</th>\n",
       "      <th>Time</th>\n",
       "      <th>Pictures</th>\n",
       "    </tr>\n",
       "  </thead>\n",
       "  <tbody>\n",
       "    <tr>\n",
       "      <th>2360</th>\n",
       "      <td>Amul</td>\n",
       "      <td>Lakshmi Narayana</td>\n",
       "      <td>NaN</td>\n",
       "      <td>5</td>\n",
       "      <td>0 Reviews</td>\n",
       "      <td>7/29/2018 18:00</td>\n",
       "      <td>0</td>\n",
       "    </tr>\n",
       "    <tr>\n",
       "      <th>5799</th>\n",
       "      <td>Being Hungry</td>\n",
       "      <td>Surya</td>\n",
       "      <td>NaN</td>\n",
       "      <td>5</td>\n",
       "      <td>4 Reviews , 4 Followers</td>\n",
       "      <td>7/19/2018 23:55</td>\n",
       "      <td>0</td>\n",
       "    </tr>\n",
       "    <tr>\n",
       "      <th>6449</th>\n",
       "      <td>Hyderabad Chefs</td>\n",
       "      <td>Madhurimanne97</td>\n",
       "      <td>NaN</td>\n",
       "      <td>5</td>\n",
       "      <td>1 Review</td>\n",
       "      <td>7/23/2018 16:29</td>\n",
       "      <td>0</td>\n",
       "    </tr>\n",
       "    <tr>\n",
       "      <th>6489</th>\n",
       "      <td>Hyderabad Chefs</td>\n",
       "      <td>Harsha</td>\n",
       "      <td>NaN</td>\n",
       "      <td>5</td>\n",
       "      <td>1 Review</td>\n",
       "      <td>7/8/2018 21:19</td>\n",
       "      <td>0</td>\n",
       "    </tr>\n",
       "    <tr>\n",
       "      <th>7954</th>\n",
       "      <td>Olive Garden</td>\n",
       "      <td>ARUGULLA PRAVEEN KUMAR</td>\n",
       "      <td>NaN</td>\n",
       "      <td>3</td>\n",
       "      <td>1 Review , 1 Follower</td>\n",
       "      <td>8/9/2018 23:25</td>\n",
       "      <td>0</td>\n",
       "    </tr>\n",
       "    <tr>\n",
       "      <th>8228</th>\n",
       "      <td>Al Saba Restaurant</td>\n",
       "      <td>Suresh</td>\n",
       "      <td>NaN</td>\n",
       "      <td>5</td>\n",
       "      <td>1 Review</td>\n",
       "      <td>7/20/2018 22:42</td>\n",
       "      <td>0</td>\n",
       "    </tr>\n",
       "    <tr>\n",
       "      <th>8777</th>\n",
       "      <td>American Wild Wings</td>\n",
       "      <td>NaN</td>\n",
       "      <td>NaN</td>\n",
       "      <td>NaN</td>\n",
       "      <td>NaN</td>\n",
       "      <td>NaN</td>\n",
       "      <td>0</td>\n",
       "    </tr>\n",
       "    <tr>\n",
       "      <th>8844</th>\n",
       "      <td>Domino's Pizza</td>\n",
       "      <td>Sayan Gupta</td>\n",
       "      <td>NaN</td>\n",
       "      <td>5</td>\n",
       "      <td>2 Reviews , 2 Followers</td>\n",
       "      <td>8/9/2018 21:41</td>\n",
       "      <td>0</td>\n",
       "    </tr>\n",
       "    <tr>\n",
       "      <th>9085</th>\n",
       "      <td>Arena Eleven</td>\n",
       "      <td>NaN</td>\n",
       "      <td>NaN</td>\n",
       "      <td>NaN</td>\n",
       "      <td>NaN</td>\n",
       "      <td>NaN</td>\n",
       "      <td>0</td>\n",
       "    </tr>\n",
       "  </tbody>\n",
       "</table>\n",
       "</div>"
      ],
      "text/plain": [
       "               Restaurant                Reviewer Review Rating  \\\n",
       "2360                 Amul        Lakshmi Narayana    NaN      5   \n",
       "5799         Being Hungry                   Surya    NaN      5   \n",
       "6449      Hyderabad Chefs          Madhurimanne97    NaN      5   \n",
       "6489      Hyderabad Chefs                  Harsha    NaN      5   \n",
       "7954         Olive Garden  ARUGULLA PRAVEEN KUMAR    NaN      3   \n",
       "8228   Al Saba Restaurant                  Suresh    NaN      5   \n",
       "8777  American Wild Wings                     NaN    NaN    NaN   \n",
       "8844       Domino's Pizza             Sayan Gupta    NaN      5   \n",
       "9085         Arena Eleven                     NaN    NaN    NaN   \n",
       "\n",
       "                     Metadata             Time  Pictures  \n",
       "2360                0 Reviews  7/29/2018 18:00         0  \n",
       "5799  4 Reviews , 4 Followers  7/19/2018 23:55         0  \n",
       "6449                 1 Review  7/23/2018 16:29         0  \n",
       "6489                 1 Review   7/8/2018 21:19         0  \n",
       "7954    1 Review , 1 Follower   8/9/2018 23:25         0  \n",
       "8228                 1 Review  7/20/2018 22:42         0  \n",
       "8777                      NaN              NaN         0  \n",
       "8844  2 Reviews , 2 Followers   8/9/2018 21:41         0  \n",
       "9085                      NaN              NaN         0  "
      ]
     },
     "execution_count": 10,
     "metadata": {},
     "output_type": "execute_result"
    }
   ],
   "source": [
    "reviews[reviews.isna().any(axis=1)]"
   ]
  },
  {
   "cell_type": "code",
   "execution_count": 11,
   "metadata": {},
   "outputs": [],
   "source": [
    "reviews.dropna(subset='Review', axis=0, inplace=True)"
   ]
  },
  {
   "cell_type": "markdown",
   "metadata": {},
   "source": [
    "### Rating fix LIKE"
   ]
  },
  {
   "cell_type": "code",
   "execution_count": 13,
   "metadata": {},
   "outputs": [
    {
     "data": {
      "text/plain": [
       "5       3826\n",
       "4       2373\n",
       "1       1735\n",
       "3       1192\n",
       "2        684\n",
       "4.5       69\n",
       "3.5       47\n",
       "2.5       19\n",
       "1.5        9\n",
       "Like       1\n",
       "Name: Rating, dtype: int64"
      ]
     },
     "execution_count": 13,
     "metadata": {},
     "output_type": "execute_result"
    }
   ],
   "source": [
    "reviews.Rating.value_counts()"
   ]
  },
  {
   "cell_type": "code",
   "execution_count": 14,
   "metadata": {},
   "outputs": [
    {
     "data": {
      "text/html": [
       "<div>\n",
       "<style scoped>\n",
       "    .dataframe tbody tr th:only-of-type {\n",
       "        vertical-align: middle;\n",
       "    }\n",
       "\n",
       "    .dataframe tbody tr th {\n",
       "        vertical-align: top;\n",
       "    }\n",
       "\n",
       "    .dataframe thead th {\n",
       "        text-align: right;\n",
       "    }\n",
       "</style>\n",
       "<table border=\"1\" class=\"dataframe\">\n",
       "  <thead>\n",
       "    <tr style=\"text-align: right;\">\n",
       "      <th></th>\n",
       "      <th>Restaurant</th>\n",
       "      <th>Reviewer</th>\n",
       "      <th>Review</th>\n",
       "      <th>Rating</th>\n",
       "      <th>Metadata</th>\n",
       "      <th>Time</th>\n",
       "      <th>Pictures</th>\n",
       "    </tr>\n",
       "  </thead>\n",
       "  <tbody>\n",
       "    <tr>\n",
       "      <th>7601</th>\n",
       "      <td>The Old Madras Baking Company</td>\n",
       "      <td>Dhanasekar Kannan</td>\n",
       "      <td>One of the best pizzas to try. It served with the fresh crust and the topping of veggies are fresh and the taste of the ingredients was awesome and it is fully overloaded with Cheese. I would like to recommend to try every Time I wager for pizza</td>\n",
       "      <td>Like</td>\n",
       "      <td>12 Reviews , 21 Followers</td>\n",
       "      <td>5/18/2019 12:31</td>\n",
       "      <td>1</td>\n",
       "    </tr>\n",
       "  </tbody>\n",
       "</table>\n",
       "</div>"
      ],
      "text/plain": [
       "                         Restaurant           Reviewer  \\\n",
       "7601  The Old Madras Baking Company  Dhanasekar Kannan   \n",
       "\n",
       "                                                                                                                                                                                                                                                     Review  \\\n",
       "7601  One of the best pizzas to try. It served with the fresh crust and the topping of veggies are fresh and the taste of the ingredients was awesome and it is fully overloaded with Cheese. I would like to recommend to try every Time I wager for pizza   \n",
       "\n",
       "     Rating                   Metadata             Time  Pictures  \n",
       "7601   Like  12 Reviews , 21 Followers  5/18/2019 12:31         1  "
      ]
     },
     "execution_count": 14,
     "metadata": {},
     "output_type": "execute_result"
    }
   ],
   "source": [
    "reviews[reviews['Rating']=='Like']"
   ]
  },
  {
   "cell_type": "code",
   "execution_count": 15,
   "metadata": {},
   "outputs": [],
   "source": [
    "reviews.at[7601, 'Rating'] = 5"
   ]
  },
  {
   "cell_type": "code",
   "execution_count": 16,
   "metadata": {},
   "outputs": [],
   "source": [
    "reviews['Rating'] = reviews['Rating'].astype(float)"
   ]
  },
  {
   "cell_type": "markdown",
   "metadata": {},
   "source": [
    "### Tranforming ₹ into rupias and * into stars"
   ]
  },
  {
   "cell_type": "code",
   "execution_count": 17,
   "metadata": {},
   "outputs": [],
   "source": [
    "reviews['Review'] = reviews['Review'].str.replace('₹', 'rupees')\n",
    "reviews['Review'] = reviews['Review'].str.replace('*', '⭐')"
   ]
  },
  {
   "cell_type": "markdown",
   "metadata": {},
   "source": [
    "### Extracting number of reviews and followers"
   ]
  },
  {
   "cell_type": "code",
   "execution_count": 18,
   "metadata": {},
   "outputs": [],
   "source": [
    "# Extract the number of reviews, followers\n",
    "reviews['N_reviews'] = reviews['Metadata'].str.extract(r'(\\d+)\\s+Review')\n",
    "reviews['Followers'] = reviews['Metadata'].str.extract(r'(\\d+)\\s+Follower')\n",
    "\n",
    "reviews['N_reviews'] = reviews['N_reviews'].astype('Int64')\n",
    "reviews['Followers'] = reviews['Followers'].astype('Int64')\n",
    "reviews=reviews.drop('Metadata', axis=1)"
   ]
  },
  {
   "cell_type": "markdown",
   "metadata": {},
   "source": [
    "### Extracting Date information"
   ]
  },
  {
   "cell_type": "code",
   "execution_count": 19,
   "metadata": {},
   "outputs": [],
   "source": [
    "reviews['Time'] = pd.to_datetime(reviews['Time'])\n",
    "\n",
    "reviews['Month'] = reviews['Time'].dt.month.astype(int)\n",
    "reviews['Year'] = reviews['Time'].dt.year.astype(int)\n",
    "\n",
    "reviews['Weekend'] = reviews['Time'].dt.weekday.apply(lambda x: 1 if x >= 5 else 0)"
   ]
  },
  {
   "cell_type": "markdown",
   "metadata": {},
   "source": [
    "### Creating post meal collumn"
   ]
  },
  {
   "cell_type": "code",
   "execution_count": 20,
   "metadata": {},
   "outputs": [],
   "source": [
    "reviews['Hour'] = reviews['Time'].dt.hour\n",
    "\n",
    "# Create the 'Post_Meal' column based on the hour ranges for lunch and dinner\n",
    "# Lunch: 13-15, Dinner: 20-23\n",
    "reviews['Post_Meal'] = reviews['Hour'].apply(lambda x: 1 if (13 <= x <= 15) or (20 <= x <= 23) else 0)\n",
    "reviews.drop('Hour', axis=1, inplace=True)"
   ]
  },
  {
   "cell_type": "markdown",
   "metadata": {},
   "source": [
    "### Creating other exploratory columns"
   ]
  },
  {
   "cell_type": "code",
   "execution_count": 21,
   "metadata": {},
   "outputs": [],
   "source": [
    "reviews[\"rev_len\"] = reviews[\"Review\"].map(lambda content : len(str(content)))\n",
    "reviews[\"sents\"] = reviews[\"Review\"].map(lambda content :sent_tokenizer.tokenize(str(content)))\n",
    "reviews[\"nr_sents\"] = reviews[\"sents\"].map(lambda content : len(content))\n",
    "reviews=reviews.drop('sents',axis=1)"
   ]
  },
  {
   "cell_type": "code",
   "execution_count": 22,
   "metadata": {},
   "outputs": [],
   "source": [
    "restaurants.to_pickle('data/restaurants_initial_preproc.pkl')\n",
    "reviews.to_pickle('data/reviews_initial_preproc.pkl')"
   ]
  }
 ],
 "metadata": {
  "kernelspec": {
   "display_name": "tm",
   "language": "python",
   "name": "python3"
  },
  "language_info": {
   "codemirror_mode": {
    "name": "ipython",
    "version": 3
   },
   "file_extension": ".py",
   "mimetype": "text/x-python",
   "name": "python",
   "nbconvert_exporter": "python",
   "pygments_lexer": "ipython3",
   "version": "3.10.9"
  }
 },
 "nbformat": 4,
 "nbformat_minor": 2
}
