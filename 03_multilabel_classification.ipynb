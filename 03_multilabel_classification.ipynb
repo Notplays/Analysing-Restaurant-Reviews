{
 "cells": [
  {
   "cell_type": "markdown",
   "id": "b77b36da",
   "metadata": {},
   "source": [
    "#### NOVA IMS / BSc in Data Science / Text Mining 2024/2025\n",
    "### <b>Group Project: \"Solving the Hyderabadi Word Soup\"</b>\n",
    "#### Notebook `Multilabel Classification`\n",
    "\n",
    "#### Group 10:\n",
    "- `Adriana Pinto - 20221921`\n",
    "- `David Duarte - 20221899`\n",
    "- `Maria Teresa Silva - 20221821`\n",
    "- `Marta Alves - 20221890`\n",
    "- `Miguel Nascimento - 20221876`\n",
    "\n",
    "#### <font color='#BFD72'>Table of Contents </font> <a class=\"anchor\" id='toc'></a> \n",
    "- [1. Import Packages and Data](#P1)\n",
    "- [2. General Data Preparation](#P2) \n",
    "    - [2.1 Giberish cleaning and data cleaning](#P25) \n",
    "    - [2.2 Prepare Data to Model](#P26)\n",
    "- [3. Vectorization Methods and Models](#P3)\n",
    "    - [3.1 Bag of Words](#P4)\n",
    "        - [3.1.1 One vs Rest Classifier ](#P5)\n",
    "        - [3.1.2 Chain Classifier with Logistic Regression](#P6)\n",
    "        - [3.1.3 Chain Classifier with Random Forest](#7)\n",
    "        - [3.1.4 Label Powerset with Logistic Regression](#P8)\n",
    "        - [3.1.5 Label Powerset with Random Forest](#P9)\n",
    "    - [3.2 TF-IDF](#10)\n",
    "        - [3.2.1 One vs Rest Classifier ](#P11)\n",
    "        - [3.2.2 Chain Classifier with Logistic Regression](#P12)\n",
    "        - [3.2.3 Chain Classifier with Random Forest](#P13)\n",
    "        - [3.2.4 Label Powerset with Logistic Regression](#P14)\n",
    "        - [3.2.5 Label Powerset with Random Forest](#P15)\n",
    "    - [3.3 Doc2Vec](#P16)\n",
    "        - [3.3.1 One vs Rest Classifier ](#P17)\n",
    "        - [3.3.2 Chain Classifier with Logistic Regression](#P18)\n",
    "        - [3.3.3 Chain Classifier with Random Forest](#P19)\n",
    "        - [3.3.4 Label Powerset with Logistic Regression](#P20)\n",
    "        - [3.3.5 Label Powerset with Random Forest](#P21)\n",
    "        - [3.3.6 LSTM](#P22)\n",
    "- [4. Grid Search](#P23)\n",
    "    - [4.1 Grid Search only for models (Hold Out Method)](#P28)\n",
    "    - [4.2 Grid Search Pipeline (Hold Out Method)](#P29)\n",
    "- [5. Best Model](#P24)\n",
    "- [6. Classification Report](#P27)\n"
   ]
  },
  {
   "cell_type": "markdown",
   "id": "0838000e",
   "metadata": {},
   "source": [
    "<font color='#BFD72F' size=5>1. Import Packages and Data</font> <a class=\"anchor\" id=\"P1\"></a>\n",
    "  \n",
    "[Back to TOC](#toc)"
   ]
  },
  {
   "cell_type": "code",
   "execution_count": 4,
   "id": "bf62198b-9eaa-438e-acd2-3107d2f33cdb",
   "metadata": {},
   "outputs": [],
   "source": [
    "# General-Purpose\n",
    "import os\n",
    "import re\n",
    "import numpy as np\n",
    "import pandas as pd\n",
    "from collections import Counter\n",
    "from itertools import product\n",
    "\n",
    "\n",
    "# Sklearn\n",
    "from sklearn.model_selection import train_test_split\n",
    "from sklearn.preprocessing import MultiLabelBinarizer\n",
    "from sklearn.multioutput import ClassifierChain\n",
    "from skmultilearn.problem_transform import LabelPowerset\n",
    "from sklearn.multiclass import OneVsRestClassifier\n",
    "from sklearn.linear_model import LogisticRegression\n",
    "from sklearn.pipeline import Pipeline\n",
    "from sklearn.metrics import f1_score, classification_report\n",
    "from sklearn.ensemble import RandomForestClassifier\n",
    "from sklearn.feature_extraction.text import CountVectorizer, TfidfVectorizer\n",
    "\n",
    "from gensim.models.doc2vec import Doc2Vec, TaggedDocument\n",
    "from nltk.tokenize import word_tokenize\n",
    "\n",
    "# Custom Functions/Modules\n",
    "from utils.gibberish_detector import classify_gibberish\n",
    "from utils.preproc_utils import main_pipeline\n",
    "\n",
    "# Visualization\n",
    "import matplotlib.pyplot as plt\n",
    "import seaborn as sns"
   ]
  },
  {
   "cell_type": "code",
   "execution_count": 5,
   "id": "06420aee-5e05-42df-82fd-0d1a4de0903f",
   "metadata": {},
   "outputs": [],
   "source": [
    "reviews = pd.read_pickle('data/reviews_initial_preproc.pkl')"
   ]
  },
  {
   "cell_type": "code",
   "execution_count": 6,
   "id": "4d62f323-1bc8-4746-a119-8e49c017cb8f",
   "metadata": {},
   "outputs": [],
   "source": [
    "restaurants = pd.read_pickle('data/restaurants_initial_preproc.pkl')"
   ]
  },
  {
   "cell_type": "markdown",
   "id": "8d1af057",
   "metadata": {},
   "source": [
    "<font color='#BFD72F' size=5>2. General Data Preparation</font> <a class=\"anchor\" id=\"P2\"></a>\n",
    "  "
   ]
  },
  {
   "cell_type": "markdown",
   "id": "e75668ec",
   "metadata": {},
   "source": [
    "#### 2.1 Giberish cleaning and data cleaning\n",
    "\n",
    "[Back to TOC](#toc)"
   ]
  },
  {
   "cell_type": "markdown",
   "id": "93ed7cec",
   "metadata": {},
   "source": [
    "As we will be doing multilabel classification, we will be removing observations that doesn't seem fit to this task, as noisy reviews and black reviews are one of them. So we will proceed to remove reviews that has a gibberish score higher than 96. "
   ]
  },
  {
   "cell_type": "code",
   "execution_count": 7,
   "id": "5a9286e8-f6d9-4e46-81e1-c3ded71ac186",
   "metadata": {},
   "outputs": [],
   "source": [
    "reviews[\"is_giberish\"] =\\\n",
    "      reviews[\"Review\"].apply(lambda review : classify_gibberish(str(review)))"
   ]
  },
  {
   "cell_type": "code",
   "execution_count": 8,
   "id": "fd2f1b82",
   "metadata": {},
   "outputs": [],
   "source": [
    "#reviews[reviews['is_giberish']>96][\"Review\"]\n",
    "reviews = reviews[reviews['is_giberish']<96]"
   ]
  },
  {
   "cell_type": "markdown",
   "id": "85228a08",
   "metadata": {},
   "source": [
    "Clean Reviews"
   ]
  },
  {
   "cell_type": "code",
   "execution_count": 9,
   "id": "8212cdc9-d5b3-49cd-9d6e-58a41df23bdc",
   "metadata": {},
   "outputs": [],
   "source": [
    "reviews['rev_proc'] = reviews['Review'].apply(lambda review: main_pipeline(review, \n",
    "                  no_stopwords = True,\n",
    "                  convert_diacritics = True, \n",
    "                  lowercase = True, \n",
    "                  lemmatized = True,\n",
    "                  list_pos = [\"n\",\"v\",\"a\",\"r\",\"s\"],\n",
    "                  stemmed = False, \n",
    "                  pos_tags_list = \"no_pos\",\n",
    "                  tokenized_output = False,\n",
    "                  no_emojis = True,\n",
    "                  no_hashtags = True,\n",
    "                  hashtag_retain_words = True,\n",
    "                  no_urls = True,\n",
    "                  no_punctuation = True))"
   ]
  },
  {
   "cell_type": "markdown",
   "id": "2c3b5e0f",
   "metadata": {},
   "source": [
    "Check again if there are Null or blank reviews"
   ]
  },
  {
   "cell_type": "code",
   "execution_count": 10,
   "id": "fb387cce-bf60-4b92-9f5a-ae788ca08e40",
   "metadata": {},
   "outputs": [
    {
     "name": "stdout",
     "output_type": "stream",
     "text": [
      "0\n",
      "       Restaurant Reviewer Review  Rating                Time  Pictures  \\\n",
      "7360  Driven Cafe   Manish    its     1.0 2018-07-28 15:28:00         0   \n",
      "\n",
      "      N_reviews  Followers  Month  Year  Weekend  Post_Meal  rev_len  \\\n",
      "7360          2          4      7  2018        1          1        3   \n",
      "\n",
      "      nr_sents  is_giberish rev_proc  \n",
      "7360         1    82.151002           \n"
     ]
    }
   ],
   "source": [
    "# Check if there are any NaN values \n",
    "print(reviews['rev_proc'].isnull().sum())  \n",
    "\n",
    "# Check if there are any empty reviews\n",
    "print(reviews[reviews['rev_proc'] == ''])  \n",
    "\n",
    "# Remove rows where 'rev_proc' is either NaN or empty\n",
    "reviews = reviews[reviews['rev_proc'].notna()]  \n",
    "reviews = reviews[reviews['rev_proc'] != '']   "
   ]
  },
  {
   "cell_type": "markdown",
   "id": "f106df1a",
   "metadata": {},
   "source": [
    "#### 2.2 Prepare Data to Model"
   ]
  },
  {
   "cell_type": "markdown",
   "id": "45144179",
   "metadata": {},
   "source": [
    "Concat the Cuisines to the Reviews dataset so the text and label are together."
   ]
  },
  {
   "cell_type": "code",
   "execution_count": 11,
   "id": "4ce8e6e7-c022-4a50-b851-3308af53976c",
   "metadata": {},
   "outputs": [],
   "source": [
    "reviews_with_cuisine = pd.merge(reviews, restaurants[['Name', 'Cuisines']], left_on='Restaurant', right_on='Name', how='left')\n",
    "\n",
    "# Drop the extra 'Name' column after merging\n",
    "reviews_with_cuisine.drop('Name', axis=1, inplace=True)"
   ]
  },
  {
   "cell_type": "code",
   "execution_count": 12,
   "id": "d492e0e3",
   "metadata": {},
   "outputs": [
    {
     "data": {
      "text/plain": [
       "Counter({'Chinese': 4080,\n",
       "         'Continental': 2084,\n",
       "         'Kebab': 600,\n",
       "         'European': 400,\n",
       "         'South Indian': 898,\n",
       "         'North Indian': 5974,\n",
       "         'Biryani': 1487,\n",
       "         'Asian': 1400,\n",
       "         'Mediterranean': 500,\n",
       "         'Desserts': 1297,\n",
       "         'Seafood': 398,\n",
       "         'Beverages': 499,\n",
       "         'Goan': 100,\n",
       "         'Healthy Food': 100,\n",
       "         'Lebanese': 100,\n",
       "         'American': 576,\n",
       "         'Ice Cream': 199,\n",
       "         'Street Food': 200,\n",
       "         'Fast Food': 1267,\n",
       "         'BBQ': 200,\n",
       "         'Italian': 1400,\n",
       "         'Finger Food': 200,\n",
       "         'Burger': 474,\n",
       "         'Japanese': 200,\n",
       "         'Salad': 377,\n",
       "         'Sushi': 400,\n",
       "         'Mexican': 100,\n",
       "         'Mughlai': 599,\n",
       "         'Andhra': 594,\n",
       "         'Bakery': 599,\n",
       "         'Juices': 100,\n",
       "         'Arabian': 200,\n",
       "         'Hyderabadi': 395,\n",
       "         'Cafe': 598,\n",
       "         'Spanish': 100,\n",
       "         'Wraps': 100,\n",
       "         'Thai': 200,\n",
       "         'Indonesian': 100,\n",
       "         'Modern Indian': 200,\n",
       "         'Momos': 400,\n",
       "         'Pizza': 98,\n",
       "         'North Eastern': 100})"
      ]
     },
     "execution_count": 12,
     "metadata": {},
     "output_type": "execute_result"
    }
   ],
   "source": [
    "# Flatten the list of lists\n",
    "flattened_cuisines = [label for sublist in reviews_with_cuisine['Cuisines'] for label in sublist]\n",
    "\n",
    "Counter(flattened_cuisines)"
   ]
  },
  {
   "cell_type": "markdown",
   "id": "b956ea30",
   "metadata": {},
   "source": [
    "Transforming the labels and split the data into train and test datasets."
   ]
  },
  {
   "cell_type": "code",
   "execution_count": 13,
   "id": "21898a39-45a1-480d-947d-8987584ce3f0",
   "metadata": {},
   "outputs": [],
   "source": [
    "mlb = MultiLabelBinarizer()\n",
    "binarised_labels = mlb.fit_transform(reviews_with_cuisine[\"Cuisines\"])\n",
    "reviews_with_cuisine[\"label_cuisines\"] = binarised_labels.tolist()"
   ]
  },
  {
   "cell_type": "code",
   "execution_count": 14,
   "id": "2a0d2568",
   "metadata": {},
   "outputs": [],
   "source": [
    "X_train_q1, X_test_q1, y_train_q1, y_test_q1 = train_test_split(reviews_with_cuisine['rev_proc'], binarised_labels, stratify= binarised_labels, test_size=0.2, random_state=0)"
   ]
  },
  {
   "cell_type": "markdown",
   "id": "a6b2346b",
   "metadata": {},
   "source": [
    "Define a function to evaluate the models."
   ]
  },
  {
   "cell_type": "code",
   "execution_count": 11,
   "id": "2890fc4d",
   "metadata": {},
   "outputs": [],
   "source": [
    "def fold_score_calculator(y_pred, y_test, verbose=False):\n",
    "    \n",
    "    #6. Compute the binary classification scores (accuracy, precision, recall, F1, AUC) for the fold.\n",
    "    acc = metrics.accuracy_score(y_test, y_pred)\n",
    "    prec = metrics.precision_score(y_test, y_pred, average=\"weighted\")\n",
    "    recall = metrics.recall_score(y_test, y_pred, average=\"weighted\")\n",
    "    f1 = metrics.f1_score(y_test, y_pred, average=\"weighted\")\n",
    "\n",
    "    if verbose == True:\n",
    "        print(\"Accuracy: {} \\nPrecision: {} \\nRecall: {} \\nF1: {}\".format(acc,prec,recall,f1))\n",
    "    return (acc, prec, recall, f1)"
   ]
  },
  {
   "cell_type": "markdown",
   "id": "1c028e79",
   "metadata": {},
   "source": [
    "<font color='#BFD72F' size=5>3. Vectorization Methods and Models</font> <a class=\"anchor\" id=\"P3\"></a>\n",
    "  \n",
    "[Back to TOC](#toc)"
   ]
  },
  {
   "cell_type": "markdown",
   "id": "fa54b308",
   "metadata": {},
   "source": [
    "The goal of this section is to develop models that can correctly predict the cuisine type of a restaurant based on a review."
   ]
  },
  {
   "cell_type": "markdown",
   "id": "64f12509",
   "metadata": {},
   "source": [
    "#### 3.1 Bag of Words\n",
    "  \n"
   ]
  },
  {
   "cell_type": "code",
   "execution_count": 15,
   "id": "0e994d26",
   "metadata": {},
   "outputs": [],
   "source": [
    "# Train\n",
    "bigram_count_vectorizer = CountVectorizer(ngram_range=(1, 1), token_pattern=r\"(?u)\\b\\w+\\b\")\n",
    "reviews_bow_td_matrix_train = bigram_count_vectorizer.fit_transform(X_train_q1).toarray()\n",
    "\n",
    "# Test\n",
    "reviews_bow_td_matrix_test = bigram_count_vectorizer.transform(X_test_q1).toarray()"
   ]
  },
  {
   "cell_type": "markdown",
   "id": "6edf7b23",
   "metadata": {},
   "source": [
    "##### 3.1.1 One vs Rest Classifier\n",
    "\n",
    "[Back to TOC](#toc)"
   ]
  },
  {
   "cell_type": "code",
   "execution_count": 136,
   "id": "d2068acd-07fd-4073-a12f-a4c9659af8e0",
   "metadata": {},
   "outputs": [],
   "source": [
    "#Test the OneVsRest classifier\n",
    "ovm = OneVsRestClassifier(LogisticRegression(solver='lbfgs',C=0.05, max_iter=200,penalty='l2',multi_class='auto',  random_state=0, class_weight=\"balanced\")).fit(reviews_bow_td_matrix_train, y_train_q1)\n"
   ]
  },
  {
   "cell_type": "code",
   "execution_count": 137,
   "id": "b1747b81",
   "metadata": {},
   "outputs": [],
   "source": [
    "y_pred_q1_test = ovm.predict(reviews_bow_td_matrix_test)\n",
    "y_pred_q1_train = ovm.predict(reviews_bow_td_matrix_train)"
   ]
  },
  {
   "cell_type": "markdown",
   "id": "fa8b6ac9",
   "metadata": {},
   "source": [
    "Evaluate the model in the train and test datasets."
   ]
  },
  {
   "cell_type": "code",
   "execution_count": 141,
   "id": "b1840213",
   "metadata": {},
   "outputs": [
    {
     "name": "stdout",
     "output_type": "stream",
     "text": [
      "Accuracy: 0.13990941117262204 \n",
      "Precision: 0.5608989303921423 \n",
      "Recall: 0.9024818250188017 \n",
      "F1: 0.6676803167268235\n"
     ]
    },
    {
     "data": {
      "text/plain": [
       "(0.13990941117262204,\n",
       " 0.5608989303921423,\n",
       " 0.9024818250188017,\n",
       " 0.6676803167268235)"
      ]
     },
     "execution_count": 141,
     "metadata": {},
     "output_type": "execute_result"
    }
   ],
   "source": [
    "# Train Dataset\n",
    "fold_score_calculator(y_pred_q1_train, y_train_q1, verbose=True) "
   ]
  },
  {
   "cell_type": "code",
   "execution_count": 140,
   "id": "00e7c7c4-85ce-415c-b033-4eb31902ec55",
   "metadata": {},
   "outputs": [
    {
     "name": "stdout",
     "output_type": "stream",
     "text": [
      "Accuracy: 0.06844489179667841 \n",
      "Precision: 0.4619699853490687 \n",
      "Recall: 0.7072395920414647 \n",
      "F1: 0.5406250393978463\n"
     ]
    },
    {
     "data": {
      "text/plain": [
       "(0.06844489179667841,\n",
       " 0.4619699853490687,\n",
       " 0.7072395920414647,\n",
       " 0.5406250393978463)"
      ]
     },
     "execution_count": 140,
     "metadata": {},
     "output_type": "execute_result"
    }
   ],
   "source": [
    "# Test Dataset\n",
    "fold_score_calculator(y_pred_q1_test, y_test_q1, verbose=True) "
   ]
  },
  {
   "cell_type": "markdown",
   "id": "8212006e",
   "metadata": {},
   "source": [
    "##### 3.1.2 Chain Classifier with Logistic Regression\n",
    "\n",
    "[Back to TOC](#toc)"
   ]
  },
  {
   "cell_type": "code",
   "execution_count": null,
   "id": "0e2d8af4",
   "metadata": {},
   "outputs": [],
   "source": [
    "# Chain Classifier\n",
    "cchain = ClassifierChain(LogisticRegression(solver='lbfgs',C=0.05, max_iter=200,penalty='l2',multi_class='auto',  random_state=0, class_weight=\"balanced\"), order=\"random\").fit(reviews_bow_td_matrix_train, y_train_q1)"
   ]
  },
  {
   "cell_type": "code",
   "execution_count": 143,
   "id": "114bf45d",
   "metadata": {},
   "outputs": [],
   "source": [
    "y_pred_q1_test = cchain.predict(reviews_bow_td_matrix_test)\n",
    "y_pred_q1_train = cchain.predict(reviews_bow_td_matrix_train)"
   ]
  },
  {
   "cell_type": "markdown",
   "id": "be8ab1bf",
   "metadata": {},
   "source": [
    "Evaluate the model in the train and test datasets."
   ]
  },
  {
   "cell_type": "code",
   "execution_count": 144,
   "id": "98d21d81",
   "metadata": {},
   "outputs": [
    {
     "name": "stdout",
     "output_type": "stream",
     "text": [
      "Accuracy: 0.16570206341217916 \n",
      "Precision: 0.5629187633442166 \n",
      "Recall: 0.7500626723489596 \n",
      "F1: 0.6199312129311307\n"
     ]
    },
    {
     "data": {
      "text/plain": [
       "(0.16570206341217916,\n",
       " 0.5629187633442166,\n",
       " 0.7500626723489596,\n",
       " 0.6199312129311307)"
      ]
     },
     "execution_count": 144,
     "metadata": {},
     "output_type": "execute_result"
    }
   ],
   "source": [
    "fold_score_calculator(y_pred_q1_train, y_train_q1, verbose=True) #train"
   ]
  },
  {
   "cell_type": "code",
   "execution_count": 145,
   "id": "86794831-5f1f-4368-84e7-6deff970e459",
   "metadata": {},
   "outputs": [
    {
     "name": "stdout",
     "output_type": "stream",
     "text": [
      "Accuracy: 0.07649723200805233 \n",
      "Precision: 0.4629660603582245 \n",
      "Recall: 0.6122721952850694 \n",
      "F1: 0.5089417945514491\n"
     ]
    },
    {
     "data": {
      "text/plain": [
       "(0.07649723200805233,\n",
       " 0.4629660603582245,\n",
       " 0.6122721952850694,\n",
       " 0.5089417945514491)"
      ]
     },
     "execution_count": 145,
     "metadata": {},
     "output_type": "execute_result"
    }
   ],
   "source": [
    "fold_score_calculator(y_pred_q1_test, y_test_q1, verbose=True) #test"
   ]
  },
  {
   "cell_type": "markdown",
   "id": "71dca260",
   "metadata": {},
   "source": [
    "##### 3.1.3 Chain Classifier with Random Forest\n",
    "\n",
    "[Back to TOC](#toc)"
   ]
  },
  {
   "cell_type": "code",
   "execution_count": 132,
   "id": "4037ae61",
   "metadata": {},
   "outputs": [],
   "source": [
    "# Chain Classifier with Random Forest\n",
    "cchain = ClassifierChain(RandomForestClassifier(random_state=0, max_depth=9, class_weight=\"balanced\", n_jobs=-1, min_samples_split=10, min_samples_leaf=5), order=\"random\").fit(reviews_bow_td_matrix_train, y_train_q1)"
   ]
  },
  {
   "cell_type": "code",
   "execution_count": 133,
   "id": "f7220d07",
   "metadata": {},
   "outputs": [],
   "source": [
    "y_pred_q1_test = cchain.predict(reviews_bow_td_matrix_test)\n",
    "y_pred_q1_train = cchain.predict(reviews_bow_td_matrix_train)"
   ]
  },
  {
   "cell_type": "markdown",
   "id": "22c3123d",
   "metadata": {},
   "source": [
    "Evaluate the model in the train and test datasets."
   ]
  },
  {
   "cell_type": "code",
   "execution_count": 134,
   "id": "9b020505",
   "metadata": {},
   "outputs": [
    {
     "name": "stdout",
     "output_type": "stream",
     "text": [
      "Accuracy: 0.03975842979365878 \n",
      "Precision: 0.5011374820169979 \n",
      "Recall: 0.6486170301662907 \n",
      "F1: 0.545478820570234\n"
     ]
    },
    {
     "data": {
      "text/plain": [
       "(0.03975842979365878,\n",
       " 0.5011374820169979,\n",
       " 0.6486170301662907,\n",
       " 0.545478820570234)"
      ]
     },
     "execution_count": 134,
     "metadata": {},
     "output_type": "execute_result"
    }
   ],
   "source": [
    "fold_score_calculator(y_pred_q1_train, y_train_q1, verbose=True)"
   ]
  },
  {
   "cell_type": "code",
   "execution_count": 135,
   "id": "85adf8a8",
   "metadata": {},
   "outputs": [
    {
     "name": "stdout",
     "output_type": "stream",
     "text": [
      "Accuracy: 0.026170105686965275 \n",
      "Precision: 0.454861497607615 \n",
      "Recall: 0.5771610098645712 \n",
      "F1: 0.4907228521505041\n"
     ]
    },
    {
     "data": {
      "text/plain": [
       "(0.026170105686965275,\n",
       " 0.454861497607615,\n",
       " 0.5771610098645712,\n",
       " 0.4907228521505041)"
      ]
     },
     "execution_count": 135,
     "metadata": {},
     "output_type": "execute_result"
    }
   ],
   "source": [
    "fold_score_calculator(y_pred_q1_test, y_test_q1, verbose=True)"
   ]
  },
  {
   "cell_type": "markdown",
   "id": "f6126e5f",
   "metadata": {},
   "source": [
    "##### 3.1.4 Label Powerset with Logistic Regression\n",
    "\n",
    "[Back to TOC](#toc)"
   ]
  },
  {
   "cell_type": "code",
   "execution_count": 104,
   "id": "8edbfba4",
   "metadata": {},
   "outputs": [
    {
     "name": "stderr",
     "output_type": "stream",
     "text": [
      "[Parallel(n_jobs=1)]: Using backend SequentialBackend with 1 concurrent workers.\n",
      "[Parallel(n_jobs=1)]: Done   1 out of   1 | elapsed:   34.8s finished\n"
     ]
    },
    {
     "data": {
      "text/html": [
       "<style>#sk-container-id-9 {color: black;background-color: white;}#sk-container-id-9 pre{padding: 0;}#sk-container-id-9 div.sk-toggleable {background-color: white;}#sk-container-id-9 label.sk-toggleable__label {cursor: pointer;display: block;width: 100%;margin-bottom: 0;padding: 0.3em;box-sizing: border-box;text-align: center;}#sk-container-id-9 label.sk-toggleable__label-arrow:before {content: \"▸\";float: left;margin-right: 0.25em;color: #696969;}#sk-container-id-9 label.sk-toggleable__label-arrow:hover:before {color: black;}#sk-container-id-9 div.sk-estimator:hover label.sk-toggleable__label-arrow:before {color: black;}#sk-container-id-9 div.sk-toggleable__content {max-height: 0;max-width: 0;overflow: hidden;text-align: left;background-color: #f0f8ff;}#sk-container-id-9 div.sk-toggleable__content pre {margin: 0.2em;color: black;border-radius: 0.25em;background-color: #f0f8ff;}#sk-container-id-9 input.sk-toggleable__control:checked~div.sk-toggleable__content {max-height: 200px;max-width: 100%;overflow: auto;}#sk-container-id-9 input.sk-toggleable__control:checked~label.sk-toggleable__label-arrow:before {content: \"▾\";}#sk-container-id-9 div.sk-estimator input.sk-toggleable__control:checked~label.sk-toggleable__label {background-color: #d4ebff;}#sk-container-id-9 div.sk-label input.sk-toggleable__control:checked~label.sk-toggleable__label {background-color: #d4ebff;}#sk-container-id-9 input.sk-hidden--visually {border: 0;clip: rect(1px 1px 1px 1px);clip: rect(1px, 1px, 1px, 1px);height: 1px;margin: -1px;overflow: hidden;padding: 0;position: absolute;width: 1px;}#sk-container-id-9 div.sk-estimator {font-family: monospace;background-color: #f0f8ff;border: 1px dotted black;border-radius: 0.25em;box-sizing: border-box;margin-bottom: 0.5em;}#sk-container-id-9 div.sk-estimator:hover {background-color: #d4ebff;}#sk-container-id-9 div.sk-parallel-item::after {content: \"\";width: 100%;border-bottom: 1px solid gray;flex-grow: 1;}#sk-container-id-9 div.sk-label:hover label.sk-toggleable__label {background-color: #d4ebff;}#sk-container-id-9 div.sk-serial::before {content: \"\";position: absolute;border-left: 1px solid gray;box-sizing: border-box;top: 0;bottom: 0;left: 50%;z-index: 0;}#sk-container-id-9 div.sk-serial {display: flex;flex-direction: column;align-items: center;background-color: white;padding-right: 0.2em;padding-left: 0.2em;position: relative;}#sk-container-id-9 div.sk-item {position: relative;z-index: 1;}#sk-container-id-9 div.sk-parallel {display: flex;align-items: stretch;justify-content: center;background-color: white;position: relative;}#sk-container-id-9 div.sk-item::before, #sk-container-id-9 div.sk-parallel-item::before {content: \"\";position: absolute;border-left: 1px solid gray;box-sizing: border-box;top: 0;bottom: 0;left: 50%;z-index: -1;}#sk-container-id-9 div.sk-parallel-item {display: flex;flex-direction: column;z-index: 1;position: relative;background-color: white;}#sk-container-id-9 div.sk-parallel-item:first-child::after {align-self: flex-end;width: 50%;}#sk-container-id-9 div.sk-parallel-item:last-child::after {align-self: flex-start;width: 50%;}#sk-container-id-9 div.sk-parallel-item:only-child::after {width: 0;}#sk-container-id-9 div.sk-dashed-wrapped {border: 1px dashed gray;margin: 0 0.4em 0.5em 0.4em;box-sizing: border-box;padding-bottom: 0.4em;background-color: white;}#sk-container-id-9 div.sk-label label {font-family: monospace;font-weight: bold;display: inline-block;line-height: 1.2em;}#sk-container-id-9 div.sk-label-container {text-align: center;}#sk-container-id-9 div.sk-container {/* jupyter's `normalize.less` sets `[hidden] { display: none; }` but bootstrap.min.css set `[hidden] { display: none !important; }` so we also need the `!important` here to be able to override the default hidden behavior on the sphinx rendered scikit-learn.org. See: https://github.com/scikit-learn/scikit-learn/issues/21755 */display: inline-block !important;position: relative;}#sk-container-id-9 div.sk-text-repr-fallback {display: none;}</style><div id=\"sk-container-id-9\" class=\"sk-top-container\"><div class=\"sk-text-repr-fallback\"><pre>LabelPowerset(classifier=LogisticRegression(C=0.05, max_iter=2000,\n",
       "                                            random_state=42, verbose=1),\n",
       "              require_dense=[True, True])</pre><b>In a Jupyter environment, please rerun this cell to show the HTML representation or trust the notebook. <br />On GitHub, the HTML representation is unable to render, please try loading this page with nbviewer.org.</b></div><div class=\"sk-container\" hidden><div class=\"sk-item sk-dashed-wrapped\"><div class=\"sk-label-container\"><div class=\"sk-label sk-toggleable\"><input class=\"sk-toggleable__control sk-hidden--visually\" id=\"sk-estimator-id-25\" type=\"checkbox\" ><label for=\"sk-estimator-id-25\" class=\"sk-toggleable__label sk-toggleable__label-arrow\">LabelPowerset</label><div class=\"sk-toggleable__content\"><pre>LabelPowerset(classifier=LogisticRegression(C=0.05, max_iter=2000,\n",
       "                                            random_state=42, verbose=1),\n",
       "              require_dense=[True, True])</pre></div></div></div><div class=\"sk-parallel\"><div class=\"sk-parallel-item\"><div class=\"sk-item\"><div class=\"sk-label-container\"><div class=\"sk-label sk-toggleable\"><input class=\"sk-toggleable__control sk-hidden--visually\" id=\"sk-estimator-id-26\" type=\"checkbox\" ><label for=\"sk-estimator-id-26\" class=\"sk-toggleable__label sk-toggleable__label-arrow\">classifier: LogisticRegression</label><div class=\"sk-toggleable__content\"><pre>LogisticRegression(C=0.05, max_iter=2000, random_state=42, verbose=1)</pre></div></div></div><div class=\"sk-serial\"><div class=\"sk-item\"><div class=\"sk-estimator sk-toggleable\"><input class=\"sk-toggleable__control sk-hidden--visually\" id=\"sk-estimator-id-27\" type=\"checkbox\" ><label for=\"sk-estimator-id-27\" class=\"sk-toggleable__label sk-toggleable__label-arrow\">LogisticRegression</label><div class=\"sk-toggleable__content\"><pre>LogisticRegression(C=0.05, max_iter=2000, random_state=42, verbose=1)</pre></div></div></div></div></div></div></div></div></div></div>"
      ],
      "text/plain": [
       "LabelPowerset(classifier=LogisticRegression(C=0.05, max_iter=2000,\n",
       "                                            random_state=42, verbose=1),\n",
       "              require_dense=[True, True])"
      ]
     },
     "execution_count": 104,
     "metadata": {},
     "output_type": "execute_result"
    }
   ],
   "source": [
    "# Set up Logistic Regression model\n",
    "logreg = LogisticRegression(\n",
    "    penalty='l2',\n",
    "    C=0.05,\n",
    "    solver='lbfgs',\n",
    "    max_iter=2000,\n",
    "    multi_class='auto',\n",
    "    random_state=42,\n",
    "    verbose=1\n",
    ")\n",
    "\n",
    "# Use LabelPowerset with Logistic Regression\n",
    "lp_classifier = LabelPowerset(logreg)\n",
    "lp_classifier.fit(reviews_bow_td_matrix_train, y_train_q1)"
   ]
  },
  {
   "cell_type": "code",
   "execution_count": 105,
   "id": "d0a0bd49",
   "metadata": {},
   "outputs": [],
   "source": [
    "y_pred_q1_test = lp_classifier.predict(reviews_bow_td_matrix_test)\n",
    "y_pred_q1_train = lp_classifier.predict(reviews_bow_td_matrix_train)"
   ]
  },
  {
   "cell_type": "markdown",
   "id": "cce973cc",
   "metadata": {},
   "source": [
    "Evaluate the model in the train and test datasets."
   ]
  },
  {
   "cell_type": "code",
   "execution_count": 106,
   "id": "308ab8ac",
   "metadata": {},
   "outputs": [
    {
     "name": "stdout",
     "output_type": "stream",
     "text": [
      "Accuracy: 0.5528434826371414 \n",
      "Precision: 0.8062606243697771 \n",
      "Recall: 0.6976685886187014 \n",
      "F1: 0.7233239011436834\n"
     ]
    },
    {
     "data": {
      "text/plain": [
       "(0.5528434826371414,\n",
       " 0.8062606243697771,\n",
       " 0.6976685886187014,\n",
       " 0.7233239011436834)"
      ]
     },
     "execution_count": 106,
     "metadata": {},
     "output_type": "execute_result"
    }
   ],
   "source": [
    "fold_score_calculator(y_pred_q1_train, y_train_q1, verbose=True)"
   ]
  },
  {
   "cell_type": "code",
   "execution_count": 107,
   "id": "eabdb31b",
   "metadata": {},
   "outputs": [
    {
     "name": "stdout",
     "output_type": "stream",
     "text": [
      "Accuracy: 0.319073980875692 \n",
      "Precision: 0.6218544791706517 \n",
      "Recall: 0.5361979602073232 \n",
      "F1: 0.5429701360822237\n"
     ]
    },
    {
     "data": {
      "text/plain": [
       "(0.319073980875692, 0.6218544791706517, 0.5361979602073232, 0.5429701360822237)"
      ]
     },
     "execution_count": 107,
     "metadata": {},
     "output_type": "execute_result"
    }
   ],
   "source": [
    "fold_score_calculator(y_pred_q1_test, y_test_q1, verbose=True)"
   ]
  },
  {
   "cell_type": "markdown",
   "id": "b2224c84",
   "metadata": {},
   "source": [
    "##### 3.1.5 Label Powerset with Random Forest\n",
    "\n",
    "[Back to TOC](#toc)"
   ]
  },
  {
   "cell_type": "code",
   "execution_count": 128,
   "id": "25f7e868",
   "metadata": {},
   "outputs": [
    {
     "data": {
      "text/html": [
       "<style>#sk-container-id-15 {color: black;background-color: white;}#sk-container-id-15 pre{padding: 0;}#sk-container-id-15 div.sk-toggleable {background-color: white;}#sk-container-id-15 label.sk-toggleable__label {cursor: pointer;display: block;width: 100%;margin-bottom: 0;padding: 0.3em;box-sizing: border-box;text-align: center;}#sk-container-id-15 label.sk-toggleable__label-arrow:before {content: \"▸\";float: left;margin-right: 0.25em;color: #696969;}#sk-container-id-15 label.sk-toggleable__label-arrow:hover:before {color: black;}#sk-container-id-15 div.sk-estimator:hover label.sk-toggleable__label-arrow:before {color: black;}#sk-container-id-15 div.sk-toggleable__content {max-height: 0;max-width: 0;overflow: hidden;text-align: left;background-color: #f0f8ff;}#sk-container-id-15 div.sk-toggleable__content pre {margin: 0.2em;color: black;border-radius: 0.25em;background-color: #f0f8ff;}#sk-container-id-15 input.sk-toggleable__control:checked~div.sk-toggleable__content {max-height: 200px;max-width: 100%;overflow: auto;}#sk-container-id-15 input.sk-toggleable__control:checked~label.sk-toggleable__label-arrow:before {content: \"▾\";}#sk-container-id-15 div.sk-estimator input.sk-toggleable__control:checked~label.sk-toggleable__label {background-color: #d4ebff;}#sk-container-id-15 div.sk-label input.sk-toggleable__control:checked~label.sk-toggleable__label {background-color: #d4ebff;}#sk-container-id-15 input.sk-hidden--visually {border: 0;clip: rect(1px 1px 1px 1px);clip: rect(1px, 1px, 1px, 1px);height: 1px;margin: -1px;overflow: hidden;padding: 0;position: absolute;width: 1px;}#sk-container-id-15 div.sk-estimator {font-family: monospace;background-color: #f0f8ff;border: 1px dotted black;border-radius: 0.25em;box-sizing: border-box;margin-bottom: 0.5em;}#sk-container-id-15 div.sk-estimator:hover {background-color: #d4ebff;}#sk-container-id-15 div.sk-parallel-item::after {content: \"\";width: 100%;border-bottom: 1px solid gray;flex-grow: 1;}#sk-container-id-15 div.sk-label:hover label.sk-toggleable__label {background-color: #d4ebff;}#sk-container-id-15 div.sk-serial::before {content: \"\";position: absolute;border-left: 1px solid gray;box-sizing: border-box;top: 0;bottom: 0;left: 50%;z-index: 0;}#sk-container-id-15 div.sk-serial {display: flex;flex-direction: column;align-items: center;background-color: white;padding-right: 0.2em;padding-left: 0.2em;position: relative;}#sk-container-id-15 div.sk-item {position: relative;z-index: 1;}#sk-container-id-15 div.sk-parallel {display: flex;align-items: stretch;justify-content: center;background-color: white;position: relative;}#sk-container-id-15 div.sk-item::before, #sk-container-id-15 div.sk-parallel-item::before {content: \"\";position: absolute;border-left: 1px solid gray;box-sizing: border-box;top: 0;bottom: 0;left: 50%;z-index: -1;}#sk-container-id-15 div.sk-parallel-item {display: flex;flex-direction: column;z-index: 1;position: relative;background-color: white;}#sk-container-id-15 div.sk-parallel-item:first-child::after {align-self: flex-end;width: 50%;}#sk-container-id-15 div.sk-parallel-item:last-child::after {align-self: flex-start;width: 50%;}#sk-container-id-15 div.sk-parallel-item:only-child::after {width: 0;}#sk-container-id-15 div.sk-dashed-wrapped {border: 1px dashed gray;margin: 0 0.4em 0.5em 0.4em;box-sizing: border-box;padding-bottom: 0.4em;background-color: white;}#sk-container-id-15 div.sk-label label {font-family: monospace;font-weight: bold;display: inline-block;line-height: 1.2em;}#sk-container-id-15 div.sk-label-container {text-align: center;}#sk-container-id-15 div.sk-container {/* jupyter's `normalize.less` sets `[hidden] { display: none; }` but bootstrap.min.css set `[hidden] { display: none !important; }` so we also need the `!important` here to be able to override the default hidden behavior on the sphinx rendered scikit-learn.org. See: https://github.com/scikit-learn/scikit-learn/issues/21755 */display: inline-block !important;position: relative;}#sk-container-id-15 div.sk-text-repr-fallback {display: none;}</style><div id=\"sk-container-id-15\" class=\"sk-top-container\"><div class=\"sk-text-repr-fallback\"><pre>LabelPowerset(classifier=RandomForestClassifier(class_weight=&#x27;balanced&#x27;,\n",
       "                                                max_depth=9, min_samples_leaf=5,\n",
       "                                                min_samples_split=10, n_jobs=-1,\n",
       "                                                random_state=0),\n",
       "              require_dense=[True, True])</pre><b>In a Jupyter environment, please rerun this cell to show the HTML representation or trust the notebook. <br />On GitHub, the HTML representation is unable to render, please try loading this page with nbviewer.org.</b></div><div class=\"sk-container\" hidden><div class=\"sk-item sk-dashed-wrapped\"><div class=\"sk-label-container\"><div class=\"sk-label sk-toggleable\"><input class=\"sk-toggleable__control sk-hidden--visually\" id=\"sk-estimator-id-43\" type=\"checkbox\" ><label for=\"sk-estimator-id-43\" class=\"sk-toggleable__label sk-toggleable__label-arrow\">LabelPowerset</label><div class=\"sk-toggleable__content\"><pre>LabelPowerset(classifier=RandomForestClassifier(class_weight=&#x27;balanced&#x27;,\n",
       "                                                max_depth=9, min_samples_leaf=5,\n",
       "                                                min_samples_split=10, n_jobs=-1,\n",
       "                                                random_state=0),\n",
       "              require_dense=[True, True])</pre></div></div></div><div class=\"sk-parallel\"><div class=\"sk-parallel-item\"><div class=\"sk-item\"><div class=\"sk-label-container\"><div class=\"sk-label sk-toggleable\"><input class=\"sk-toggleable__control sk-hidden--visually\" id=\"sk-estimator-id-44\" type=\"checkbox\" ><label for=\"sk-estimator-id-44\" class=\"sk-toggleable__label sk-toggleable__label-arrow\">classifier: RandomForestClassifier</label><div class=\"sk-toggleable__content\"><pre>RandomForestClassifier(class_weight=&#x27;balanced&#x27;, max_depth=9, min_samples_leaf=5,\n",
       "                       min_samples_split=10, n_jobs=-1, random_state=0)</pre></div></div></div><div class=\"sk-serial\"><div class=\"sk-item\"><div class=\"sk-estimator sk-toggleable\"><input class=\"sk-toggleable__control sk-hidden--visually\" id=\"sk-estimator-id-45\" type=\"checkbox\" ><label for=\"sk-estimator-id-45\" class=\"sk-toggleable__label sk-toggleable__label-arrow\">RandomForestClassifier</label><div class=\"sk-toggleable__content\"><pre>RandomForestClassifier(class_weight=&#x27;balanced&#x27;, max_depth=9, min_samples_leaf=5,\n",
       "                       min_samples_split=10, n_jobs=-1, random_state=0)</pre></div></div></div></div></div></div></div></div></div></div>"
      ],
      "text/plain": [
       "LabelPowerset(classifier=RandomForestClassifier(class_weight='balanced',\n",
       "                                                max_depth=9, min_samples_leaf=5,\n",
       "                                                min_samples_split=10, n_jobs=-1,\n",
       "                                                random_state=0),\n",
       "              require_dense=[True, True])"
      ]
     },
     "execution_count": 128,
     "metadata": {},
     "output_type": "execute_result"
    }
   ],
   "source": [
    "# Set up Random Forest model\n",
    "logreg = RandomForestClassifier(random_state=0, max_depth=9, class_weight=\"balanced\", n_jobs=-1,\n",
    "                                    min_samples_split=10, min_samples_leaf=5)\n",
    "\n",
    "\n",
    "lp_classifier = LabelPowerset(logreg)\n",
    "lp_classifier.fit(reviews_bow_td_matrix_train, y_train_q1)"
   ]
  },
  {
   "cell_type": "code",
   "execution_count": 129,
   "id": "e8cf23a3",
   "metadata": {},
   "outputs": [],
   "source": [
    "y_pred_q1_test = lp_classifier.predict(reviews_bow_td_matrix_test)\n",
    "y_pred_q1_train = lp_classifier.predict(reviews_bow_td_matrix_train)"
   ]
  },
  {
   "cell_type": "markdown",
   "id": "94f813b9",
   "metadata": {},
   "source": [
    "Evaluate the model in the train and test datasets."
   ]
  },
  {
   "cell_type": "code",
   "execution_count": 130,
   "id": "37ec6bf7",
   "metadata": {},
   "outputs": [
    {
     "name": "stdout",
     "output_type": "stream",
     "text": [
      "Accuracy: 0.3519124308002013 \n",
      "Precision: 0.6213332146370941 \n",
      "Recall: 0.5008356313194618 \n",
      "F1: 0.5374099249554847\n"
     ]
    },
    {
     "data": {
      "text/plain": [
       "(0.3519124308002013,\n",
       " 0.6213332146370941,\n",
       " 0.5008356313194618,\n",
       " 0.5374099249554847)"
      ]
     },
     "execution_count": 130,
     "metadata": {},
     "output_type": "execute_result"
    }
   ],
   "source": [
    "fold_score_calculator(y_pred_q1_train, y_train_q1, verbose=True)"
   ]
  },
  {
   "cell_type": "code",
   "execution_count": 131,
   "id": "84f57147",
   "metadata": {},
   "outputs": [
    {
     "name": "stdout",
     "output_type": "stream",
     "text": [
      "Accuracy: 0.3029693004529441 \n",
      "Precision: 0.592732985168745 \n",
      "Recall: 0.47533857214512626 \n",
      "F1: 0.5098962987619142\n"
     ]
    },
    {
     "data": {
      "text/plain": [
       "(0.3029693004529441,\n",
       " 0.592732985168745,\n",
       " 0.47533857214512626,\n",
       " 0.5098962987619142)"
      ]
     },
     "execution_count": 131,
     "metadata": {},
     "output_type": "execute_result"
    }
   ],
   "source": [
    "fold_score_calculator(y_pred_q1_test, y_test_q1, verbose=True)"
   ]
  },
  {
   "cell_type": "markdown",
   "id": "c5b23c60",
   "metadata": {},
   "source": [
    "#### 3.2 TF-IDF\n",
    "\n",
    "[Back to TOC](#toc)"
   ]
  },
  {
   "cell_type": "code",
   "execution_count": 16,
   "id": "a174089a",
   "metadata": {},
   "outputs": [],
   "source": [
    "# Train\n",
    "tfidf_vectorizer = TfidfVectorizer(ngram_range=(1, 1), token_pattern=r\"(?u)\\b\\w+\\b\")\n",
    "reviews_tfidf_matrix_train = tfidf_vectorizer.fit_transform(X_train_q1).toarray()\n",
    "\n",
    "# Test\n",
    "reviews_tfidf_matrix_test = tfidf_vectorizer.transform(X_test_q1).toarray()"
   ]
  },
  {
   "cell_type": "markdown",
   "id": "e6f942c6",
   "metadata": {},
   "source": [
    "##### 3.2.1 One vs Rest Classifier\n",
    "\n",
    "[Back to TOC](#toc)"
   ]
  },
  {
   "cell_type": "code",
   "execution_count": 17,
   "id": "65daf4d0",
   "metadata": {},
   "outputs": [],
   "source": [
    "#OneVsRest classifier\n",
    "ovm = OneVsRestClassifier(LogisticRegression(solver='lbfgs',C=0.05, max_iter=200,penalty='l2',multi_class='auto',  random_state=0, class_weight=\"balanced\")).fit(reviews_tfidf_matrix_train, y_train_q1)"
   ]
  },
  {
   "cell_type": "code",
   "execution_count": 18,
   "id": "b04b3f3f",
   "metadata": {},
   "outputs": [],
   "source": [
    "y_pred_q1_test = ovm.predict(reviews_tfidf_matrix_test)\n",
    "y_pred_q1_train = ovm.predict(reviews_tfidf_matrix_train)"
   ]
  },
  {
   "cell_type": "markdown",
   "id": "d929ef62",
   "metadata": {},
   "source": [
    "Evaluate the model in the train and test datasets."
   ]
  },
  {
   "cell_type": "code",
   "execution_count": 19,
   "id": "9d11b177",
   "metadata": {},
   "outputs": [
    {
     "name": "stdout",
     "output_type": "stream",
     "text": [
      "Accuracy: 0.07253494522100491 \n",
      "Precision: 0.48910909089027826 \n",
      "Recall: 0.7995316550974325 \n",
      "F1: 0.5748725246988482\n"
     ]
    },
    {
     "data": {
      "text/plain": [
       "(0.07253494522100491,\n",
       " 0.48910909089027826,\n",
       " 0.7995316550974325,\n",
       " 0.5748725246988482)"
      ]
     },
     "execution_count": 19,
     "metadata": {},
     "output_type": "execute_result"
    }
   ],
   "source": [
    "fold_score_calculator(y_pred_q1_train, y_train_q1, verbose=True)"
   ]
  },
  {
   "cell_type": "code",
   "execution_count": 20,
   "id": "ed818568",
   "metadata": {},
   "outputs": [
    {
     "name": "stdout",
     "output_type": "stream",
     "text": [
      "Accuracy: 0.04783484390735146 \n",
      "Precision: 0.4379813279474268 \n",
      "Recall: 0.6825556113062385 \n",
      "F1: 0.5065614098489063\n"
     ]
    },
    {
     "data": {
      "text/plain": [
       "(0.04783484390735146,\n",
       " 0.4379813279474268,\n",
       " 0.6825556113062385,\n",
       " 0.5065614098489063)"
      ]
     },
     "execution_count": 20,
     "metadata": {},
     "output_type": "execute_result"
    }
   ],
   "source": [
    "fold_score_calculator(y_pred_q1_test, y_test_q1, verbose=True)"
   ]
  },
  {
   "cell_type": "markdown",
   "id": "14f460a0",
   "metadata": {},
   "source": [
    "##### 3.2.2 Chain Classifier with Logistic Regression\n",
    "\n",
    "[Back to TOC](#toc)"
   ]
  },
  {
   "cell_type": "code",
   "execution_count": 26,
   "id": "4981e89b",
   "metadata": {},
   "outputs": [],
   "source": [
    "#classifier Chain\n",
    "cchain = ClassifierChain(LogisticRegression(solver='lbfgs',C=0.1, max_iter=200,penalty='l2',multi_class='auto',  random_state=0, class_weight=\"balanced\"), order=\"random\").fit(reviews_tfidf_matrix_train, y_train_q1)"
   ]
  },
  {
   "cell_type": "code",
   "execution_count": 27,
   "id": "23898e38",
   "metadata": {},
   "outputs": [],
   "source": [
    "y_pred_q1_test = cchain.predict(reviews_tfidf_matrix_test)\n",
    "y_pred_q1_train = cchain.predict(reviews_tfidf_matrix_train)"
   ]
  },
  {
   "cell_type": "markdown",
   "id": "f9b49159",
   "metadata": {},
   "source": [
    "Evaluate the model in the train and test datasets."
   ]
  },
  {
   "cell_type": "code",
   "execution_count": 28,
   "id": "f81a401f",
   "metadata": {},
   "outputs": [
    {
     "name": "stdout",
     "output_type": "stream",
     "text": [
      "Accuracy: 0.051504848255887165 \n",
      "Precision: 0.411460081257175 \n",
      "Recall: 0.5307769507401522 \n",
      "F1: 0.4299761224728047\n"
     ]
    },
    {
     "data": {
      "text/plain": [
       "(0.051504848255887165,\n",
       " 0.411460081257175,\n",
       " 0.5307769507401522,\n",
       " 0.4299761224728047)"
      ]
     },
     "execution_count": 28,
     "metadata": {},
     "output_type": "execute_result"
    }
   ],
   "source": [
    "fold_score_calculator(y_pred_q1_train, y_train_q1, verbose=True)"
   ]
  },
  {
   "cell_type": "code",
   "execution_count": 29,
   "id": "c99451c3",
   "metadata": {},
   "outputs": [
    {
     "name": "stdout",
     "output_type": "stream",
     "text": [
      "Accuracy: 0.03927492447129909 \n",
      "Precision: 0.3823856851239127 \n",
      "Recall: 0.48436193343368455 \n",
      "F1: 0.4014327621091485\n"
     ]
    },
    {
     "name": "stderr",
     "output_type": "stream",
     "text": [
      "c:\\Users\\david\\miniconda3\\envs\\text-mining1\\lib\\site-packages\\sklearn\\metrics\\_classification.py:1344: UndefinedMetricWarning: Precision is ill-defined and being set to 0.0 in labels with no predicted samples. Use `zero_division` parameter to control this behavior.\n",
      "  _warn_prf(average, modifier, msg_start, len(result))\n"
     ]
    },
    {
     "data": {
      "text/plain": [
       "(0.03927492447129909,\n",
       " 0.3823856851239127,\n",
       " 0.48436193343368455,\n",
       " 0.4014327621091485)"
      ]
     },
     "execution_count": 29,
     "metadata": {},
     "output_type": "execute_result"
    }
   ],
   "source": [
    "fold_score_calculator(y_pred_q1_test, y_test_q1, verbose=True)"
   ]
  },
  {
   "cell_type": "markdown",
   "id": "d222f860",
   "metadata": {},
   "source": [
    "##### 3.2.3 Chain Classifier with Random Forest\n",
    "\n",
    "[Back to TOC](#toc)"
   ]
  },
  {
   "cell_type": "code",
   "execution_count": 30,
   "id": "eec60e5f",
   "metadata": {},
   "outputs": [],
   "source": [
    "cchain = ClassifierChain(RandomForestClassifier(random_state=0, max_depth=9, class_weight=\"balanced\", n_jobs=-1, min_samples_split=10, min_samples_leaf=5), order=\"random\").fit(reviews_tfidf_matrix_train, y_train_q1)"
   ]
  },
  {
   "cell_type": "code",
   "execution_count": 31,
   "id": "7279d78e",
   "metadata": {},
   "outputs": [],
   "source": [
    "y_pred_q1_test = cchain.predict(reviews_tfidf_matrix_test)\n",
    "y_pred_q1_train = cchain.predict(reviews_tfidf_matrix_train)"
   ]
  },
  {
   "cell_type": "markdown",
   "id": "95b33c29",
   "metadata": {},
   "source": [
    "Evaluate the model in the train and test datasets."
   ]
  },
  {
   "cell_type": "code",
   "execution_count": 32,
   "id": "47bf1b72",
   "metadata": {},
   "outputs": [
    {
     "name": "stdout",
     "output_type": "stream",
     "text": [
      "Accuracy: 0.07832766654073794 \n",
      "Precision: 0.51844136167259 \n",
      "Recall: 0.6712386050012545 \n",
      "F1: 0.563011960652841\n"
     ]
    },
    {
     "data": {
      "text/plain": [
       "(0.07832766654073794, 0.51844136167259, 0.6712386050012545, 0.563011960652841)"
      ]
     },
     "execution_count": 32,
     "metadata": {},
     "output_type": "execute_result"
    }
   ],
   "source": [
    "fold_score_calculator(y_pred_q1_train, y_train_q1, verbose=True)"
   ]
  },
  {
   "cell_type": "code",
   "execution_count": 33,
   "id": "4a8f4d7b",
   "metadata": {},
   "outputs": [
    {
     "name": "stdout",
     "output_type": "stream",
     "text": [
      "Accuracy: 0.04380664652567976 \n",
      "Precision: 0.4446014191530331 \n",
      "Recall: 0.5696604783408596 \n",
      "F1: 0.4788356773403019\n"
     ]
    },
    {
     "data": {
      "text/plain": [
       "(0.04380664652567976,\n",
       " 0.4446014191530331,\n",
       " 0.5696604783408596,\n",
       " 0.4788356773403019)"
      ]
     },
     "execution_count": 33,
     "metadata": {},
     "output_type": "execute_result"
    }
   ],
   "source": [
    "fold_score_calculator(y_pred_q1_test, y_test_q1, verbose=True)"
   ]
  },
  {
   "cell_type": "markdown",
   "id": "ac74d280",
   "metadata": {},
   "source": [
    "##### 3.2.4 Label Powerset with Logistic Regression\n",
    "\n",
    "[Back to TOC](#toc)"
   ]
  },
  {
   "cell_type": "code",
   "execution_count": 54,
   "id": "f2dd4e9a",
   "metadata": {},
   "outputs": [
    {
     "name": "stderr",
     "output_type": "stream",
     "text": [
      "[Parallel(n_jobs=1)]: Using backend SequentialBackend with 1 concurrent workers.\n",
      "[Parallel(n_jobs=1)]: Done   1 out of   1 | elapsed:   32.3s finished\n"
     ]
    },
    {
     "data": {
      "text/html": [
       "<style>#sk-container-id-5 {color: black;background-color: white;}#sk-container-id-5 pre{padding: 0;}#sk-container-id-5 div.sk-toggleable {background-color: white;}#sk-container-id-5 label.sk-toggleable__label {cursor: pointer;display: block;width: 100%;margin-bottom: 0;padding: 0.3em;box-sizing: border-box;text-align: center;}#sk-container-id-5 label.sk-toggleable__label-arrow:before {content: \"▸\";float: left;margin-right: 0.25em;color: #696969;}#sk-container-id-5 label.sk-toggleable__label-arrow:hover:before {color: black;}#sk-container-id-5 div.sk-estimator:hover label.sk-toggleable__label-arrow:before {color: black;}#sk-container-id-5 div.sk-toggleable__content {max-height: 0;max-width: 0;overflow: hidden;text-align: left;background-color: #f0f8ff;}#sk-container-id-5 div.sk-toggleable__content pre {margin: 0.2em;color: black;border-radius: 0.25em;background-color: #f0f8ff;}#sk-container-id-5 input.sk-toggleable__control:checked~div.sk-toggleable__content {max-height: 200px;max-width: 100%;overflow: auto;}#sk-container-id-5 input.sk-toggleable__control:checked~label.sk-toggleable__label-arrow:before {content: \"▾\";}#sk-container-id-5 div.sk-estimator input.sk-toggleable__control:checked~label.sk-toggleable__label {background-color: #d4ebff;}#sk-container-id-5 div.sk-label input.sk-toggleable__control:checked~label.sk-toggleable__label {background-color: #d4ebff;}#sk-container-id-5 input.sk-hidden--visually {border: 0;clip: rect(1px 1px 1px 1px);clip: rect(1px, 1px, 1px, 1px);height: 1px;margin: -1px;overflow: hidden;padding: 0;position: absolute;width: 1px;}#sk-container-id-5 div.sk-estimator {font-family: monospace;background-color: #f0f8ff;border: 1px dotted black;border-radius: 0.25em;box-sizing: border-box;margin-bottom: 0.5em;}#sk-container-id-5 div.sk-estimator:hover {background-color: #d4ebff;}#sk-container-id-5 div.sk-parallel-item::after {content: \"\";width: 100%;border-bottom: 1px solid gray;flex-grow: 1;}#sk-container-id-5 div.sk-label:hover label.sk-toggleable__label {background-color: #d4ebff;}#sk-container-id-5 div.sk-serial::before {content: \"\";position: absolute;border-left: 1px solid gray;box-sizing: border-box;top: 0;bottom: 0;left: 50%;z-index: 0;}#sk-container-id-5 div.sk-serial {display: flex;flex-direction: column;align-items: center;background-color: white;padding-right: 0.2em;padding-left: 0.2em;position: relative;}#sk-container-id-5 div.sk-item {position: relative;z-index: 1;}#sk-container-id-5 div.sk-parallel {display: flex;align-items: stretch;justify-content: center;background-color: white;position: relative;}#sk-container-id-5 div.sk-item::before, #sk-container-id-5 div.sk-parallel-item::before {content: \"\";position: absolute;border-left: 1px solid gray;box-sizing: border-box;top: 0;bottom: 0;left: 50%;z-index: -1;}#sk-container-id-5 div.sk-parallel-item {display: flex;flex-direction: column;z-index: 1;position: relative;background-color: white;}#sk-container-id-5 div.sk-parallel-item:first-child::after {align-self: flex-end;width: 50%;}#sk-container-id-5 div.sk-parallel-item:last-child::after {align-self: flex-start;width: 50%;}#sk-container-id-5 div.sk-parallel-item:only-child::after {width: 0;}#sk-container-id-5 div.sk-dashed-wrapped {border: 1px dashed gray;margin: 0 0.4em 0.5em 0.4em;box-sizing: border-box;padding-bottom: 0.4em;background-color: white;}#sk-container-id-5 div.sk-label label {font-family: monospace;font-weight: bold;display: inline-block;line-height: 1.2em;}#sk-container-id-5 div.sk-label-container {text-align: center;}#sk-container-id-5 div.sk-container {/* jupyter's `normalize.less` sets `[hidden] { display: none; }` but bootstrap.min.css set `[hidden] { display: none !important; }` so we also need the `!important` here to be able to override the default hidden behavior on the sphinx rendered scikit-learn.org. See: https://github.com/scikit-learn/scikit-learn/issues/21755 */display: inline-block !important;position: relative;}#sk-container-id-5 div.sk-text-repr-fallback {display: none;}</style><div id=\"sk-container-id-5\" class=\"sk-top-container\"><div class=\"sk-text-repr-fallback\"><pre>LabelPowerset(classifier=LogisticRegression(C=0.6, max_iter=2000,\n",
       "                                            random_state=42, verbose=1),\n",
       "              require_dense=[True, True])</pre><b>In a Jupyter environment, please rerun this cell to show the HTML representation or trust the notebook. <br />On GitHub, the HTML representation is unable to render, please try loading this page with nbviewer.org.</b></div><div class=\"sk-container\" hidden><div class=\"sk-item sk-dashed-wrapped\"><div class=\"sk-label-container\"><div class=\"sk-label sk-toggleable\"><input class=\"sk-toggleable__control sk-hidden--visually\" id=\"sk-estimator-id-13\" type=\"checkbox\" ><label for=\"sk-estimator-id-13\" class=\"sk-toggleable__label sk-toggleable__label-arrow\">LabelPowerset</label><div class=\"sk-toggleable__content\"><pre>LabelPowerset(classifier=LogisticRegression(C=0.6, max_iter=2000,\n",
       "                                            random_state=42, verbose=1),\n",
       "              require_dense=[True, True])</pre></div></div></div><div class=\"sk-parallel\"><div class=\"sk-parallel-item\"><div class=\"sk-item\"><div class=\"sk-label-container\"><div class=\"sk-label sk-toggleable\"><input class=\"sk-toggleable__control sk-hidden--visually\" id=\"sk-estimator-id-14\" type=\"checkbox\" ><label for=\"sk-estimator-id-14\" class=\"sk-toggleable__label sk-toggleable__label-arrow\">classifier: LogisticRegression</label><div class=\"sk-toggleable__content\"><pre>LogisticRegression(C=0.6, max_iter=2000, random_state=42, verbose=1)</pre></div></div></div><div class=\"sk-serial\"><div class=\"sk-item\"><div class=\"sk-estimator sk-toggleable\"><input class=\"sk-toggleable__control sk-hidden--visually\" id=\"sk-estimator-id-15\" type=\"checkbox\" ><label for=\"sk-estimator-id-15\" class=\"sk-toggleable__label sk-toggleable__label-arrow\">LogisticRegression</label><div class=\"sk-toggleable__content\"><pre>LogisticRegression(C=0.6, max_iter=2000, random_state=42, verbose=1)</pre></div></div></div></div></div></div></div></div></div></div>"
      ],
      "text/plain": [
       "LabelPowerset(classifier=LogisticRegression(C=0.6, max_iter=2000,\n",
       "                                            random_state=42, verbose=1),\n",
       "              require_dense=[True, True])"
      ]
     },
     "execution_count": 54,
     "metadata": {},
     "output_type": "execute_result"
    }
   ],
   "source": [
    "# Set up Logistic Regression \n",
    "logreg = LogisticRegression(\n",
    "    penalty='l2',\n",
    "    C=0.6,\n",
    "    solver='lbfgs',\n",
    "    max_iter=2000,\n",
    "    multi_class='auto',\n",
    "    random_state=42,\n",
    "    verbose=1\n",
    ")\n",
    "\n",
    "\n",
    "lp_classifier = LabelPowerset(logreg)\n",
    "lp_classifier.fit(reviews_tfidf_matrix_train, y_train_q1)"
   ]
  },
  {
   "cell_type": "code",
   "execution_count": 55,
   "id": "69073821",
   "metadata": {},
   "outputs": [],
   "source": [
    "y_pred_q1_test = lp_classifier.predict(reviews_tfidf_matrix_test)\n",
    "y_pred_q1_train = lp_classifier.predict(reviews_tfidf_matrix_train)"
   ]
  },
  {
   "cell_type": "markdown",
   "id": "d1b504d2",
   "metadata": {},
   "source": [
    "Evaluate the model in the train and test datasets."
   ]
  },
  {
   "cell_type": "code",
   "execution_count": 58,
   "id": "6906abb2",
   "metadata": {},
   "outputs": [
    {
     "name": "stdout",
     "output_type": "stream",
     "text": [
      "Accuracy: 0.46883264072534947 \n",
      "Precision: 0.7845770103896331 \n",
      "Recall: 0.6397925901145772 \n",
      "F1: 0.6582733427542594\n"
     ]
    },
    {
     "data": {
      "text/plain": [
       "(0.46883264072534947,\n",
       " 0.7845770103896331,\n",
       " 0.6397925901145772,\n",
       " 0.6582733427542594)"
      ]
     },
     "execution_count": 58,
     "metadata": {},
     "output_type": "execute_result"
    }
   ],
   "source": [
    "fold_score_calculator(y_pred_q1_train, y_train_q1, verbose=True)"
   ]
  },
  {
   "cell_type": "code",
   "execution_count": 59,
   "id": "30a8907f",
   "metadata": {},
   "outputs": [
    {
     "name": "stdout",
     "output_type": "stream",
     "text": [
      "Accuracy: 0.297583081570997 \n",
      "Precision: 0.6977045862854442 \n",
      "Recall: 0.5291854825221609 \n",
      "F1: 0.5324922076147285\n"
     ]
    },
    {
     "data": {
      "text/plain": [
       "(0.297583081570997, 0.6977045862854442, 0.5291854825221609, 0.5324922076147285)"
      ]
     },
     "execution_count": 59,
     "metadata": {},
     "output_type": "execute_result"
    }
   ],
   "source": [
    "fold_score_calculator(y_pred_q1_test, y_test_q1, verbose=True)"
   ]
  },
  {
   "cell_type": "markdown",
   "id": "7cf1b1eb",
   "metadata": {},
   "source": [
    "##### 3.2.5 Label Powerset with Random Forest\n",
    "[Back to TOC](#toc)"
   ]
  },
  {
   "cell_type": "code",
   "execution_count": 84,
   "id": "eb9a3da7",
   "metadata": {},
   "outputs": [
    {
     "data": {
      "text/html": [
       "<style>#sk-container-id-12 {color: black;background-color: white;}#sk-container-id-12 pre{padding: 0;}#sk-container-id-12 div.sk-toggleable {background-color: white;}#sk-container-id-12 label.sk-toggleable__label {cursor: pointer;display: block;width: 100%;margin-bottom: 0;padding: 0.3em;box-sizing: border-box;text-align: center;}#sk-container-id-12 label.sk-toggleable__label-arrow:before {content: \"▸\";float: left;margin-right: 0.25em;color: #696969;}#sk-container-id-12 label.sk-toggleable__label-arrow:hover:before {color: black;}#sk-container-id-12 div.sk-estimator:hover label.sk-toggleable__label-arrow:before {color: black;}#sk-container-id-12 div.sk-toggleable__content {max-height: 0;max-width: 0;overflow: hidden;text-align: left;background-color: #f0f8ff;}#sk-container-id-12 div.sk-toggleable__content pre {margin: 0.2em;color: black;border-radius: 0.25em;background-color: #f0f8ff;}#sk-container-id-12 input.sk-toggleable__control:checked~div.sk-toggleable__content {max-height: 200px;max-width: 100%;overflow: auto;}#sk-container-id-12 input.sk-toggleable__control:checked~label.sk-toggleable__label-arrow:before {content: \"▾\";}#sk-container-id-12 div.sk-estimator input.sk-toggleable__control:checked~label.sk-toggleable__label {background-color: #d4ebff;}#sk-container-id-12 div.sk-label input.sk-toggleable__control:checked~label.sk-toggleable__label {background-color: #d4ebff;}#sk-container-id-12 input.sk-hidden--visually {border: 0;clip: rect(1px 1px 1px 1px);clip: rect(1px, 1px, 1px, 1px);height: 1px;margin: -1px;overflow: hidden;padding: 0;position: absolute;width: 1px;}#sk-container-id-12 div.sk-estimator {font-family: monospace;background-color: #f0f8ff;border: 1px dotted black;border-radius: 0.25em;box-sizing: border-box;margin-bottom: 0.5em;}#sk-container-id-12 div.sk-estimator:hover {background-color: #d4ebff;}#sk-container-id-12 div.sk-parallel-item::after {content: \"\";width: 100%;border-bottom: 1px solid gray;flex-grow: 1;}#sk-container-id-12 div.sk-label:hover label.sk-toggleable__label {background-color: #d4ebff;}#sk-container-id-12 div.sk-serial::before {content: \"\";position: absolute;border-left: 1px solid gray;box-sizing: border-box;top: 0;bottom: 0;left: 50%;z-index: 0;}#sk-container-id-12 div.sk-serial {display: flex;flex-direction: column;align-items: center;background-color: white;padding-right: 0.2em;padding-left: 0.2em;position: relative;}#sk-container-id-12 div.sk-item {position: relative;z-index: 1;}#sk-container-id-12 div.sk-parallel {display: flex;align-items: stretch;justify-content: center;background-color: white;position: relative;}#sk-container-id-12 div.sk-item::before, #sk-container-id-12 div.sk-parallel-item::before {content: \"\";position: absolute;border-left: 1px solid gray;box-sizing: border-box;top: 0;bottom: 0;left: 50%;z-index: -1;}#sk-container-id-12 div.sk-parallel-item {display: flex;flex-direction: column;z-index: 1;position: relative;background-color: white;}#sk-container-id-12 div.sk-parallel-item:first-child::after {align-self: flex-end;width: 50%;}#sk-container-id-12 div.sk-parallel-item:last-child::after {align-self: flex-start;width: 50%;}#sk-container-id-12 div.sk-parallel-item:only-child::after {width: 0;}#sk-container-id-12 div.sk-dashed-wrapped {border: 1px dashed gray;margin: 0 0.4em 0.5em 0.4em;box-sizing: border-box;padding-bottom: 0.4em;background-color: white;}#sk-container-id-12 div.sk-label label {font-family: monospace;font-weight: bold;display: inline-block;line-height: 1.2em;}#sk-container-id-12 div.sk-label-container {text-align: center;}#sk-container-id-12 div.sk-container {/* jupyter's `normalize.less` sets `[hidden] { display: none; }` but bootstrap.min.css set `[hidden] { display: none !important; }` so we also need the `!important` here to be able to override the default hidden behavior on the sphinx rendered scikit-learn.org. See: https://github.com/scikit-learn/scikit-learn/issues/21755 */display: inline-block !important;position: relative;}#sk-container-id-12 div.sk-text-repr-fallback {display: none;}</style><div id=\"sk-container-id-12\" class=\"sk-top-container\"><div class=\"sk-text-repr-fallback\"><pre>LabelPowerset(classifier=RandomForestClassifier(class_weight=&#x27;balanced&#x27;,\n",
       "                                                max_depth=12,\n",
       "                                                min_samples_leaf=9,\n",
       "                                                min_samples_split=12, n_jobs=-1,\n",
       "                                                random_state=0),\n",
       "              require_dense=[True, True])</pre><b>In a Jupyter environment, please rerun this cell to show the HTML representation or trust the notebook. <br />On GitHub, the HTML representation is unable to render, please try loading this page with nbviewer.org.</b></div><div class=\"sk-container\" hidden><div class=\"sk-item sk-dashed-wrapped\"><div class=\"sk-label-container\"><div class=\"sk-label sk-toggleable\"><input class=\"sk-toggleable__control sk-hidden--visually\" id=\"sk-estimator-id-34\" type=\"checkbox\" ><label for=\"sk-estimator-id-34\" class=\"sk-toggleable__label sk-toggleable__label-arrow\">LabelPowerset</label><div class=\"sk-toggleable__content\"><pre>LabelPowerset(classifier=RandomForestClassifier(class_weight=&#x27;balanced&#x27;,\n",
       "                                                max_depth=12,\n",
       "                                                min_samples_leaf=9,\n",
       "                                                min_samples_split=12, n_jobs=-1,\n",
       "                                                random_state=0),\n",
       "              require_dense=[True, True])</pre></div></div></div><div class=\"sk-parallel\"><div class=\"sk-parallel-item\"><div class=\"sk-item\"><div class=\"sk-label-container\"><div class=\"sk-label sk-toggleable\"><input class=\"sk-toggleable__control sk-hidden--visually\" id=\"sk-estimator-id-35\" type=\"checkbox\" ><label for=\"sk-estimator-id-35\" class=\"sk-toggleable__label sk-toggleable__label-arrow\">classifier: RandomForestClassifier</label><div class=\"sk-toggleable__content\"><pre>RandomForestClassifier(class_weight=&#x27;balanced&#x27;, max_depth=12,\n",
       "                       min_samples_leaf=9, min_samples_split=12, n_jobs=-1,\n",
       "                       random_state=0)</pre></div></div></div><div class=\"sk-serial\"><div class=\"sk-item\"><div class=\"sk-estimator sk-toggleable\"><input class=\"sk-toggleable__control sk-hidden--visually\" id=\"sk-estimator-id-36\" type=\"checkbox\" ><label for=\"sk-estimator-id-36\" class=\"sk-toggleable__label sk-toggleable__label-arrow\">RandomForestClassifier</label><div class=\"sk-toggleable__content\"><pre>RandomForestClassifier(class_weight=&#x27;balanced&#x27;, max_depth=12,\n",
       "                       min_samples_leaf=9, min_samples_split=12, n_jobs=-1,\n",
       "                       random_state=0)</pre></div></div></div></div></div></div></div></div></div></div>"
      ],
      "text/plain": [
       "LabelPowerset(classifier=RandomForestClassifier(class_weight='balanced',\n",
       "                                                max_depth=12,\n",
       "                                                min_samples_leaf=9,\n",
       "                                                min_samples_split=12, n_jobs=-1,\n",
       "                                                random_state=0),\n",
       "              require_dense=[True, True])"
      ]
     },
     "execution_count": 84,
     "metadata": {},
     "output_type": "execute_result"
    }
   ],
   "source": [
    "\n",
    "\n",
    "logreg = RandomForestClassifier(random_state=0, max_depth=12, class_weight=\"balanced\", n_jobs=-1,\n",
    "                                    min_samples_split=12, min_samples_leaf=9)\n",
    "\n",
    "\n",
    "lp_classifier = LabelPowerset(logreg)\n",
    "lp_classifier.fit(reviews_tfidf_matrix_train, y_train_q1)"
   ]
  },
  {
   "cell_type": "code",
   "execution_count": 85,
   "id": "5aaab46a",
   "metadata": {},
   "outputs": [],
   "source": [
    "y_pred_q1_test = lp_classifier.predict(reviews_tfidf_matrix_test)\n",
    "y_pred_q1_train = lp_classifier.predict(reviews_tfidf_matrix_train)"
   ]
  },
  {
   "cell_type": "markdown",
   "id": "e5ac9a62",
   "metadata": {},
   "source": [
    "Evaluate the model in the train and test datasets."
   ]
  },
  {
   "cell_type": "code",
   "execution_count": 86,
   "id": "b35bc9b6",
   "metadata": {},
   "outputs": [
    {
     "name": "stdout",
     "output_type": "stream",
     "text": [
      "Accuracy: 0.3713638080846241 \n",
      "Precision: 0.6252605896365561 \n",
      "Recall: 0.5371330601321401 \n",
      "F1: 0.5633370610398699\n"
     ]
    },
    {
     "data": {
      "text/plain": [
       "(0.3713638080846241,\n",
       " 0.6252605896365561,\n",
       " 0.5371330601321401,\n",
       " 0.5633370610398699)"
      ]
     },
     "execution_count": 86,
     "metadata": {},
     "output_type": "execute_result"
    }
   ],
   "source": [
    "fold_score_calculator(y_pred_q1_train, y_train_q1, verbose=True)"
   ]
  },
  {
   "cell_type": "code",
   "execution_count": 87,
   "id": "f69fb042",
   "metadata": {},
   "outputs": [
    {
     "name": "stdout",
     "output_type": "stream",
     "text": [
      "Accuracy: 0.2804632426988922 \n",
      "Precision: 0.5651790217141821 \n",
      "Recall: 0.4778391035290182 \n",
      "F1: 0.5031830840259375\n"
     ]
    },
    {
     "data": {
      "text/plain": [
       "(0.2804632426988922,\n",
       " 0.5651790217141821,\n",
       " 0.4778391035290182,\n",
       " 0.5031830840259375)"
      ]
     },
     "execution_count": 87,
     "metadata": {},
     "output_type": "execute_result"
    }
   ],
   "source": [
    "fold_score_calculator(y_pred_q1_test, y_test_q1, verbose=True)"
   ]
  },
  {
   "cell_type": "markdown",
   "id": "e0048fc5",
   "metadata": {},
   "source": [
    "#### 3.3 Doc2Vec\n",
    "[Back to TOC](#toc)"
   ]
  },
  {
   "cell_type": "code",
   "execution_count": null,
   "id": "48cbc67a",
   "metadata": {},
   "outputs": [],
   "source": [
    "# Prepare TaggedDocument for training\n",
    "documents = [TaggedDocument(words=word_tokenize(doc), tags=[i]) for i, doc in enumerate(X_train_q1)]\n",
    "\n",
    "# Train the Doc2Vec model\n",
    "d2v_model = Doc2Vec(\n",
    "    documents,\n",
    "    vector_size=300,\n",
    "    window=5,\n",
    "    min_count=1,\n",
    "    workers=4,\n",
    "    epochs=40\n",
    ")\n",
    "\n",
    "\n",
    "X_train = [d2v_model.dv[idx].tolist() for idx in range(len(X_train_q1))]\n",
    "X_test = [d2v_model.infer_vector(word_tokenize(content.lower())).tolist() for content in X_test_q1]"
   ]
  },
  {
   "cell_type": "markdown",
   "id": "4a9e7c19",
   "metadata": {},
   "source": [
    "##### 3.3.1 One vs Rest Classifier\n",
    "\n",
    "[Back to TOC](#toc)"
   ]
  },
  {
   "cell_type": "code",
   "execution_count": 142,
   "id": "08b06030",
   "metadata": {},
   "outputs": [],
   "source": [
    "#OneVsRest classifier\n",
    "ovm = OneVsRestClassifier(LogisticRegression(solver='lbfgs', max_iter=200,penalty='l2',multi_class='auto',  random_state=0, class_weight=\"balanced\")).fit(X_train, y_train_q1)"
   ]
  },
  {
   "cell_type": "code",
   "execution_count": 143,
   "id": "2350d3db",
   "metadata": {},
   "outputs": [],
   "source": [
    "y_pred_q1_test = ovm.predict(X_test)\n",
    "y_pred_q1_train = ovm.predict(X_train)"
   ]
  },
  {
   "cell_type": "markdown",
   "id": "fec1880d",
   "metadata": {},
   "source": [
    "Evaluate the model in the train and test datasets."
   ]
  },
  {
   "cell_type": "code",
   "execution_count": 144,
   "id": "67f4a1a0",
   "metadata": {},
   "outputs": [
    {
     "name": "stdout",
     "output_type": "stream",
     "text": [
      "Accuracy: 0.00591343734272773 \n",
      "Precision: 0.3901073427185188 \n",
      "Recall: 0.7447564134703769 \n",
      "F1: 0.47038585424568585\n"
     ]
    },
    {
     "data": {
      "text/plain": [
       "(0.00591343734272773,\n",
       " 0.3901073427185188,\n",
       " 0.7447564134703769,\n",
       " 0.47038585424568585)"
      ]
     },
     "execution_count": 144,
     "metadata": {},
     "output_type": "execute_result"
    }
   ],
   "source": [
    "fold_score_calculator(y_pred_q1_train, y_train_q1, verbose=True)"
   ]
  },
  {
   "cell_type": "code",
   "execution_count": 145,
   "id": "617a8072",
   "metadata": {},
   "outputs": [
    {
     "name": "stdout",
     "output_type": "stream",
     "text": [
      "Accuracy: 0.0025163563160543532 \n",
      "Precision: 0.32765750174029534 \n",
      "Recall: 0.6654405617789667 \n",
      "F1: 0.39101621886662136\n"
     ]
    },
    {
     "data": {
      "text/plain": [
       "(0.0025163563160543532,\n",
       " 0.32765750174029534,\n",
       " 0.6654405617789667,\n",
       " 0.39101621886662136)"
      ]
     },
     "execution_count": 145,
     "metadata": {},
     "output_type": "execute_result"
    }
   ],
   "source": [
    "fold_score_calculator(y_pred_q1_test, y_test_q1, verbose=True)"
   ]
  },
  {
   "cell_type": "markdown",
   "id": "c4aef670",
   "metadata": {},
   "source": [
    "##### 3.3.2 Chain Classifier with Logistic Regression\n",
    "[Back to TOC](#toc)"
   ]
  },
  {
   "cell_type": "code",
   "execution_count": 146,
   "id": "d61eb8f8",
   "metadata": {},
   "outputs": [],
   "source": [
    "#classifier Chain\n",
    "cchain = ClassifierChain(LogisticRegression(solver='lbfgs',C=0.05, max_iter=200,penalty='l2',multi_class='auto',  random_state=0, class_weight=\"balanced\"), order=\"random\").fit(X_train, y_train_q1)"
   ]
  },
  {
   "cell_type": "code",
   "execution_count": 147,
   "id": "3e4ddeb4",
   "metadata": {},
   "outputs": [],
   "source": [
    "y_pred_q1_test = cchain.predict(X_test)\n",
    "y_pred_q1_train = cchain.predict(X_train)"
   ]
  },
  {
   "cell_type": "markdown",
   "id": "5ac77dbd",
   "metadata": {},
   "source": [
    "Evaluate the model in the train and test datasets."
   ]
  },
  {
   "cell_type": "code",
   "execution_count": 148,
   "id": "a728bd75",
   "metadata": {},
   "outputs": [
    {
     "name": "stdout",
     "output_type": "stream",
     "text": [
      "Accuracy: 0.012204328132863613 \n",
      "Precision: 0.38512151309929415 \n",
      "Recall: 0.49757666917356064 \n",
      "F1: 0.40899452924447877\n"
     ]
    },
    {
     "data": {
      "text/plain": [
       "(0.012204328132863613,\n",
       " 0.38512151309929415,\n",
       " 0.49757666917356064,\n",
       " 0.40899452924447877)"
      ]
     },
     "execution_count": 148,
     "metadata": {},
     "output_type": "execute_result"
    }
   ],
   "source": [
    "fold_score_calculator(y_pred_q1_train, y_train_q1, verbose=True)"
   ]
  },
  {
   "cell_type": "code",
   "execution_count": 149,
   "id": "e749105c",
   "metadata": {},
   "outputs": [
    {
     "name": "stdout",
     "output_type": "stream",
     "text": [
      "Accuracy: 0.006542526421741319 \n",
      "Precision: 0.36044523676049495 \n",
      "Recall: 0.4751713760240762 \n",
      "F1: 0.38422628285499205\n"
     ]
    },
    {
     "data": {
      "text/plain": [
       "(0.006542526421741319,\n",
       " 0.36044523676049495,\n",
       " 0.4751713760240762,\n",
       " 0.38422628285499205)"
      ]
     },
     "execution_count": 149,
     "metadata": {},
     "output_type": "execute_result"
    }
   ],
   "source": [
    "fold_score_calculator(y_pred_q1_test, y_test_q1, verbose=True)"
   ]
  },
  {
   "cell_type": "markdown",
   "id": "ffd96fd4",
   "metadata": {},
   "source": [
    "##### 3.3 Chain Classifier with Random Forest\n",
    "[Back to TOC](#toc)"
   ]
  },
  {
   "cell_type": "code",
   "execution_count": 160,
   "id": "7bff7f43",
   "metadata": {},
   "outputs": [],
   "source": [
    "cchain = ClassifierChain(RandomForestClassifier(random_state=0, max_depth=3, class_weight=\"balanced\", n_jobs=-1, min_samples_split=10, min_samples_leaf=5), order=\"random\").fit(X_train, y_train_q1)"
   ]
  },
  {
   "cell_type": "code",
   "execution_count": 164,
   "id": "5bef2501",
   "metadata": {},
   "outputs": [],
   "source": [
    "y_pred_q1_test = cchain.predict(X_test)\n",
    "y_pred_q1_train = cchain.predict(X_train)"
   ]
  },
  {
   "cell_type": "markdown",
   "id": "06ed34ff",
   "metadata": {},
   "source": [
    "Evaluate the model in the train and test datasets."
   ]
  },
  {
   "cell_type": "code",
   "execution_count": 165,
   "id": "6bb05302",
   "metadata": {},
   "outputs": [
    {
     "name": "stdout",
     "output_type": "stream",
     "text": [
      "Accuracy: 0.005284348263714142 \n",
      "Precision: 0.3995298016526959 \n",
      "Recall: 0.649243753655887 \n",
      "F1: 0.4490695770890429\n"
     ]
    },
    {
     "data": {
      "text/plain": [
       "(0.005284348263714142,\n",
       " 0.3995298016526959,\n",
       " 0.649243753655887,\n",
       " 0.4490695770890429)"
      ]
     },
     "execution_count": 165,
     "metadata": {},
     "output_type": "execute_result"
    }
   ],
   "source": [
    "fold_score_calculator(y_pred_q1_train, y_train_q1, verbose=True)"
   ]
  },
  {
   "cell_type": "code",
   "execution_count": 166,
   "id": "84fb18fd",
   "metadata": {},
   "outputs": [
    {
     "name": "stdout",
     "output_type": "stream",
     "text": [
      "Accuracy: 0.0025163563160543532 \n",
      "Precision: 0.3563093572103084 \n",
      "Recall: 0.47283063032937633 \n",
      "F1: 0.37196098702815483\n"
     ]
    },
    {
     "data": {
      "text/plain": [
       "(0.0025163563160543532,\n",
       " 0.3563093572103084,\n",
       " 0.47283063032937633,\n",
       " 0.37196098702815483)"
      ]
     },
     "execution_count": 166,
     "metadata": {},
     "output_type": "execute_result"
    }
   ],
   "source": [
    "fold_score_calculator(y_pred_q1_test, y_test_q1, verbose=True)"
   ]
  },
  {
   "cell_type": "markdown",
   "id": "c904acef",
   "metadata": {},
   "source": [
    "##### 3.3.4 Label Powerset with Logistic Regression\n",
    "\n",
    "[Back to TOC](#toc)"
   ]
  },
  {
   "cell_type": "code",
   "execution_count": 175,
   "id": "39eb6a2b",
   "metadata": {},
   "outputs": [
    {
     "name": "stderr",
     "output_type": "stream",
     "text": [
      "[Parallel(n_jobs=1)]: Using backend SequentialBackend with 1 concurrent workers.\n",
      "[Parallel(n_jobs=1)]: Done   1 out of   1 | elapsed:    1.4s finished\n"
     ]
    },
    {
     "data": {
      "text/html": [
       "<style>#sk-container-id-15 {color: black;background-color: white;}#sk-container-id-15 pre{padding: 0;}#sk-container-id-15 div.sk-toggleable {background-color: white;}#sk-container-id-15 label.sk-toggleable__label {cursor: pointer;display: block;width: 100%;margin-bottom: 0;padding: 0.3em;box-sizing: border-box;text-align: center;}#sk-container-id-15 label.sk-toggleable__label-arrow:before {content: \"▸\";float: left;margin-right: 0.25em;color: #696969;}#sk-container-id-15 label.sk-toggleable__label-arrow:hover:before {color: black;}#sk-container-id-15 div.sk-estimator:hover label.sk-toggleable__label-arrow:before {color: black;}#sk-container-id-15 div.sk-toggleable__content {max-height: 0;max-width: 0;overflow: hidden;text-align: left;background-color: #f0f8ff;}#sk-container-id-15 div.sk-toggleable__content pre {margin: 0.2em;color: black;border-radius: 0.25em;background-color: #f0f8ff;}#sk-container-id-15 input.sk-toggleable__control:checked~div.sk-toggleable__content {max-height: 200px;max-width: 100%;overflow: auto;}#sk-container-id-15 input.sk-toggleable__control:checked~label.sk-toggleable__label-arrow:before {content: \"▾\";}#sk-container-id-15 div.sk-estimator input.sk-toggleable__control:checked~label.sk-toggleable__label {background-color: #d4ebff;}#sk-container-id-15 div.sk-label input.sk-toggleable__control:checked~label.sk-toggleable__label {background-color: #d4ebff;}#sk-container-id-15 input.sk-hidden--visually {border: 0;clip: rect(1px 1px 1px 1px);clip: rect(1px, 1px, 1px, 1px);height: 1px;margin: -1px;overflow: hidden;padding: 0;position: absolute;width: 1px;}#sk-container-id-15 div.sk-estimator {font-family: monospace;background-color: #f0f8ff;border: 1px dotted black;border-radius: 0.25em;box-sizing: border-box;margin-bottom: 0.5em;}#sk-container-id-15 div.sk-estimator:hover {background-color: #d4ebff;}#sk-container-id-15 div.sk-parallel-item::after {content: \"\";width: 100%;border-bottom: 1px solid gray;flex-grow: 1;}#sk-container-id-15 div.sk-label:hover label.sk-toggleable__label {background-color: #d4ebff;}#sk-container-id-15 div.sk-serial::before {content: \"\";position: absolute;border-left: 1px solid gray;box-sizing: border-box;top: 0;bottom: 0;left: 50%;z-index: 0;}#sk-container-id-15 div.sk-serial {display: flex;flex-direction: column;align-items: center;background-color: white;padding-right: 0.2em;padding-left: 0.2em;position: relative;}#sk-container-id-15 div.sk-item {position: relative;z-index: 1;}#sk-container-id-15 div.sk-parallel {display: flex;align-items: stretch;justify-content: center;background-color: white;position: relative;}#sk-container-id-15 div.sk-item::before, #sk-container-id-15 div.sk-parallel-item::before {content: \"\";position: absolute;border-left: 1px solid gray;box-sizing: border-box;top: 0;bottom: 0;left: 50%;z-index: -1;}#sk-container-id-15 div.sk-parallel-item {display: flex;flex-direction: column;z-index: 1;position: relative;background-color: white;}#sk-container-id-15 div.sk-parallel-item:first-child::after {align-self: flex-end;width: 50%;}#sk-container-id-15 div.sk-parallel-item:last-child::after {align-self: flex-start;width: 50%;}#sk-container-id-15 div.sk-parallel-item:only-child::after {width: 0;}#sk-container-id-15 div.sk-dashed-wrapped {border: 1px dashed gray;margin: 0 0.4em 0.5em 0.4em;box-sizing: border-box;padding-bottom: 0.4em;background-color: white;}#sk-container-id-15 div.sk-label label {font-family: monospace;font-weight: bold;display: inline-block;line-height: 1.2em;}#sk-container-id-15 div.sk-label-container {text-align: center;}#sk-container-id-15 div.sk-container {/* jupyter's `normalize.less` sets `[hidden] { display: none; }` but bootstrap.min.css set `[hidden] { display: none !important; }` so we also need the `!important` here to be able to override the default hidden behavior on the sphinx rendered scikit-learn.org. See: https://github.com/scikit-learn/scikit-learn/issues/21755 */display: inline-block !important;position: relative;}#sk-container-id-15 div.sk-text-repr-fallback {display: none;}</style><div id=\"sk-container-id-15\" class=\"sk-top-container\"><div class=\"sk-text-repr-fallback\"><pre>LabelPowerset(classifier=LogisticRegression(C=0.08, max_iter=2000,\n",
       "                                            random_state=42, verbose=1),\n",
       "              require_dense=[True, True])</pre><b>In a Jupyter environment, please rerun this cell to show the HTML representation or trust the notebook. <br />On GitHub, the HTML representation is unable to render, please try loading this page with nbviewer.org.</b></div><div class=\"sk-container\" hidden><div class=\"sk-item sk-dashed-wrapped\"><div class=\"sk-label-container\"><div class=\"sk-label sk-toggleable\"><input class=\"sk-toggleable__control sk-hidden--visually\" id=\"sk-estimator-id-43\" type=\"checkbox\" ><label for=\"sk-estimator-id-43\" class=\"sk-toggleable__label sk-toggleable__label-arrow\">LabelPowerset</label><div class=\"sk-toggleable__content\"><pre>LabelPowerset(classifier=LogisticRegression(C=0.08, max_iter=2000,\n",
       "                                            random_state=42, verbose=1),\n",
       "              require_dense=[True, True])</pre></div></div></div><div class=\"sk-parallel\"><div class=\"sk-parallel-item\"><div class=\"sk-item\"><div class=\"sk-label-container\"><div class=\"sk-label sk-toggleable\"><input class=\"sk-toggleable__control sk-hidden--visually\" id=\"sk-estimator-id-44\" type=\"checkbox\" ><label for=\"sk-estimator-id-44\" class=\"sk-toggleable__label sk-toggleable__label-arrow\">classifier: LogisticRegression</label><div class=\"sk-toggleable__content\"><pre>LogisticRegression(C=0.08, max_iter=2000, random_state=42, verbose=1)</pre></div></div></div><div class=\"sk-serial\"><div class=\"sk-item\"><div class=\"sk-estimator sk-toggleable\"><input class=\"sk-toggleable__control sk-hidden--visually\" id=\"sk-estimator-id-45\" type=\"checkbox\" ><label for=\"sk-estimator-id-45\" class=\"sk-toggleable__label sk-toggleable__label-arrow\">LogisticRegression</label><div class=\"sk-toggleable__content\"><pre>LogisticRegression(C=0.08, max_iter=2000, random_state=42, verbose=1)</pre></div></div></div></div></div></div></div></div></div></div>"
      ],
      "text/plain": [
       "LabelPowerset(classifier=LogisticRegression(C=0.08, max_iter=2000,\n",
       "                                            random_state=42, verbose=1),\n",
       "              require_dense=[True, True])"
      ]
     },
     "execution_count": 175,
     "metadata": {},
     "output_type": "execute_result"
    }
   ],
   "source": [
    "# Set up Logistic Regression with custom parameters\n",
    "logreg = LogisticRegression(\n",
    "    penalty='l2',\n",
    "    C=0.08,\n",
    "    solver='lbfgs',\n",
    "    max_iter=2000,\n",
    "    multi_class='auto',\n",
    "    random_state=42,\n",
    "    verbose=1\n",
    ")\n",
    "\n",
    "# Use LabelPowerset with Logistic Regression\n",
    "lp_classifier = LabelPowerset(logreg)\n",
    "lp_classifier.fit(X_train, y_train_q1)"
   ]
  },
  {
   "cell_type": "code",
   "execution_count": 176,
   "id": "e215020c",
   "metadata": {},
   "outputs": [],
   "source": [
    "y_pred_q1_test = lp_classifier.predict(X_test)\n",
    "y_pred_q1_train = lp_classifier.predict(X_train)"
   ]
  },
  {
   "cell_type": "markdown",
   "id": "c9899de6",
   "metadata": {},
   "source": [
    "Evaluate the model in the train and test datasets."
   ]
  },
  {
   "cell_type": "code",
   "execution_count": 177,
   "id": "f67d5e57",
   "metadata": {},
   "outputs": [
    {
     "name": "stdout",
     "output_type": "stream",
     "text": [
      "Accuracy: 0.2600654252642174 \n",
      "Precision: 0.5955776703417132 \n",
      "Recall: 0.4940670176318208 \n",
      "F1: 0.48960541643887096\n"
     ]
    },
    {
     "data": {
      "text/plain": [
       "(0.2600654252642174,\n",
       " 0.5955776703417132,\n",
       " 0.4940670176318208,\n",
       " 0.48960541643887096)"
      ]
     },
     "execution_count": 177,
     "metadata": {},
     "output_type": "execute_result"
    }
   ],
   "source": [
    "fold_score_calculator(y_pred_q1_train, y_train_q1, verbose=True)"
   ]
  },
  {
   "cell_type": "code",
   "execution_count": 178,
   "id": "6fb0e17b",
   "metadata": {},
   "outputs": [
    {
     "name": "stdout",
     "output_type": "stream",
     "text": [
      "Accuracy: 0.20634121791645696 \n",
      "Precision: 0.5053086305832457 \n",
      "Recall: 0.4614612940979769 \n",
      "F1: 0.45181688958331284\n"
     ]
    },
    {
     "data": {
      "text/plain": [
       "(0.20634121791645696,\n",
       " 0.5053086305832457,\n",
       " 0.4614612940979769,\n",
       " 0.45181688958331284)"
      ]
     },
     "execution_count": 178,
     "metadata": {},
     "output_type": "execute_result"
    }
   ],
   "source": [
    "fold_score_calculator(y_pred_q1_test, y_test_q1, verbose=True)"
   ]
  },
  {
   "cell_type": "markdown",
   "id": "69b618c0",
   "metadata": {},
   "source": [
    "##### 3.3.5 Label Powerset with Random Forest\n",
    "[Back to TOC](#toc)"
   ]
  },
  {
   "cell_type": "code",
   "execution_count": 183,
   "id": "f67dc115",
   "metadata": {},
   "outputs": [
    {
     "data": {
      "text/html": [
       "<style>#sk-container-id-17 {color: black;background-color: white;}#sk-container-id-17 pre{padding: 0;}#sk-container-id-17 div.sk-toggleable {background-color: white;}#sk-container-id-17 label.sk-toggleable__label {cursor: pointer;display: block;width: 100%;margin-bottom: 0;padding: 0.3em;box-sizing: border-box;text-align: center;}#sk-container-id-17 label.sk-toggleable__label-arrow:before {content: \"▸\";float: left;margin-right: 0.25em;color: #696969;}#sk-container-id-17 label.sk-toggleable__label-arrow:hover:before {color: black;}#sk-container-id-17 div.sk-estimator:hover label.sk-toggleable__label-arrow:before {color: black;}#sk-container-id-17 div.sk-toggleable__content {max-height: 0;max-width: 0;overflow: hidden;text-align: left;background-color: #f0f8ff;}#sk-container-id-17 div.sk-toggleable__content pre {margin: 0.2em;color: black;border-radius: 0.25em;background-color: #f0f8ff;}#sk-container-id-17 input.sk-toggleable__control:checked~div.sk-toggleable__content {max-height: 200px;max-width: 100%;overflow: auto;}#sk-container-id-17 input.sk-toggleable__control:checked~label.sk-toggleable__label-arrow:before {content: \"▾\";}#sk-container-id-17 div.sk-estimator input.sk-toggleable__control:checked~label.sk-toggleable__label {background-color: #d4ebff;}#sk-container-id-17 div.sk-label input.sk-toggleable__control:checked~label.sk-toggleable__label {background-color: #d4ebff;}#sk-container-id-17 input.sk-hidden--visually {border: 0;clip: rect(1px 1px 1px 1px);clip: rect(1px, 1px, 1px, 1px);height: 1px;margin: -1px;overflow: hidden;padding: 0;position: absolute;width: 1px;}#sk-container-id-17 div.sk-estimator {font-family: monospace;background-color: #f0f8ff;border: 1px dotted black;border-radius: 0.25em;box-sizing: border-box;margin-bottom: 0.5em;}#sk-container-id-17 div.sk-estimator:hover {background-color: #d4ebff;}#sk-container-id-17 div.sk-parallel-item::after {content: \"\";width: 100%;border-bottom: 1px solid gray;flex-grow: 1;}#sk-container-id-17 div.sk-label:hover label.sk-toggleable__label {background-color: #d4ebff;}#sk-container-id-17 div.sk-serial::before {content: \"\";position: absolute;border-left: 1px solid gray;box-sizing: border-box;top: 0;bottom: 0;left: 50%;z-index: 0;}#sk-container-id-17 div.sk-serial {display: flex;flex-direction: column;align-items: center;background-color: white;padding-right: 0.2em;padding-left: 0.2em;position: relative;}#sk-container-id-17 div.sk-item {position: relative;z-index: 1;}#sk-container-id-17 div.sk-parallel {display: flex;align-items: stretch;justify-content: center;background-color: white;position: relative;}#sk-container-id-17 div.sk-item::before, #sk-container-id-17 div.sk-parallel-item::before {content: \"\";position: absolute;border-left: 1px solid gray;box-sizing: border-box;top: 0;bottom: 0;left: 50%;z-index: -1;}#sk-container-id-17 div.sk-parallel-item {display: flex;flex-direction: column;z-index: 1;position: relative;background-color: white;}#sk-container-id-17 div.sk-parallel-item:first-child::after {align-self: flex-end;width: 50%;}#sk-container-id-17 div.sk-parallel-item:last-child::after {align-self: flex-start;width: 50%;}#sk-container-id-17 div.sk-parallel-item:only-child::after {width: 0;}#sk-container-id-17 div.sk-dashed-wrapped {border: 1px dashed gray;margin: 0 0.4em 0.5em 0.4em;box-sizing: border-box;padding-bottom: 0.4em;background-color: white;}#sk-container-id-17 div.sk-label label {font-family: monospace;font-weight: bold;display: inline-block;line-height: 1.2em;}#sk-container-id-17 div.sk-label-container {text-align: center;}#sk-container-id-17 div.sk-container {/* jupyter's `normalize.less` sets `[hidden] { display: none; }` but bootstrap.min.css set `[hidden] { display: none !important; }` so we also need the `!important` here to be able to override the default hidden behavior on the sphinx rendered scikit-learn.org. See: https://github.com/scikit-learn/scikit-learn/issues/21755 */display: inline-block !important;position: relative;}#sk-container-id-17 div.sk-text-repr-fallback {display: none;}</style><div id=\"sk-container-id-17\" class=\"sk-top-container\"><div class=\"sk-text-repr-fallback\"><pre>LabelPowerset(classifier=RandomForestClassifier(class_weight=&#x27;balanced&#x27;,\n",
       "                                                max_depth=4, min_samples_leaf=5,\n",
       "                                                min_samples_split=10, n_jobs=-1,\n",
       "                                                random_state=0),\n",
       "              require_dense=[True, True])</pre><b>In a Jupyter environment, please rerun this cell to show the HTML representation or trust the notebook. <br />On GitHub, the HTML representation is unable to render, please try loading this page with nbviewer.org.</b></div><div class=\"sk-container\" hidden><div class=\"sk-item sk-dashed-wrapped\"><div class=\"sk-label-container\"><div class=\"sk-label sk-toggleable\"><input class=\"sk-toggleable__control sk-hidden--visually\" id=\"sk-estimator-id-49\" type=\"checkbox\" ><label for=\"sk-estimator-id-49\" class=\"sk-toggleable__label sk-toggleable__label-arrow\">LabelPowerset</label><div class=\"sk-toggleable__content\"><pre>LabelPowerset(classifier=RandomForestClassifier(class_weight=&#x27;balanced&#x27;,\n",
       "                                                max_depth=4, min_samples_leaf=5,\n",
       "                                                min_samples_split=10, n_jobs=-1,\n",
       "                                                random_state=0),\n",
       "              require_dense=[True, True])</pre></div></div></div><div class=\"sk-parallel\"><div class=\"sk-parallel-item\"><div class=\"sk-item\"><div class=\"sk-label-container\"><div class=\"sk-label sk-toggleable\"><input class=\"sk-toggleable__control sk-hidden--visually\" id=\"sk-estimator-id-50\" type=\"checkbox\" ><label for=\"sk-estimator-id-50\" class=\"sk-toggleable__label sk-toggleable__label-arrow\">classifier: RandomForestClassifier</label><div class=\"sk-toggleable__content\"><pre>RandomForestClassifier(class_weight=&#x27;balanced&#x27;, max_depth=4, min_samples_leaf=5,\n",
       "                       min_samples_split=10, n_jobs=-1, random_state=0)</pre></div></div></div><div class=\"sk-serial\"><div class=\"sk-item\"><div class=\"sk-estimator sk-toggleable\"><input class=\"sk-toggleable__control sk-hidden--visually\" id=\"sk-estimator-id-51\" type=\"checkbox\" ><label for=\"sk-estimator-id-51\" class=\"sk-toggleable__label sk-toggleable__label-arrow\">RandomForestClassifier</label><div class=\"sk-toggleable__content\"><pre>RandomForestClassifier(class_weight=&#x27;balanced&#x27;, max_depth=4, min_samples_leaf=5,\n",
       "                       min_samples_split=10, n_jobs=-1, random_state=0)</pre></div></div></div></div></div></div></div></div></div></div>"
      ],
      "text/plain": [
       "LabelPowerset(classifier=RandomForestClassifier(class_weight='balanced',\n",
       "                                                max_depth=4, min_samples_leaf=5,\n",
       "                                                min_samples_split=10, n_jobs=-1,\n",
       "                                                random_state=0),\n",
       "              require_dense=[True, True])"
      ]
     },
     "execution_count": 183,
     "metadata": {},
     "output_type": "execute_result"
    }
   ],
   "source": [
    "# Set up Logistic Regression with custom parameters\n",
    "logreg = RandomForestClassifier(random_state=0, max_depth=4, class_weight=\"balanced\", n_jobs=-1,\n",
    "                                    min_samples_split=10, min_samples_leaf=5)\n",
    "\n",
    "# Use LabelPowerset with Logistic Regression\n",
    "lp_classifier = LabelPowerset(logreg)\n",
    "lp_classifier.fit(X_train, y_train_q1)"
   ]
  },
  {
   "cell_type": "code",
   "execution_count": 184,
   "id": "b4e3f934",
   "metadata": {},
   "outputs": [],
   "source": [
    "y_pred_q1_test = lp_classifier.predict(X_test)\n",
    "y_pred_q1_train = lp_classifier.predict(X_train)"
   ]
  },
  {
   "cell_type": "markdown",
   "id": "0b46a7bb",
   "metadata": {},
   "source": [
    "Evaluate the model in the train and test datasets."
   ]
  },
  {
   "cell_type": "code",
   "execution_count": 185,
   "id": "271558b6",
   "metadata": {},
   "outputs": [
    {
     "name": "stdout",
     "output_type": "stream",
     "text": [
      "Accuracy: 0.2271011575239054 \n",
      "Precision: 0.521522506395734 \n",
      "Recall: 0.38585276176151084 \n",
      "F1: 0.4197189730553297\n"
     ]
    },
    {
     "data": {
      "text/plain": [
       "(0.2271011575239054,\n",
       " 0.521522506395734,\n",
       " 0.38585276176151084,\n",
       " 0.4197189730553297)"
      ]
     },
     "execution_count": 185,
     "metadata": {},
     "output_type": "execute_result"
    }
   ],
   "source": [
    "fold_score_calculator(y_pred_q1_train, y_train_q1, verbose=True)"
   ]
  },
  {
   "cell_type": "code",
   "execution_count": 182,
   "id": "454afdbc",
   "metadata": {},
   "outputs": [
    {
     "name": "stdout",
     "output_type": "stream",
     "text": [
      "Accuracy: 0.07247106190236538 \n",
      "Precision: 0.3400464665545258 \n",
      "Recall: 0.279886306637686 \n",
      "F1: 0.2931888546224736\n"
     ]
    },
    {
     "name": "stderr",
     "output_type": "stream",
     "text": [
      "c:\\Users\\david\\miniconda3\\envs\\text-mining1\\lib\\site-packages\\sklearn\\metrics\\_classification.py:1344: UndefinedMetricWarning: Precision is ill-defined and being set to 0.0 in labels with no predicted samples. Use `zero_division` parameter to control this behavior.\n",
      "  _warn_prf(average, modifier, msg_start, len(result))\n"
     ]
    },
    {
     "data": {
      "text/plain": [
       "(0.07247106190236538,\n",
       " 0.3400464665545258,\n",
       " 0.279886306637686,\n",
       " 0.2931888546224736)"
      ]
     },
     "execution_count": 182,
     "metadata": {},
     "output_type": "execute_result"
    }
   ],
   "source": [
    "fold_score_calculator(y_pred_q1_test, y_test_q1, verbose=True)"
   ]
  },
  {
   "cell_type": "markdown",
   "id": "4a5bd0f7",
   "metadata": {},
   "source": [
    "##### 3.3.6 LSTM\n",
    "[Back to TOC](#toc)"
   ]
  },
  {
   "cell_type": "code",
   "execution_count": null,
   "id": "d030cf35",
   "metadata": {},
   "outputs": [],
   "source": [
    "# To run this part it is necessary to update the version of numpy\n",
    "# Tensorflow\n",
    "##pip install numpy==1.26.0\n",
    "import tensorflow as tf\n",
    "from tensorflow.keras.models import Sequential\n",
    "from tensorflow.keras.layers import Embedding, LSTM, Dense, Dropout\n",
    "from tensorflow.keras.preprocessing.text import Tokenizer\n",
    "from tensorflow.keras.preprocessing.sequence import pad_sequences\n",
    "from nltk.tokenize import word_tokenize"
   ]
  },
  {
   "cell_type": "markdown",
   "id": "2aa97cc5",
   "metadata": {},
   "source": [
    "Divide the train dataset into train and validation datasets."
   ]
  },
  {
   "cell_type": "code",
   "execution_count": 26,
   "id": "7beaf91c",
   "metadata": {},
   "outputs": [],
   "source": [
    "X_train, X_val, y_train, y_val = train_test_split(X_train_q1, y_train_q1, stratify= y_train_q1, test_size=0.3, random_state=0)"
   ]
  },
  {
   "cell_type": "code",
   "execution_count": null,
   "id": "2dd05258",
   "metadata": {},
   "outputs": [],
   "source": [
    "# Prepare TaggedDocument for training\n",
    "documents = [TaggedDocument(words=word_tokenize(doc), tags=[i]) for i, doc in enumerate(X_train)]\n",
    "\n",
    "# Train the Doc2Vec model\n",
    "d2v_model = Doc2Vec(\n",
    "    documents,\n",
    "    vector_size=300,\n",
    "    window=5,\n",
    "    min_count=1,\n",
    "    workers=4,\n",
    "    epochs=40\n",
    ")\n",
    "\n",
    "\n",
    "X_train = [d2v_model.dv[idx].tolist() for idx in range(len(X_train))]\n",
    "X_val = [d2v_model.infer_vector(word_tokenize(content.lower())).tolist() for content in X_val]\n",
    "X_test = [d2v_model.infer_vector(word_tokenize(content.lower())).tolist() for content in X_test_q1]"
   ]
  },
  {
   "cell_type": "code",
   "execution_count": 30,
   "id": "9c9a0be9",
   "metadata": {},
   "outputs": [],
   "source": [
    "X_train=np.array(X_train)\n",
    "X_val=np.array(X_val)\n",
    "X_test=np.array(X_test)"
   ]
  },
  {
   "cell_type": "markdown",
   "id": "02243c9a",
   "metadata": {},
   "source": [
    "Evaluate the model in the train and test datasets."
   ]
  },
  {
   "cell_type": "code",
   "execution_count": 33,
   "id": "a601ff12",
   "metadata": {},
   "outputs": [
    {
     "name": "stdout",
     "output_type": "stream",
     "text": [
      "Epoch 1/10\n",
      "\u001b[1m223/223\u001b[0m \u001b[32m━━━━━━━━━━━━━━━━━━━━\u001b[0m\u001b[37m\u001b[0m \u001b[1m47s\u001b[0m 192ms/step - accuracy: 0.0374 - loss: 0.3387 - precision: 0.2416 - recall: 0.2720 - val_accuracy: 0.0398 - val_loss: 0.2033 - val_precision: 0.6017 - val_recall: 0.1998\n",
      "Epoch 2/10\n",
      "\u001b[1m223/223\u001b[0m \u001b[32m━━━━━━━━━━━━━━━━━━━━\u001b[0m\u001b[37m\u001b[0m \u001b[1m40s\u001b[0m 179ms/step - accuracy: 0.0383 - loss: 0.2038 - precision: 0.6031 - recall: 0.1996 - val_accuracy: 0.0398 - val_loss: 0.2025 - val_precision: 0.6017 - val_recall: 0.1998\n",
      "Epoch 3/10\n",
      "\u001b[1m223/223\u001b[0m \u001b[32m━━━━━━━━━━━━━━━━━━━━\u001b[0m\u001b[37m\u001b[0m \u001b[1m40s\u001b[0m 181ms/step - accuracy: 0.0424 - loss: 0.2031 - precision: 0.6052 - recall: 0.2020 - val_accuracy: 0.0398 - val_loss: 0.2025 - val_precision: 0.6017 - val_recall: 0.1998\n",
      "Epoch 4/10\n",
      "\u001b[1m223/223\u001b[0m \u001b[32m━━━━━━━━━━━━━━━━━━━━\u001b[0m\u001b[37m\u001b[0m \u001b[1m45s\u001b[0m 202ms/step - accuracy: 0.0404 - loss: 0.2049 - precision: 0.5973 - recall: 0.1977 - val_accuracy: 0.0398 - val_loss: 0.2026 - val_precision: 0.6017 - val_recall: 0.1998\n",
      "Epoch 5/10\n",
      "\u001b[1m223/223\u001b[0m \u001b[32m━━━━━━━━━━━━━━━━━━━━\u001b[0m\u001b[37m\u001b[0m \u001b[1m42s\u001b[0m 190ms/step - accuracy: 0.0404 - loss: 0.2019 - precision: 0.5922 - recall: 0.1983 - val_accuracy: 0.0398 - val_loss: 0.2027 - val_precision: 0.6017 - val_recall: 0.1998\n",
      "Epoch 6/10\n",
      "\u001b[1m223/223\u001b[0m \u001b[32m━━━━━━━━━━━━━━━━━━━━\u001b[0m\u001b[37m\u001b[0m \u001b[1m44s\u001b[0m 195ms/step - accuracy: 0.0399 - loss: 0.2025 - precision: 0.6042 - recall: 0.2006 - val_accuracy: 0.0398 - val_loss: 0.2026 - val_precision: 0.6017 - val_recall: 0.1998\n",
      "Epoch 7/10\n",
      "\u001b[1m223/223\u001b[0m \u001b[32m━━━━━━━━━━━━━━━━━━━━\u001b[0m\u001b[37m\u001b[0m \u001b[1m41s\u001b[0m 186ms/step - accuracy: 0.0427 - loss: 0.2029 - precision: 0.6007 - recall: 0.1994 - val_accuracy: 0.0398 - val_loss: 0.2031 - val_precision: 0.6017 - val_recall: 0.1998\n",
      "Epoch 8/10\n",
      "\u001b[1m223/223\u001b[0m \u001b[32m━━━━━━━━━━━━━━━━━━━━\u001b[0m\u001b[37m\u001b[0m \u001b[1m42s\u001b[0m 189ms/step - accuracy: 0.0380 - loss: 0.2040 - precision: 0.6076 - recall: 0.2005 - val_accuracy: 0.0398 - val_loss: 0.2024 - val_precision: 0.6017 - val_recall: 0.1998\n",
      "Epoch 9/10\n",
      "\u001b[1m223/223\u001b[0m \u001b[32m━━━━━━━━━━━━━━━━━━━━\u001b[0m\u001b[37m\u001b[0m \u001b[1m38s\u001b[0m 171ms/step - accuracy: 0.0404 - loss: 0.2023 - precision: 0.6041 - recall: 0.2006 - val_accuracy: 0.0398 - val_loss: 0.2025 - val_precision: 0.6017 - val_recall: 0.1998\n",
      "Epoch 10/10\n",
      "\u001b[1m223/223\u001b[0m \u001b[32m━━━━━━━━━━━━━━━━━━━━\u001b[0m\u001b[37m\u001b[0m \u001b[1m40s\u001b[0m 178ms/step - accuracy: 0.0457 - loss: 0.2013 - precision: 0.5977 - recall: 0.2013 - val_accuracy: 0.0398 - val_loss: 0.2029 - val_precision: 0.6017 - val_recall: 0.1998\n"
     ]
    },
    {
     "data": {
      "text/plain": [
       "<keras.src.callbacks.history.History at 0x211d2587490>"
      ]
     },
     "execution_count": 33,
     "metadata": {},
     "output_type": "execute_result"
    }
   ],
   "source": [
    "model = Sequential([\n",
    "    Embedding(input_dim=300, output_dim=300),  # Using the same embedding dimension as Doc2Vec\n",
    "    LSTM(128, return_sequences=False),  \n",
    "    Dense(1024, activation='relu'),\n",
    "    Dense(512, activation='relu'),  \n",
    "    Dense(256, activation='relu'),\n",
    "    Dense(128, activation='relu'),\n",
    "    Dense(64, activation='relu'),\n",
    "    Dense(32, activation='relu'),\n",
    "    Dense(y_train_q1.shape[1], activation='sigmoid')  \n",
    "])\n",
    "\n",
    "model.compile(optimizer='adam', loss='binary_crossentropy', metrics=['accuracy', 'recall', 'precision'])\n",
    "\n",
    "model.fit(X_train, y_train, epochs=10, batch_size=25,  verbose=1,  validation_data=(X_val, y_val))"
   ]
  },
  {
   "cell_type": "markdown",
   "id": "2f05d6c0",
   "metadata": {},
   "source": [
    "A Simple LSTM didn't show significant results"
   ]
  },
  {
   "cell_type": "markdown",
   "id": "89382712",
   "metadata": {},
   "source": [
    "<font color='#BFD72F' size= 5>4. Grid Search</font> <a class=\"anchor\" id=\"P23\"></a>\n",
    "\n",
    "[Back to TOC](#toc)"
   ]
  },
  {
   "cell_type": "markdown",
   "id": "24be12c5",
   "metadata": {},
   "source": [
    "#### 4.1 Grid Search only for 1 model (Hold Out Method)"
   ]
  },
  {
   "cell_type": "markdown",
   "id": "729e4dae",
   "metadata": {},
   "source": [
    "The best model until now was Label Powerset of Random Forest with Bag of Words, with an F1 score in train of 0.537 and test of 0.510."
   ]
  },
  {
   "cell_type": "code",
   "execution_count": 51,
   "id": "6605b43a",
   "metadata": {},
   "outputs": [],
   "source": [
    "# Split the train dataset into Train and validation datasets\n",
    "X_train, X_val, y_train, y_val = train_test_split(X_train_q1, y_train_q1, stratify= y_train_q1, test_size=0.3, random_state=0)"
   ]
  },
  {
   "cell_type": "code",
   "execution_count": 52,
   "id": "1154235c",
   "metadata": {},
   "outputs": [],
   "source": [
    "# Train\n",
    "bigram_count_vectorizer = CountVectorizer(ngram_range=(1, 1), token_pattern=r\"(?u)\\b\\w+\\b\")\n",
    "X_train = bigram_count_vectorizer.fit_transform(X_train).toarray()\n",
    "\n",
    "# Test\n",
    "X_test = bigram_count_vectorizer.transform(X_test_q1).toarray()\n",
    "# val\n",
    "X_val = bigram_count_vectorizer.transform(X_val).toarray()"
   ]
  },
  {
   "cell_type": "code",
   "execution_count": null,
   "id": "1f39c6f0",
   "metadata": {},
   "outputs": [],
   "source": [
    "# Define the hyperparameter grid for RandomForestClassifier\n",
    "param_grid = {\n",
    "    'max_depth': [7],  \n",
    "    'min_samples_split': [10, 8],  \n",
    "    'min_samples_leaf': [5, 3]  \n",
    "}\n",
    "\n",
    "# Initialize the RandomForestClassifier LabelPowerset model\n",
    "logreg = RandomForestClassifier(random_state=0, class_weight=\"balanced\", n_jobs=-1)\n",
    "lp_classifier = LabelPowerset(classifier=logreg)\n",
    "\n",
    "best_score = 0\n",
    "best_params = {}\n",
    "\n",
    "# Iterate through all combinations of hyperparameters \n",
    "for combination in product(param_grid['max_depth'], param_grid['min_samples_split'], param_grid['min_samples_leaf']):\n",
    "    max_depth, min_samples_split, min_samples_leaf = combination\n",
    "    \n",
    "    lp_classifier.classifier.set_params(max_depth=max_depth, \n",
    "                                        min_samples_split=min_samples_split,\n",
    "                                        min_samples_leaf=min_samples_leaf)\n",
    "    \n",
    "    lp_classifier.fit(X_train, y_train)\n",
    "    \n",
    "    # Evaluate the model\n",
    "    y_pred = lp_classifier.predict(X_val)\n",
    "    score = f1_score(y_val, y_pred, average='macro')\n",
    "    \n",
    "    # Print the model parameters and its F1 score\n",
    "    print(f\"Model with max_depth={max_depth}, min_samples_split={min_samples_split}, min_samples_leaf={min_samples_leaf} - F1 score: {score:.4f}\")\n",
    "    \n",
    "    # Check if this combination is the best and update the best parameters\n",
    "    if score > best_score:\n",
    "        best_score = score\n",
    "        best_params = {'max_depth': max_depth, 'min_samples_split': min_samples_split, 'min_samples_leaf': min_samples_leaf}\n",
    "\n",
    "# Print the best parameters and score\n",
    "print(\"\\nBest parameters for LabelPowerset Classifier:\")\n",
    "print(best_params)\n",
    "print(\"Best score for LabelPowerset Classifier:\", best_score)"
   ]
  },
  {
   "cell_type": "markdown",
   "id": "9edf29dc",
   "metadata": {},
   "source": [
    "#### 4.2 Grid Search pipeline (Hold Out Method)"
   ]
  },
  {
   "cell_type": "markdown",
   "id": "bd3e612c",
   "metadata": {},
   "source": [
    "In this grid search we not only test best hyperparameters but also the best preprocessing approach."
   ]
  },
  {
   "cell_type": "code",
   "execution_count": null,
   "id": "c0db8670",
   "metadata": {},
   "outputs": [],
   "source": [
    "reviews = pd.read_pickle('data/reviews_initial_preproc.pkl')\n",
    "restaurants = pd.read_pickle('data/restaurants_initial_preproc.pkl')"
   ]
  },
  {
   "cell_type": "code",
   "execution_count": 88,
   "id": "0a5b67da",
   "metadata": {},
   "outputs": [],
   "source": [
    "def preproc(reviews, restaurants, giberish=True, no_stopwords=True, lemmatized=True,  lowercase=True):\n",
    " \"\"\"\n",
    "  Preprocesses the reviews and splits the dataset into training, validation, and test sets using Bag-of-Words.\n",
    "\n",
    "  Parameters:\n",
    "  - reviews: DataFrame containing review \n",
    "  - restaurants: DataFrame containing restaurant data\n",
    "  - giberish: If True, removes reviews detected as gibberish. Default is True.\n",
    "  - no_stopwords: If True, removes stopwords during text preprocessing. Default is True.\n",
    "  - lemmatized: If True, applies lemmatization to words during preprocessing. Default is True.\n",
    "  - lowercase: If True, converts all text to lowercase. Default is True.\n",
    "\n",
    "  Returns:\n",
    "  - X_train (numpy.ndarray): Bag-of-Words representation of the training set features.\n",
    "  - X_val (numpy.ndarray): Bag-of-Words representation of the validation set features.\n",
    "  - X_test (numpy.ndarray): Bag-of-Words representation of the test set features.\n",
    "  - y_train (numpy.ndarray): Binary labels for the training set (cuisines).\n",
    "  - y_val (numpy.ndarray): Binary labels for the validation set (cuisines).\n",
    "  - y_test_q1 (numpy.ndarray): Binary labels for the test set (cuisines).\n",
    "\"\"\"\n",
    "\n",
    " #Giberish condition\n",
    " if giberish:\n",
    "    reviews[\"is_giberish\"] =\\\n",
    "      reviews[\"Review\"].apply(lambda review : classify_gibberish(str(review)))\n",
    "\n",
    "    reviews = reviews[reviews['is_giberish']<96]\n",
    "\n",
    " # Preprocess the text reviews\n",
    " reviews['rev_proc'] = reviews['Review'].apply(lambda review: main_pipeline(review, \n",
    "                  no_stopwords = no_stopwords,\n",
    "                  convert_diacritics = True, \n",
    "                  lowercase = lowercase, \n",
    "                  lemmatized = lemmatized,\n",
    "                  list_pos = [\"n\",\"v\",\"a\",\"r\",\"s\"],\n",
    "                  stemmed = not lemmatized, \n",
    "                  pos_tags_list = \"no_pos\",\n",
    "                  tokenized_output = False,\n",
    "                  no_emojis = True,\n",
    "                  no_hashtags = True,\n",
    "                  hashtag_retain_words = True,\n",
    "                  no_urls = True,\n",
    "                  no_punctuation = True))\n",
    " \n",
    " #Check nan values\n",
    " reviews = reviews[reviews['rev_proc'].notna()]  \n",
    " reviews = reviews[reviews['rev_proc'] != '']   \n",
    " #preprocess the dataset\n",
    " reviews_with_cuisine = pd.merge(reviews, restaurants[['Name', 'Cuisines']], left_on='Restaurant', right_on='Name', how='left')\n",
    " reviews_with_cuisine.drop('Name', axis=1, inplace=True)\n",
    "\n",
    " mlb = MultiLabelBinarizer()\n",
    " binarised_labels = mlb.fit_transform(reviews_with_cuisine[\"Cuisines\"])\n",
    " reviews_with_cuisine[\"label_cuisines\"] = binarised_labels.tolist()\n",
    "\n",
    " #Split the dataset\n",
    " X_train_q1, X_test_q1, y_train_q1, y_test_q1 = train_test_split(reviews_with_cuisine['rev_proc'], binarised_labels, stratify= binarised_labels, test_size=0.2, random_state=0)\n",
    "\n",
    " X_train, X_val, y_train, y_val = train_test_split(X_train_q1, y_train_q1, stratify= y_train_q1, test_size=0.2, random_state=0)\n",
    "\n",
    " # Train BOW\n",
    " bigram_count_vectorizer = CountVectorizer(ngram_range=(1, 1), token_pattern=r\"(?u)\\b\\w+\\b\")\n",
    " X_train = bigram_count_vectorizer.fit_transform(X_train).toarray()\n",
    "\n",
    " # Test BOW\n",
    " X_test = bigram_count_vectorizer.transform(X_test_q1).toarray()\n",
    " # val BOW\n",
    " X_val = bigram_count_vectorizer.transform(X_val).toarray()\n",
    "\n",
    " return X_train, X_val, X_test, y_train, y_val, y_test_q1"
   ]
  },
  {
   "cell_type": "code",
   "execution_count": 89,
   "id": "3135fcbb",
   "metadata": {},
   "outputs": [],
   "source": [
    "# Define the hyperparameter grid for preprocessing text\n",
    "parameter_preproc = {'preprocessor__no_stopwords':[True,False],\n",
    "                  'preprocessor__lemmatized':[True,False],\n",
    "                  'preprocessor__lowercase':[True,False],\n",
    "                  'preprocessor__giberish':[True,False]}"
   ]
  },
  {
   "cell_type": "code",
   "execution_count": 92,
   "id": "754a7395",
   "metadata": {},
   "outputs": [],
   "source": [
    "# Define the hyperparameter grid for RandomForestClassifier\n",
    "param_grid = {\n",
    "    'max_depth': [9, 11,13],  \n",
    "    'min_samples_split': [5,7, 10], \n",
    "    'min_samples_leaf': [5,7, 10]  \n",
    "}\n",
    "\n",
    "logreg = RandomForestClassifier(random_state=0, class_weight=\"balanced\", n_jobs=-1)\n",
    "lp_classifier = LabelPowerset(classifier=logreg)"
   ]
  },
  {
   "cell_type": "code",
   "execution_count": 95,
   "id": "0486e37e",
   "metadata": {},
   "outputs": [
    {
     "name": "stdout",
     "output_type": "stream",
     "text": [
      "Preprocessing params: no_stopwords=True, lemmatized=True, lowercase=True, giberish=True | Model params: max_depth=9, min_samples_split=5, min_samples_leaf=5 - F1 score train : 0.4684, F1 score val: 0.4126\n",
      "Best score: 0.4126\n",
      "Preprocessing params: no_stopwords=True, lemmatized=True, lowercase=True, giberish=True | Model params: max_depth=9, min_samples_split=5, min_samples_leaf=7 - F1 score train : 0.4596, F1 score val: 0.3909\n",
      "Best score: 0.4126\n",
      "Preprocessing params: no_stopwords=True, lemmatized=True, lowercase=True, giberish=True | Model params: max_depth=9, min_samples_split=5, min_samples_leaf=10 - F1 score train : 0.4442, F1 score val: 0.3670\n",
      "Best score: 0.4126\n",
      "Preprocessing params: no_stopwords=True, lemmatized=True, lowercase=True, giberish=True | Model params: max_depth=9, min_samples_split=7, min_samples_leaf=5 - F1 score train : 0.4684, F1 score val: 0.4126\n",
      "Best score: 0.4126\n",
      "Preprocessing params: no_stopwords=True, lemmatized=True, lowercase=True, giberish=True | Model params: max_depth=9, min_samples_split=7, min_samples_leaf=7 - F1 score train : 0.4596, F1 score val: 0.3909\n",
      "Best score: 0.4126\n",
      "Preprocessing params: no_stopwords=True, lemmatized=True, lowercase=True, giberish=True | Model params: max_depth=9, min_samples_split=7, min_samples_leaf=10 - F1 score train : 0.4442, F1 score val: 0.3670\n",
      "Best score: 0.4126\n",
      "Preprocessing params: no_stopwords=True, lemmatized=True, lowercase=True, giberish=True | Model params: max_depth=9, min_samples_split=10, min_samples_leaf=5 - F1 score train : 0.4684, F1 score val: 0.4126\n",
      "Best score: 0.4126\n",
      "Preprocessing params: no_stopwords=True, lemmatized=True, lowercase=True, giberish=True | Model params: max_depth=9, min_samples_split=10, min_samples_leaf=7 - F1 score train : 0.4596, F1 score val: 0.3909\n",
      "Best score: 0.4126\n",
      "Preprocessing params: no_stopwords=True, lemmatized=True, lowercase=True, giberish=True | Model params: max_depth=9, min_samples_split=10, min_samples_leaf=10 - F1 score train : 0.4442, F1 score val: 0.3670\n",
      "Best score: 0.4126\n",
      "Preprocessing params: no_stopwords=True, lemmatized=True, lowercase=True, giberish=True | Model params: max_depth=11, min_samples_split=5, min_samples_leaf=5 - F1 score train : 0.4823, F1 score val: 0.4255\n",
      "Best score: 0.4255\n",
      "Preprocessing params: no_stopwords=True, lemmatized=True, lowercase=True, giberish=True | Model params: max_depth=11, min_samples_split=5, min_samples_leaf=7 - F1 score train : 0.4686, F1 score val: 0.3933\n",
      "Best score: 0.4255\n",
      "Preprocessing params: no_stopwords=True, lemmatized=True, lowercase=True, giberish=True | Model params: max_depth=11, min_samples_split=5, min_samples_leaf=10 - F1 score train : 0.4585, F1 score val: 0.3748\n",
      "Best score: 0.4255\n",
      "Preprocessing params: no_stopwords=True, lemmatized=True, lowercase=True, giberish=True | Model params: max_depth=11, min_samples_split=7, min_samples_leaf=5 - F1 score train : 0.4823, F1 score val: 0.4255\n",
      "Best score: 0.4255\n",
      "Preprocessing params: no_stopwords=True, lemmatized=True, lowercase=True, giberish=True | Model params: max_depth=11, min_samples_split=7, min_samples_leaf=7 - F1 score train : 0.4686, F1 score val: 0.3933\n",
      "Best score: 0.4255\n",
      "Preprocessing params: no_stopwords=True, lemmatized=True, lowercase=True, giberish=True | Model params: max_depth=11, min_samples_split=7, min_samples_leaf=10 - F1 score train : 0.4585, F1 score val: 0.3748\n",
      "Best score: 0.4255\n",
      "Preprocessing params: no_stopwords=True, lemmatized=True, lowercase=True, giberish=True | Model params: max_depth=11, min_samples_split=10, min_samples_leaf=5 - F1 score train : 0.4823, F1 score val: 0.4255\n",
      "Best score: 0.4255\n",
      "Preprocessing params: no_stopwords=True, lemmatized=True, lowercase=True, giberish=True | Model params: max_depth=11, min_samples_split=10, min_samples_leaf=7 - F1 score train : 0.4686, F1 score val: 0.3933\n",
      "Best score: 0.4255\n",
      "Preprocessing params: no_stopwords=True, lemmatized=True, lowercase=True, giberish=True | Model params: max_depth=11, min_samples_split=10, min_samples_leaf=10 - F1 score train : 0.4585, F1 score val: 0.3748\n",
      "Best score: 0.4255\n",
      "Preprocessing params: no_stopwords=True, lemmatized=True, lowercase=True, giberish=True | Model params: max_depth=13, min_samples_split=5, min_samples_leaf=5 - F1 score train : 0.5007, F1 score val: 0.4133\n",
      "Best score: 0.4255\n",
      "Preprocessing params: no_stopwords=True, lemmatized=True, lowercase=True, giberish=True | Model params: max_depth=13, min_samples_split=5, min_samples_leaf=7 - F1 score train : 0.4894, F1 score val: 0.4109\n",
      "Best score: 0.4255\n",
      "Preprocessing params: no_stopwords=True, lemmatized=True, lowercase=True, giberish=True | Model params: max_depth=13, min_samples_split=5, min_samples_leaf=10 - F1 score train : 0.4656, F1 score val: 0.3752\n",
      "Best score: 0.4255\n",
      "Preprocessing params: no_stopwords=True, lemmatized=True, lowercase=True, giberish=True | Model params: max_depth=13, min_samples_split=7, min_samples_leaf=5 - F1 score train : 0.5007, F1 score val: 0.4133\n",
      "Best score: 0.4255\n",
      "Preprocessing params: no_stopwords=True, lemmatized=True, lowercase=True, giberish=True | Model params: max_depth=13, min_samples_split=7, min_samples_leaf=7 - F1 score train : 0.4894, F1 score val: 0.4109\n",
      "Best score: 0.4255\n",
      "Preprocessing params: no_stopwords=True, lemmatized=True, lowercase=True, giberish=True | Model params: max_depth=13, min_samples_split=7, min_samples_leaf=10 - F1 score train : 0.4656, F1 score val: 0.3752\n",
      "Best score: 0.4255\n",
      "Preprocessing params: no_stopwords=True, lemmatized=True, lowercase=True, giberish=True | Model params: max_depth=13, min_samples_split=10, min_samples_leaf=5 - F1 score train : 0.5007, F1 score val: 0.4133\n",
      "Best score: 0.4255\n",
      "Preprocessing params: no_stopwords=True, lemmatized=True, lowercase=True, giberish=True | Model params: max_depth=13, min_samples_split=10, min_samples_leaf=7 - F1 score train : 0.4894, F1 score val: 0.4109\n",
      "Best score: 0.4255\n",
      "Preprocessing params: no_stopwords=True, lemmatized=True, lowercase=True, giberish=True | Model params: max_depth=13, min_samples_split=10, min_samples_leaf=10 - F1 score train : 0.4656, F1 score val: 0.3752\n",
      "Best score: 0.4255\n",
      "Preprocessing params: no_stopwords=True, lemmatized=True, lowercase=True, giberish=False | Model params: max_depth=9, min_samples_split=5, min_samples_leaf=5 - F1 score train : 0.4684, F1 score val: 0.4126\n",
      "Best score: 0.4255\n",
      "Preprocessing params: no_stopwords=True, lemmatized=True, lowercase=True, giberish=False | Model params: max_depth=9, min_samples_split=5, min_samples_leaf=7 - F1 score train : 0.4596, F1 score val: 0.3909\n",
      "Best score: 0.4255\n",
      "Preprocessing params: no_stopwords=True, lemmatized=True, lowercase=True, giberish=False | Model params: max_depth=9, min_samples_split=5, min_samples_leaf=10 - F1 score train : 0.4442, F1 score val: 0.3670\n",
      "Best score: 0.4255\n",
      "Preprocessing params: no_stopwords=True, lemmatized=True, lowercase=True, giberish=False | Model params: max_depth=9, min_samples_split=7, min_samples_leaf=5 - F1 score train : 0.4684, F1 score val: 0.4126\n",
      "Best score: 0.4255\n",
      "Preprocessing params: no_stopwords=True, lemmatized=True, lowercase=True, giberish=False | Model params: max_depth=9, min_samples_split=7, min_samples_leaf=7 - F1 score train : 0.4596, F1 score val: 0.3909\n",
      "Best score: 0.4255\n",
      "Preprocessing params: no_stopwords=True, lemmatized=True, lowercase=True, giberish=False | Model params: max_depth=9, min_samples_split=7, min_samples_leaf=10 - F1 score train : 0.4442, F1 score val: 0.3670\n",
      "Best score: 0.4255\n",
      "Preprocessing params: no_stopwords=True, lemmatized=True, lowercase=True, giberish=False | Model params: max_depth=9, min_samples_split=10, min_samples_leaf=5 - F1 score train : 0.4684, F1 score val: 0.4126\n",
      "Best score: 0.4255\n",
      "Preprocessing params: no_stopwords=True, lemmatized=True, lowercase=True, giberish=False | Model params: max_depth=9, min_samples_split=10, min_samples_leaf=7 - F1 score train : 0.4596, F1 score val: 0.3909\n",
      "Best score: 0.4255\n",
      "Preprocessing params: no_stopwords=True, lemmatized=True, lowercase=True, giberish=False | Model params: max_depth=9, min_samples_split=10, min_samples_leaf=10 - F1 score train : 0.4442, F1 score val: 0.3670\n",
      "Best score: 0.4255\n",
      "Preprocessing params: no_stopwords=True, lemmatized=True, lowercase=True, giberish=False | Model params: max_depth=11, min_samples_split=5, min_samples_leaf=5 - F1 score train : 0.4823, F1 score val: 0.4255\n",
      "Best score: 0.4255\n",
      "Preprocessing params: no_stopwords=True, lemmatized=True, lowercase=True, giberish=False | Model params: max_depth=11, min_samples_split=5, min_samples_leaf=7 - F1 score train : 0.4686, F1 score val: 0.3933\n",
      "Best score: 0.4255\n",
      "Preprocessing params: no_stopwords=True, lemmatized=True, lowercase=True, giberish=False | Model params: max_depth=11, min_samples_split=5, min_samples_leaf=10 - F1 score train : 0.4585, F1 score val: 0.3748\n",
      "Best score: 0.4255\n",
      "Preprocessing params: no_stopwords=True, lemmatized=True, lowercase=True, giberish=False | Model params: max_depth=11, min_samples_split=7, min_samples_leaf=5 - F1 score train : 0.4823, F1 score val: 0.4255\n",
      "Best score: 0.4255\n",
      "Preprocessing params: no_stopwords=True, lemmatized=True, lowercase=True, giberish=False | Model params: max_depth=11, min_samples_split=7, min_samples_leaf=7 - F1 score train : 0.4686, F1 score val: 0.3933\n",
      "Best score: 0.4255\n",
      "Preprocessing params: no_stopwords=True, lemmatized=True, lowercase=True, giberish=False | Model params: max_depth=11, min_samples_split=7, min_samples_leaf=10 - F1 score train : 0.4585, F1 score val: 0.3748\n",
      "Best score: 0.4255\n",
      "Preprocessing params: no_stopwords=True, lemmatized=True, lowercase=True, giberish=False | Model params: max_depth=11, min_samples_split=10, min_samples_leaf=5 - F1 score train : 0.4823, F1 score val: 0.4255\n",
      "Best score: 0.4255\n",
      "Preprocessing params: no_stopwords=True, lemmatized=True, lowercase=True, giberish=False | Model params: max_depth=11, min_samples_split=10, min_samples_leaf=7 - F1 score train : 0.4686, F1 score val: 0.3933\n",
      "Best score: 0.4255\n",
      "Preprocessing params: no_stopwords=True, lemmatized=True, lowercase=True, giberish=False | Model params: max_depth=11, min_samples_split=10, min_samples_leaf=10 - F1 score train : 0.4585, F1 score val: 0.3748\n",
      "Best score: 0.4255\n",
      "Preprocessing params: no_stopwords=True, lemmatized=True, lowercase=True, giberish=False | Model params: max_depth=13, min_samples_split=5, min_samples_leaf=5 - F1 score train : 0.5007, F1 score val: 0.4133\n",
      "Best score: 0.4255\n",
      "Preprocessing params: no_stopwords=True, lemmatized=True, lowercase=True, giberish=False | Model params: max_depth=13, min_samples_split=5, min_samples_leaf=7 - F1 score train : 0.4894, F1 score val: 0.4109\n",
      "Best score: 0.4255\n",
      "Preprocessing params: no_stopwords=True, lemmatized=True, lowercase=True, giberish=False | Model params: max_depth=13, min_samples_split=5, min_samples_leaf=10 - F1 score train : 0.4656, F1 score val: 0.3752\n",
      "Best score: 0.4255\n",
      "Preprocessing params: no_stopwords=True, lemmatized=True, lowercase=True, giberish=False | Model params: max_depth=13, min_samples_split=7, min_samples_leaf=5 - F1 score train : 0.5007, F1 score val: 0.4133\n",
      "Best score: 0.4255\n",
      "Preprocessing params: no_stopwords=True, lemmatized=True, lowercase=True, giberish=False | Model params: max_depth=13, min_samples_split=7, min_samples_leaf=7 - F1 score train : 0.4894, F1 score val: 0.4109\n",
      "Best score: 0.4255\n",
      "Preprocessing params: no_stopwords=True, lemmatized=True, lowercase=True, giberish=False | Model params: max_depth=13, min_samples_split=7, min_samples_leaf=10 - F1 score train : 0.4656, F1 score val: 0.3752\n",
      "Best score: 0.4255\n",
      "Preprocessing params: no_stopwords=True, lemmatized=True, lowercase=True, giberish=False | Model params: max_depth=13, min_samples_split=10, min_samples_leaf=5 - F1 score train : 0.5007, F1 score val: 0.4133\n",
      "Best score: 0.4255\n",
      "Preprocessing params: no_stopwords=True, lemmatized=True, lowercase=True, giberish=False | Model params: max_depth=13, min_samples_split=10, min_samples_leaf=7 - F1 score train : 0.4894, F1 score val: 0.4109\n",
      "Best score: 0.4255\n",
      "Preprocessing params: no_stopwords=True, lemmatized=True, lowercase=True, giberish=False | Model params: max_depth=13, min_samples_split=10, min_samples_leaf=10 - F1 score train : 0.4656, F1 score val: 0.3752\n",
      "Best score: 0.4255\n",
      "Preprocessing params: no_stopwords=True, lemmatized=True, lowercase=False, giberish=True | Model params: max_depth=9, min_samples_split=5, min_samples_leaf=5 - F1 score train : 0.4684, F1 score val: 0.4126\n",
      "Best score: 0.4255\n",
      "Preprocessing params: no_stopwords=True, lemmatized=True, lowercase=False, giberish=True | Model params: max_depth=9, min_samples_split=5, min_samples_leaf=7 - F1 score train : 0.4596, F1 score val: 0.3909\n",
      "Best score: 0.4255\n",
      "Preprocessing params: no_stopwords=True, lemmatized=True, lowercase=False, giberish=True | Model params: max_depth=9, min_samples_split=5, min_samples_leaf=10 - F1 score train : 0.4442, F1 score val: 0.3670\n",
      "Best score: 0.4255\n",
      "Preprocessing params: no_stopwords=True, lemmatized=True, lowercase=False, giberish=True | Model params: max_depth=9, min_samples_split=7, min_samples_leaf=5 - F1 score train : 0.4684, F1 score val: 0.4126\n",
      "Best score: 0.4255\n",
      "Preprocessing params: no_stopwords=True, lemmatized=True, lowercase=False, giberish=True | Model params: max_depth=9, min_samples_split=7, min_samples_leaf=7 - F1 score train : 0.4596, F1 score val: 0.3909\n",
      "Best score: 0.4255\n",
      "Preprocessing params: no_stopwords=True, lemmatized=True, lowercase=False, giberish=True | Model params: max_depth=9, min_samples_split=7, min_samples_leaf=10 - F1 score train : 0.4442, F1 score val: 0.3670\n",
      "Best score: 0.4255\n",
      "Preprocessing params: no_stopwords=True, lemmatized=True, lowercase=False, giberish=True | Model params: max_depth=9, min_samples_split=10, min_samples_leaf=5 - F1 score train : 0.4684, F1 score val: 0.4126\n",
      "Best score: 0.4255\n",
      "Preprocessing params: no_stopwords=True, lemmatized=True, lowercase=False, giberish=True | Model params: max_depth=9, min_samples_split=10, min_samples_leaf=7 - F1 score train : 0.4596, F1 score val: 0.3909\n",
      "Best score: 0.4255\n",
      "Preprocessing params: no_stopwords=True, lemmatized=True, lowercase=False, giberish=True | Model params: max_depth=9, min_samples_split=10, min_samples_leaf=10 - F1 score train : 0.4442, F1 score val: 0.3670\n",
      "Best score: 0.4255\n",
      "Preprocessing params: no_stopwords=True, lemmatized=True, lowercase=False, giberish=True | Model params: max_depth=11, min_samples_split=5, min_samples_leaf=5 - F1 score train : 0.4823, F1 score val: 0.4255\n",
      "Best score: 0.4255\n",
      "Preprocessing params: no_stopwords=True, lemmatized=True, lowercase=False, giberish=True | Model params: max_depth=11, min_samples_split=5, min_samples_leaf=7 - F1 score train : 0.4686, F1 score val: 0.3933\n",
      "Best score: 0.4255\n",
      "Preprocessing params: no_stopwords=True, lemmatized=True, lowercase=False, giberish=True | Model params: max_depth=11, min_samples_split=5, min_samples_leaf=10 - F1 score train : 0.4585, F1 score val: 0.3748\n",
      "Best score: 0.4255\n",
      "Preprocessing params: no_stopwords=True, lemmatized=True, lowercase=False, giberish=True | Model params: max_depth=11, min_samples_split=7, min_samples_leaf=5 - F1 score train : 0.4823, F1 score val: 0.4255\n",
      "Best score: 0.4255\n",
      "Preprocessing params: no_stopwords=True, lemmatized=True, lowercase=False, giberish=True | Model params: max_depth=11, min_samples_split=7, min_samples_leaf=7 - F1 score train : 0.4686, F1 score val: 0.3933\n",
      "Best score: 0.4255\n",
      "Preprocessing params: no_stopwords=True, lemmatized=True, lowercase=False, giberish=True | Model params: max_depth=11, min_samples_split=7, min_samples_leaf=10 - F1 score train : 0.4585, F1 score val: 0.3748\n",
      "Best score: 0.4255\n",
      "Preprocessing params: no_stopwords=True, lemmatized=True, lowercase=False, giberish=True | Model params: max_depth=11, min_samples_split=10, min_samples_leaf=5 - F1 score train : 0.4823, F1 score val: 0.4255\n",
      "Best score: 0.4255\n",
      "Preprocessing params: no_stopwords=True, lemmatized=True, lowercase=False, giberish=True | Model params: max_depth=11, min_samples_split=10, min_samples_leaf=7 - F1 score train : 0.4686, F1 score val: 0.3933\n",
      "Best score: 0.4255\n",
      "Preprocessing params: no_stopwords=True, lemmatized=True, lowercase=False, giberish=True | Model params: max_depth=11, min_samples_split=10, min_samples_leaf=10 - F1 score train : 0.4585, F1 score val: 0.3748\n",
      "Best score: 0.4255\n",
      "Preprocessing params: no_stopwords=True, lemmatized=True, lowercase=False, giberish=True | Model params: max_depth=13, min_samples_split=5, min_samples_leaf=5 - F1 score train : 0.5007, F1 score val: 0.4133\n",
      "Best score: 0.4255\n",
      "Preprocessing params: no_stopwords=True, lemmatized=True, lowercase=False, giberish=True | Model params: max_depth=13, min_samples_split=5, min_samples_leaf=7 - F1 score train : 0.4894, F1 score val: 0.4109\n",
      "Best score: 0.4255\n",
      "Preprocessing params: no_stopwords=True, lemmatized=True, lowercase=False, giberish=True | Model params: max_depth=13, min_samples_split=5, min_samples_leaf=10 - F1 score train : 0.4656, F1 score val: 0.3752\n",
      "Best score: 0.4255\n",
      "Preprocessing params: no_stopwords=True, lemmatized=True, lowercase=False, giberish=True | Model params: max_depth=13, min_samples_split=7, min_samples_leaf=5 - F1 score train : 0.5007, F1 score val: 0.4133\n",
      "Best score: 0.4255\n",
      "Preprocessing params: no_stopwords=True, lemmatized=True, lowercase=False, giberish=True | Model params: max_depth=13, min_samples_split=7, min_samples_leaf=7 - F1 score train : 0.4894, F1 score val: 0.4109\n",
      "Best score: 0.4255\n",
      "Preprocessing params: no_stopwords=True, lemmatized=True, lowercase=False, giberish=True | Model params: max_depth=13, min_samples_split=7, min_samples_leaf=10 - F1 score train : 0.4656, F1 score val: 0.3752\n",
      "Best score: 0.4255\n",
      "Preprocessing params: no_stopwords=True, lemmatized=True, lowercase=False, giberish=True | Model params: max_depth=13, min_samples_split=10, min_samples_leaf=5 - F1 score train : 0.5007, F1 score val: 0.4133\n",
      "Best score: 0.4255\n",
      "Preprocessing params: no_stopwords=True, lemmatized=True, lowercase=False, giberish=True | Model params: max_depth=13, min_samples_split=10, min_samples_leaf=7 - F1 score train : 0.4894, F1 score val: 0.4109\n",
      "Best score: 0.4255\n",
      "Preprocessing params: no_stopwords=True, lemmatized=True, lowercase=False, giberish=True | Model params: max_depth=13, min_samples_split=10, min_samples_leaf=10 - F1 score train : 0.4656, F1 score val: 0.3752\n",
      "Best score: 0.4255\n",
      "Preprocessing params: no_stopwords=True, lemmatized=True, lowercase=False, giberish=False | Model params: max_depth=9, min_samples_split=5, min_samples_leaf=5 - F1 score train : 0.4684, F1 score val: 0.4126\n",
      "Best score: 0.4255\n",
      "Preprocessing params: no_stopwords=True, lemmatized=True, lowercase=False, giberish=False | Model params: max_depth=9, min_samples_split=5, min_samples_leaf=7 - F1 score train : 0.4596, F1 score val: 0.3909\n",
      "Best score: 0.4255\n",
      "Preprocessing params: no_stopwords=True, lemmatized=True, lowercase=False, giberish=False | Model params: max_depth=9, min_samples_split=5, min_samples_leaf=10 - F1 score train : 0.4442, F1 score val: 0.3670\n",
      "Best score: 0.4255\n",
      "Preprocessing params: no_stopwords=True, lemmatized=True, lowercase=False, giberish=False | Model params: max_depth=9, min_samples_split=7, min_samples_leaf=5 - F1 score train : 0.4684, F1 score val: 0.4126\n",
      "Best score: 0.4255\n",
      "Preprocessing params: no_stopwords=True, lemmatized=True, lowercase=False, giberish=False | Model params: max_depth=9, min_samples_split=7, min_samples_leaf=7 - F1 score train : 0.4596, F1 score val: 0.3909\n",
      "Best score: 0.4255\n",
      "Preprocessing params: no_stopwords=True, lemmatized=True, lowercase=False, giberish=False | Model params: max_depth=9, min_samples_split=7, min_samples_leaf=10 - F1 score train : 0.4442, F1 score val: 0.3670\n",
      "Best score: 0.4255\n",
      "Preprocessing params: no_stopwords=True, lemmatized=True, lowercase=False, giberish=False | Model params: max_depth=9, min_samples_split=10, min_samples_leaf=5 - F1 score train : 0.4684, F1 score val: 0.4126\n",
      "Best score: 0.4255\n",
      "Preprocessing params: no_stopwords=True, lemmatized=True, lowercase=False, giberish=False | Model params: max_depth=9, min_samples_split=10, min_samples_leaf=7 - F1 score train : 0.4596, F1 score val: 0.3909\n",
      "Best score: 0.4255\n",
      "Preprocessing params: no_stopwords=True, lemmatized=True, lowercase=False, giberish=False | Model params: max_depth=9, min_samples_split=10, min_samples_leaf=10 - F1 score train : 0.4442, F1 score val: 0.3670\n",
      "Best score: 0.4255\n",
      "Preprocessing params: no_stopwords=True, lemmatized=True, lowercase=False, giberish=False | Model params: max_depth=11, min_samples_split=5, min_samples_leaf=5 - F1 score train : 0.4823, F1 score val: 0.4255\n",
      "Best score: 0.4255\n",
      "Preprocessing params: no_stopwords=True, lemmatized=True, lowercase=False, giberish=False | Model params: max_depth=11, min_samples_split=5, min_samples_leaf=7 - F1 score train : 0.4686, F1 score val: 0.3933\n",
      "Best score: 0.4255\n",
      "Preprocessing params: no_stopwords=True, lemmatized=True, lowercase=False, giberish=False | Model params: max_depth=11, min_samples_split=5, min_samples_leaf=10 - F1 score train : 0.4585, F1 score val: 0.3748\n",
      "Best score: 0.4255\n",
      "Preprocessing params: no_stopwords=True, lemmatized=True, lowercase=False, giberish=False | Model params: max_depth=11, min_samples_split=7, min_samples_leaf=5 - F1 score train : 0.4823, F1 score val: 0.4255\n",
      "Best score: 0.4255\n",
      "Preprocessing params: no_stopwords=True, lemmatized=True, lowercase=False, giberish=False | Model params: max_depth=11, min_samples_split=7, min_samples_leaf=7 - F1 score train : 0.4686, F1 score val: 0.3933\n",
      "Best score: 0.4255\n",
      "Preprocessing params: no_stopwords=True, lemmatized=True, lowercase=False, giberish=False | Model params: max_depth=11, min_samples_split=7, min_samples_leaf=10 - F1 score train : 0.4585, F1 score val: 0.3748\n",
      "Best score: 0.4255\n",
      "Preprocessing params: no_stopwords=True, lemmatized=True, lowercase=False, giberish=False | Model params: max_depth=11, min_samples_split=10, min_samples_leaf=5 - F1 score train : 0.4823, F1 score val: 0.4255\n",
      "Best score: 0.4255\n",
      "Preprocessing params: no_stopwords=True, lemmatized=True, lowercase=False, giberish=False | Model params: max_depth=11, min_samples_split=10, min_samples_leaf=7 - F1 score train : 0.4686, F1 score val: 0.3933\n",
      "Best score: 0.4255\n",
      "Preprocessing params: no_stopwords=True, lemmatized=True, lowercase=False, giberish=False | Model params: max_depth=11, min_samples_split=10, min_samples_leaf=10 - F1 score train : 0.4585, F1 score val: 0.3748\n",
      "Best score: 0.4255\n",
      "Preprocessing params: no_stopwords=True, lemmatized=True, lowercase=False, giberish=False | Model params: max_depth=13, min_samples_split=5, min_samples_leaf=5 - F1 score train : 0.5007, F1 score val: 0.4133\n",
      "Best score: 0.4255\n",
      "Preprocessing params: no_stopwords=True, lemmatized=True, lowercase=False, giberish=False | Model params: max_depth=13, min_samples_split=5, min_samples_leaf=7 - F1 score train : 0.4894, F1 score val: 0.4109\n",
      "Best score: 0.4255\n",
      "Preprocessing params: no_stopwords=True, lemmatized=True, lowercase=False, giberish=False | Model params: max_depth=13, min_samples_split=5, min_samples_leaf=10 - F1 score train : 0.4656, F1 score val: 0.3752\n",
      "Best score: 0.4255\n",
      "Preprocessing params: no_stopwords=True, lemmatized=True, lowercase=False, giberish=False | Model params: max_depth=13, min_samples_split=7, min_samples_leaf=5 - F1 score train : 0.5007, F1 score val: 0.4133\n",
      "Best score: 0.4255\n",
      "Preprocessing params: no_stopwords=True, lemmatized=True, lowercase=False, giberish=False | Model params: max_depth=13, min_samples_split=7, min_samples_leaf=7 - F1 score train : 0.4894, F1 score val: 0.4109\n",
      "Best score: 0.4255\n",
      "Preprocessing params: no_stopwords=True, lemmatized=True, lowercase=False, giberish=False | Model params: max_depth=13, min_samples_split=7, min_samples_leaf=10 - F1 score train : 0.4656, F1 score val: 0.3752\n",
      "Best score: 0.4255\n",
      "Preprocessing params: no_stopwords=True, lemmatized=True, lowercase=False, giberish=False | Model params: max_depth=13, min_samples_split=10, min_samples_leaf=5 - F1 score train : 0.5007, F1 score val: 0.4133\n",
      "Best score: 0.4255\n",
      "Preprocessing params: no_stopwords=True, lemmatized=True, lowercase=False, giberish=False | Model params: max_depth=13, min_samples_split=10, min_samples_leaf=7 - F1 score train : 0.4894, F1 score val: 0.4109\n",
      "Best score: 0.4255\n",
      "Preprocessing params: no_stopwords=True, lemmatized=True, lowercase=False, giberish=False | Model params: max_depth=13, min_samples_split=10, min_samples_leaf=10 - F1 score train : 0.4656, F1 score val: 0.3752\n",
      "Best score: 0.4255\n",
      "Preprocessing params: no_stopwords=True, lemmatized=False, lowercase=True, giberish=True | Model params: max_depth=9, min_samples_split=5, min_samples_leaf=5 - F1 score train : 0.4606, F1 score val: 0.4121\n",
      "Best score: 0.4255\n",
      "Preprocessing params: no_stopwords=True, lemmatized=False, lowercase=True, giberish=True | Model params: max_depth=9, min_samples_split=5, min_samples_leaf=7 - F1 score train : 0.4462, F1 score val: 0.3837\n",
      "Best score: 0.4255\n",
      "Preprocessing params: no_stopwords=True, lemmatized=False, lowercase=True, giberish=True | Model params: max_depth=9, min_samples_split=5, min_samples_leaf=10 - F1 score train : 0.4466, F1 score val: 0.3916\n",
      "Best score: 0.4255\n",
      "Preprocessing params: no_stopwords=True, lemmatized=False, lowercase=True, giberish=True | Model params: max_depth=9, min_samples_split=7, min_samples_leaf=5 - F1 score train : 0.4606, F1 score val: 0.4121\n",
      "Best score: 0.4255\n",
      "Preprocessing params: no_stopwords=True, lemmatized=False, lowercase=True, giberish=True | Model params: max_depth=9, min_samples_split=7, min_samples_leaf=7 - F1 score train : 0.4462, F1 score val: 0.3837\n",
      "Best score: 0.4255\n",
      "Preprocessing params: no_stopwords=True, lemmatized=False, lowercase=True, giberish=True | Model params: max_depth=9, min_samples_split=7, min_samples_leaf=10 - F1 score train : 0.4466, F1 score val: 0.3916\n",
      "Best score: 0.4255\n",
      "Preprocessing params: no_stopwords=True, lemmatized=False, lowercase=True, giberish=True | Model params: max_depth=9, min_samples_split=10, min_samples_leaf=5 - F1 score train : 0.4606, F1 score val: 0.4121\n",
      "Best score: 0.4255\n",
      "Preprocessing params: no_stopwords=True, lemmatized=False, lowercase=True, giberish=True | Model params: max_depth=9, min_samples_split=10, min_samples_leaf=7 - F1 score train : 0.4462, F1 score val: 0.3837\n",
      "Best score: 0.4255\n",
      "Preprocessing params: no_stopwords=True, lemmatized=False, lowercase=True, giberish=True | Model params: max_depth=9, min_samples_split=10, min_samples_leaf=10 - F1 score train : 0.4466, F1 score val: 0.3916\n",
      "Best score: 0.4255\n",
      "Preprocessing params: no_stopwords=True, lemmatized=False, lowercase=True, giberish=True | Model params: max_depth=11, min_samples_split=5, min_samples_leaf=5 - F1 score train : 0.4839, F1 score val: 0.4138\n",
      "Best score: 0.4255\n",
      "Preprocessing params: no_stopwords=True, lemmatized=False, lowercase=True, giberish=True | Model params: max_depth=11, min_samples_split=5, min_samples_leaf=7 - F1 score train : 0.4745, F1 score val: 0.4103\n",
      "Best score: 0.4255\n",
      "Preprocessing params: no_stopwords=True, lemmatized=False, lowercase=True, giberish=True | Model params: max_depth=11, min_samples_split=5, min_samples_leaf=10 - F1 score train : 0.4658, F1 score val: 0.3851\n",
      "Best score: 0.4255\n",
      "Preprocessing params: no_stopwords=True, lemmatized=False, lowercase=True, giberish=True | Model params: max_depth=11, min_samples_split=7, min_samples_leaf=5 - F1 score train : 0.4839, F1 score val: 0.4138\n",
      "Best score: 0.4255\n",
      "Preprocessing params: no_stopwords=True, lemmatized=False, lowercase=True, giberish=True | Model params: max_depth=11, min_samples_split=7, min_samples_leaf=7 - F1 score train : 0.4745, F1 score val: 0.4103\n",
      "Best score: 0.4255\n",
      "Preprocessing params: no_stopwords=True, lemmatized=False, lowercase=True, giberish=True | Model params: max_depth=11, min_samples_split=7, min_samples_leaf=10 - F1 score train : 0.4658, F1 score val: 0.3851\n",
      "Best score: 0.4255\n",
      "Preprocessing params: no_stopwords=True, lemmatized=False, lowercase=True, giberish=True | Model params: max_depth=11, min_samples_split=10, min_samples_leaf=5 - F1 score train : 0.4839, F1 score val: 0.4138\n",
      "Best score: 0.4255\n",
      "Preprocessing params: no_stopwords=True, lemmatized=False, lowercase=True, giberish=True | Model params: max_depth=11, min_samples_split=10, min_samples_leaf=7 - F1 score train : 0.4745, F1 score val: 0.4103\n",
      "Best score: 0.4255\n",
      "Preprocessing params: no_stopwords=True, lemmatized=False, lowercase=True, giberish=True | Model params: max_depth=11, min_samples_split=10, min_samples_leaf=10 - F1 score train : 0.4658, F1 score val: 0.3851\n",
      "Best score: 0.4255\n",
      "Preprocessing params: no_stopwords=True, lemmatized=False, lowercase=True, giberish=True | Model params: max_depth=13, min_samples_split=5, min_samples_leaf=5 - F1 score train : 0.4985, F1 score val: 0.4193\n",
      "Best score: 0.4255\n",
      "Preprocessing params: no_stopwords=True, lemmatized=False, lowercase=True, giberish=True | Model params: max_depth=13, min_samples_split=5, min_samples_leaf=7 - F1 score train : 0.4866, F1 score val: 0.4074\n",
      "Best score: 0.4255\n",
      "Preprocessing params: no_stopwords=True, lemmatized=False, lowercase=True, giberish=True | Model params: max_depth=13, min_samples_split=5, min_samples_leaf=10 - F1 score train : 0.4727, F1 score val: 0.3905\n",
      "Best score: 0.4255\n",
      "Preprocessing params: no_stopwords=True, lemmatized=False, lowercase=True, giberish=True | Model params: max_depth=13, min_samples_split=7, min_samples_leaf=5 - F1 score train : 0.4985, F1 score val: 0.4193\n",
      "Best score: 0.4255\n",
      "Preprocessing params: no_stopwords=True, lemmatized=False, lowercase=True, giberish=True | Model params: max_depth=13, min_samples_split=7, min_samples_leaf=7 - F1 score train : 0.4866, F1 score val: 0.4074\n",
      "Best score: 0.4255\n",
      "Preprocessing params: no_stopwords=True, lemmatized=False, lowercase=True, giberish=True | Model params: max_depth=13, min_samples_split=7, min_samples_leaf=10 - F1 score train : 0.4727, F1 score val: 0.3905\n",
      "Best score: 0.4255\n",
      "Preprocessing params: no_stopwords=True, lemmatized=False, lowercase=True, giberish=True | Model params: max_depth=13, min_samples_split=10, min_samples_leaf=5 - F1 score train : 0.4985, F1 score val: 0.4193\n",
      "Best score: 0.4255\n",
      "Preprocessing params: no_stopwords=True, lemmatized=False, lowercase=True, giberish=True | Model params: max_depth=13, min_samples_split=10, min_samples_leaf=7 - F1 score train : 0.4866, F1 score val: 0.4074\n",
      "Best score: 0.4255\n",
      "Preprocessing params: no_stopwords=True, lemmatized=False, lowercase=True, giberish=True | Model params: max_depth=13, min_samples_split=10, min_samples_leaf=10 - F1 score train : 0.4727, F1 score val: 0.3905\n",
      "Best score: 0.4255\n",
      "Preprocessing params: no_stopwords=True, lemmatized=False, lowercase=True, giberish=False | Model params: max_depth=9, min_samples_split=5, min_samples_leaf=5 - F1 score train : 0.4606, F1 score val: 0.4121\n",
      "Best score: 0.4255\n",
      "Preprocessing params: no_stopwords=True, lemmatized=False, lowercase=True, giberish=False | Model params: max_depth=9, min_samples_split=5, min_samples_leaf=7 - F1 score train : 0.4462, F1 score val: 0.3837\n",
      "Best score: 0.4255\n",
      "Preprocessing params: no_stopwords=True, lemmatized=False, lowercase=True, giberish=False | Model params: max_depth=9, min_samples_split=5, min_samples_leaf=10 - F1 score train : 0.4466, F1 score val: 0.3916\n",
      "Best score: 0.4255\n",
      "Preprocessing params: no_stopwords=True, lemmatized=False, lowercase=True, giberish=False | Model params: max_depth=9, min_samples_split=7, min_samples_leaf=5 - F1 score train : 0.4606, F1 score val: 0.4121\n",
      "Best score: 0.4255\n",
      "Preprocessing params: no_stopwords=True, lemmatized=False, lowercase=True, giberish=False | Model params: max_depth=9, min_samples_split=7, min_samples_leaf=7 - F1 score train : 0.4462, F1 score val: 0.3837\n",
      "Best score: 0.4255\n",
      "Preprocessing params: no_stopwords=True, lemmatized=False, lowercase=True, giberish=False | Model params: max_depth=9, min_samples_split=7, min_samples_leaf=10 - F1 score train : 0.4466, F1 score val: 0.3916\n",
      "Best score: 0.4255\n",
      "Preprocessing params: no_stopwords=True, lemmatized=False, lowercase=True, giberish=False | Model params: max_depth=9, min_samples_split=10, min_samples_leaf=5 - F1 score train : 0.4606, F1 score val: 0.4121\n",
      "Best score: 0.4255\n",
      "Preprocessing params: no_stopwords=True, lemmatized=False, lowercase=True, giberish=False | Model params: max_depth=9, min_samples_split=10, min_samples_leaf=7 - F1 score train : 0.4462, F1 score val: 0.3837\n",
      "Best score: 0.4255\n",
      "Preprocessing params: no_stopwords=True, lemmatized=False, lowercase=True, giberish=False | Model params: max_depth=9, min_samples_split=10, min_samples_leaf=10 - F1 score train : 0.4466, F1 score val: 0.3916\n",
      "Best score: 0.4255\n",
      "Preprocessing params: no_stopwords=True, lemmatized=False, lowercase=True, giberish=False | Model params: max_depth=11, min_samples_split=5, min_samples_leaf=5 - F1 score train : 0.4839, F1 score val: 0.4138\n",
      "Best score: 0.4255\n",
      "Preprocessing params: no_stopwords=True, lemmatized=False, lowercase=True, giberish=False | Model params: max_depth=11, min_samples_split=5, min_samples_leaf=7 - F1 score train : 0.4745, F1 score val: 0.4103\n",
      "Best score: 0.4255\n",
      "Preprocessing params: no_stopwords=True, lemmatized=False, lowercase=True, giberish=False | Model params: max_depth=11, min_samples_split=5, min_samples_leaf=10 - F1 score train : 0.4658, F1 score val: 0.3851\n",
      "Best score: 0.4255\n",
      "Preprocessing params: no_stopwords=True, lemmatized=False, lowercase=True, giberish=False | Model params: max_depth=11, min_samples_split=7, min_samples_leaf=5 - F1 score train : 0.4839, F1 score val: 0.4138\n",
      "Best score: 0.4255\n",
      "Preprocessing params: no_stopwords=True, lemmatized=False, lowercase=True, giberish=False | Model params: max_depth=11, min_samples_split=7, min_samples_leaf=7 - F1 score train : 0.4745, F1 score val: 0.4103\n",
      "Best score: 0.4255\n",
      "Preprocessing params: no_stopwords=True, lemmatized=False, lowercase=True, giberish=False | Model params: max_depth=11, min_samples_split=7, min_samples_leaf=10 - F1 score train : 0.4658, F1 score val: 0.3851\n",
      "Best score: 0.4255\n",
      "Preprocessing params: no_stopwords=True, lemmatized=False, lowercase=True, giberish=False | Model params: max_depth=11, min_samples_split=10, min_samples_leaf=5 - F1 score train : 0.4839, F1 score val: 0.4138\n",
      "Best score: 0.4255\n",
      "Preprocessing params: no_stopwords=True, lemmatized=False, lowercase=True, giberish=False | Model params: max_depth=11, min_samples_split=10, min_samples_leaf=7 - F1 score train : 0.4745, F1 score val: 0.4103\n",
      "Best score: 0.4255\n",
      "Preprocessing params: no_stopwords=True, lemmatized=False, lowercase=True, giberish=False | Model params: max_depth=11, min_samples_split=10, min_samples_leaf=10 - F1 score train : 0.4658, F1 score val: 0.3851\n",
      "Best score: 0.4255\n",
      "Preprocessing params: no_stopwords=True, lemmatized=False, lowercase=True, giberish=False | Model params: max_depth=13, min_samples_split=5, min_samples_leaf=5 - F1 score train : 0.4985, F1 score val: 0.4193\n",
      "Best score: 0.4255\n",
      "Preprocessing params: no_stopwords=True, lemmatized=False, lowercase=True, giberish=False | Model params: max_depth=13, min_samples_split=5, min_samples_leaf=7 - F1 score train : 0.4866, F1 score val: 0.4074\n",
      "Best score: 0.4255\n",
      "Preprocessing params: no_stopwords=True, lemmatized=False, lowercase=True, giberish=False | Model params: max_depth=13, min_samples_split=5, min_samples_leaf=10 - F1 score train : 0.4727, F1 score val: 0.3905\n",
      "Best score: 0.4255\n",
      "Preprocessing params: no_stopwords=True, lemmatized=False, lowercase=True, giberish=False | Model params: max_depth=13, min_samples_split=7, min_samples_leaf=5 - F1 score train : 0.4985, F1 score val: 0.4193\n",
      "Best score: 0.4255\n",
      "Preprocessing params: no_stopwords=True, lemmatized=False, lowercase=True, giberish=False | Model params: max_depth=13, min_samples_split=7, min_samples_leaf=7 - F1 score train : 0.4866, F1 score val: 0.4074\n",
      "Best score: 0.4255\n",
      "Preprocessing params: no_stopwords=True, lemmatized=False, lowercase=True, giberish=False | Model params: max_depth=13, min_samples_split=7, min_samples_leaf=10 - F1 score train : 0.4727, F1 score val: 0.3905\n",
      "Best score: 0.4255\n",
      "Preprocessing params: no_stopwords=True, lemmatized=False, lowercase=True, giberish=False | Model params: max_depth=13, min_samples_split=10, min_samples_leaf=5 - F1 score train : 0.4985, F1 score val: 0.4193\n",
      "Best score: 0.4255\n",
      "Preprocessing params: no_stopwords=True, lemmatized=False, lowercase=True, giberish=False | Model params: max_depth=13, min_samples_split=10, min_samples_leaf=7 - F1 score train : 0.4866, F1 score val: 0.4074\n",
      "Best score: 0.4255\n",
      "Preprocessing params: no_stopwords=True, lemmatized=False, lowercase=True, giberish=False | Model params: max_depth=13, min_samples_split=10, min_samples_leaf=10 - F1 score train : 0.4727, F1 score val: 0.3905\n",
      "Best score: 0.4255\n",
      "Preprocessing params: no_stopwords=True, lemmatized=False, lowercase=False, giberish=True | Model params: max_depth=9, min_samples_split=5, min_samples_leaf=5 - F1 score train : 0.4606, F1 score val: 0.4121\n",
      "Best score: 0.4255\n",
      "Preprocessing params: no_stopwords=True, lemmatized=False, lowercase=False, giberish=True | Model params: max_depth=9, min_samples_split=5, min_samples_leaf=7 - F1 score train : 0.4462, F1 score val: 0.3837\n",
      "Best score: 0.4255\n",
      "Preprocessing params: no_stopwords=True, lemmatized=False, lowercase=False, giberish=True | Model params: max_depth=9, min_samples_split=5, min_samples_leaf=10 - F1 score train : 0.4466, F1 score val: 0.3916\n",
      "Best score: 0.4255\n",
      "Preprocessing params: no_stopwords=True, lemmatized=False, lowercase=False, giberish=True | Model params: max_depth=9, min_samples_split=7, min_samples_leaf=5 - F1 score train : 0.4606, F1 score val: 0.4121\n",
      "Best score: 0.4255\n",
      "Preprocessing params: no_stopwords=True, lemmatized=False, lowercase=False, giberish=True | Model params: max_depth=9, min_samples_split=7, min_samples_leaf=7 - F1 score train : 0.4462, F1 score val: 0.3837\n",
      "Best score: 0.4255\n",
      "Preprocessing params: no_stopwords=True, lemmatized=False, lowercase=False, giberish=True | Model params: max_depth=9, min_samples_split=7, min_samples_leaf=10 - F1 score train : 0.4466, F1 score val: 0.3916\n",
      "Best score: 0.4255\n",
      "Preprocessing params: no_stopwords=True, lemmatized=False, lowercase=False, giberish=True | Model params: max_depth=9, min_samples_split=10, min_samples_leaf=5 - F1 score train : 0.4606, F1 score val: 0.4121\n",
      "Best score: 0.4255\n",
      "Preprocessing params: no_stopwords=True, lemmatized=False, lowercase=False, giberish=True | Model params: max_depth=9, min_samples_split=10, min_samples_leaf=7 - F1 score train : 0.4462, F1 score val: 0.3837\n",
      "Best score: 0.4255\n",
      "Preprocessing params: no_stopwords=True, lemmatized=False, lowercase=False, giberish=True | Model params: max_depth=9, min_samples_split=10, min_samples_leaf=10 - F1 score train : 0.4466, F1 score val: 0.3916\n",
      "Best score: 0.4255\n",
      "Preprocessing params: no_stopwords=True, lemmatized=False, lowercase=False, giberish=True | Model params: max_depth=11, min_samples_split=5, min_samples_leaf=5 - F1 score train : 0.4839, F1 score val: 0.4138\n",
      "Best score: 0.4255\n",
      "Preprocessing params: no_stopwords=True, lemmatized=False, lowercase=False, giberish=True | Model params: max_depth=11, min_samples_split=5, min_samples_leaf=7 - F1 score train : 0.4745, F1 score val: 0.4103\n",
      "Best score: 0.4255\n",
      "Preprocessing params: no_stopwords=True, lemmatized=False, lowercase=False, giberish=True | Model params: max_depth=11, min_samples_split=5, min_samples_leaf=10 - F1 score train : 0.4658, F1 score val: 0.3851\n",
      "Best score: 0.4255\n",
      "Preprocessing params: no_stopwords=True, lemmatized=False, lowercase=False, giberish=True | Model params: max_depth=11, min_samples_split=7, min_samples_leaf=5 - F1 score train : 0.4839, F1 score val: 0.4138\n",
      "Best score: 0.4255\n",
      "Preprocessing params: no_stopwords=True, lemmatized=False, lowercase=False, giberish=True | Model params: max_depth=11, min_samples_split=7, min_samples_leaf=7 - F1 score train : 0.4745, F1 score val: 0.4103\n",
      "Best score: 0.4255\n",
      "Preprocessing params: no_stopwords=True, lemmatized=False, lowercase=False, giberish=True | Model params: max_depth=11, min_samples_split=7, min_samples_leaf=10 - F1 score train : 0.4658, F1 score val: 0.3851\n",
      "Best score: 0.4255\n",
      "Preprocessing params: no_stopwords=True, lemmatized=False, lowercase=False, giberish=True | Model params: max_depth=11, min_samples_split=10, min_samples_leaf=5 - F1 score train : 0.4839, F1 score val: 0.4138\n",
      "Best score: 0.4255\n",
      "Preprocessing params: no_stopwords=True, lemmatized=False, lowercase=False, giberish=True | Model params: max_depth=11, min_samples_split=10, min_samples_leaf=7 - F1 score train : 0.4745, F1 score val: 0.4103\n",
      "Best score: 0.4255\n",
      "Preprocessing params: no_stopwords=True, lemmatized=False, lowercase=False, giberish=True | Model params: max_depth=11, min_samples_split=10, min_samples_leaf=10 - F1 score train : 0.4658, F1 score val: 0.3851\n",
      "Best score: 0.4255\n",
      "Preprocessing params: no_stopwords=True, lemmatized=False, lowercase=False, giberish=True | Model params: max_depth=13, min_samples_split=5, min_samples_leaf=5 - F1 score train : 0.4985, F1 score val: 0.4193\n",
      "Best score: 0.4255\n",
      "Preprocessing params: no_stopwords=True, lemmatized=False, lowercase=False, giberish=True | Model params: max_depth=13, min_samples_split=5, min_samples_leaf=7 - F1 score train : 0.4866, F1 score val: 0.4074\n",
      "Best score: 0.4255\n",
      "Preprocessing params: no_stopwords=True, lemmatized=False, lowercase=False, giberish=True | Model params: max_depth=13, min_samples_split=5, min_samples_leaf=10 - F1 score train : 0.4727, F1 score val: 0.3905\n",
      "Best score: 0.4255\n",
      "Preprocessing params: no_stopwords=True, lemmatized=False, lowercase=False, giberish=True | Model params: max_depth=13, min_samples_split=7, min_samples_leaf=5 - F1 score train : 0.4985, F1 score val: 0.4193\n",
      "Best score: 0.4255\n",
      "Preprocessing params: no_stopwords=True, lemmatized=False, lowercase=False, giberish=True | Model params: max_depth=13, min_samples_split=7, min_samples_leaf=7 - F1 score train : 0.4866, F1 score val: 0.4074\n",
      "Best score: 0.4255\n",
      "Preprocessing params: no_stopwords=True, lemmatized=False, lowercase=False, giberish=True | Model params: max_depth=13, min_samples_split=7, min_samples_leaf=10 - F1 score train : 0.4727, F1 score val: 0.3905\n",
      "Best score: 0.4255\n",
      "Preprocessing params: no_stopwords=True, lemmatized=False, lowercase=False, giberish=True | Model params: max_depth=13, min_samples_split=10, min_samples_leaf=5 - F1 score train : 0.4985, F1 score val: 0.4193\n",
      "Best score: 0.4255\n",
      "Preprocessing params: no_stopwords=True, lemmatized=False, lowercase=False, giberish=True | Model params: max_depth=13, min_samples_split=10, min_samples_leaf=7 - F1 score train : 0.4866, F1 score val: 0.4074\n",
      "Best score: 0.4255\n",
      "Preprocessing params: no_stopwords=True, lemmatized=False, lowercase=False, giberish=True | Model params: max_depth=13, min_samples_split=10, min_samples_leaf=10 - F1 score train : 0.4727, F1 score val: 0.3905\n",
      "Best score: 0.4255\n",
      "Preprocessing params: no_stopwords=True, lemmatized=False, lowercase=False, giberish=False | Model params: max_depth=9, min_samples_split=5, min_samples_leaf=5 - F1 score train : 0.4606, F1 score val: 0.4121\n",
      "Best score: 0.4255\n",
      "Preprocessing params: no_stopwords=True, lemmatized=False, lowercase=False, giberish=False | Model params: max_depth=9, min_samples_split=5, min_samples_leaf=7 - F1 score train : 0.4462, F1 score val: 0.3837\n",
      "Best score: 0.4255\n",
      "Preprocessing params: no_stopwords=True, lemmatized=False, lowercase=False, giberish=False | Model params: max_depth=9, min_samples_split=5, min_samples_leaf=10 - F1 score train : 0.4466, F1 score val: 0.3916\n",
      "Best score: 0.4255\n",
      "Preprocessing params: no_stopwords=True, lemmatized=False, lowercase=False, giberish=False | Model params: max_depth=9, min_samples_split=7, min_samples_leaf=5 - F1 score train : 0.4606, F1 score val: 0.4121\n",
      "Best score: 0.4255\n",
      "Preprocessing params: no_stopwords=True, lemmatized=False, lowercase=False, giberish=False | Model params: max_depth=9, min_samples_split=7, min_samples_leaf=7 - F1 score train : 0.4462, F1 score val: 0.3837\n",
      "Best score: 0.4255\n",
      "Preprocessing params: no_stopwords=True, lemmatized=False, lowercase=False, giberish=False | Model params: max_depth=9, min_samples_split=7, min_samples_leaf=10 - F1 score train : 0.4466, F1 score val: 0.3916\n",
      "Best score: 0.4255\n",
      "Preprocessing params: no_stopwords=True, lemmatized=False, lowercase=False, giberish=False | Model params: max_depth=9, min_samples_split=10, min_samples_leaf=5 - F1 score train : 0.4606, F1 score val: 0.4121\n",
      "Best score: 0.4255\n",
      "Preprocessing params: no_stopwords=True, lemmatized=False, lowercase=False, giberish=False | Model params: max_depth=9, min_samples_split=10, min_samples_leaf=7 - F1 score train : 0.4462, F1 score val: 0.3837\n",
      "Best score: 0.4255\n",
      "Preprocessing params: no_stopwords=True, lemmatized=False, lowercase=False, giberish=False | Model params: max_depth=9, min_samples_split=10, min_samples_leaf=10 - F1 score train : 0.4466, F1 score val: 0.3916\n",
      "Best score: 0.4255\n",
      "Preprocessing params: no_stopwords=True, lemmatized=False, lowercase=False, giberish=False | Model params: max_depth=11, min_samples_split=5, min_samples_leaf=5 - F1 score train : 0.4839, F1 score val: 0.4138\n",
      "Best score: 0.4255\n",
      "Preprocessing params: no_stopwords=True, lemmatized=False, lowercase=False, giberish=False | Model params: max_depth=11, min_samples_split=5, min_samples_leaf=7 - F1 score train : 0.4745, F1 score val: 0.4103\n",
      "Best score: 0.4255\n",
      "Preprocessing params: no_stopwords=True, lemmatized=False, lowercase=False, giberish=False | Model params: max_depth=11, min_samples_split=5, min_samples_leaf=10 - F1 score train : 0.4658, F1 score val: 0.3851\n",
      "Best score: 0.4255\n",
      "Preprocessing params: no_stopwords=True, lemmatized=False, lowercase=False, giberish=False | Model params: max_depth=11, min_samples_split=7, min_samples_leaf=5 - F1 score train : 0.4839, F1 score val: 0.4138\n",
      "Best score: 0.4255\n",
      "Preprocessing params: no_stopwords=True, lemmatized=False, lowercase=False, giberish=False | Model params: max_depth=11, min_samples_split=7, min_samples_leaf=7 - F1 score train : 0.4745, F1 score val: 0.4103\n",
      "Best score: 0.4255\n",
      "Preprocessing params: no_stopwords=True, lemmatized=False, lowercase=False, giberish=False | Model params: max_depth=11, min_samples_split=7, min_samples_leaf=10 - F1 score train : 0.4658, F1 score val: 0.3851\n",
      "Best score: 0.4255\n",
      "Preprocessing params: no_stopwords=True, lemmatized=False, lowercase=False, giberish=False | Model params: max_depth=11, min_samples_split=10, min_samples_leaf=5 - F1 score train : 0.4839, F1 score val: 0.4138\n",
      "Best score: 0.4255\n",
      "Preprocessing params: no_stopwords=True, lemmatized=False, lowercase=False, giberish=False | Model params: max_depth=11, min_samples_split=10, min_samples_leaf=7 - F1 score train : 0.4745, F1 score val: 0.4103\n",
      "Best score: 0.4255\n",
      "Preprocessing params: no_stopwords=True, lemmatized=False, lowercase=False, giberish=False | Model params: max_depth=11, min_samples_split=10, min_samples_leaf=10 - F1 score train : 0.4658, F1 score val: 0.3851\n",
      "Best score: 0.4255\n",
      "Preprocessing params: no_stopwords=True, lemmatized=False, lowercase=False, giberish=False | Model params: max_depth=13, min_samples_split=5, min_samples_leaf=5 - F1 score train : 0.4985, F1 score val: 0.4193\n",
      "Best score: 0.4255\n",
      "Preprocessing params: no_stopwords=True, lemmatized=False, lowercase=False, giberish=False | Model params: max_depth=13, min_samples_split=5, min_samples_leaf=7 - F1 score train : 0.4866, F1 score val: 0.4074\n",
      "Best score: 0.4255\n",
      "Preprocessing params: no_stopwords=True, lemmatized=False, lowercase=False, giberish=False | Model params: max_depth=13, min_samples_split=5, min_samples_leaf=10 - F1 score train : 0.4727, F1 score val: 0.3905\n",
      "Best score: 0.4255\n",
      "Preprocessing params: no_stopwords=True, lemmatized=False, lowercase=False, giberish=False | Model params: max_depth=13, min_samples_split=7, min_samples_leaf=5 - F1 score train : 0.4985, F1 score val: 0.4193\n",
      "Best score: 0.4255\n",
      "Preprocessing params: no_stopwords=True, lemmatized=False, lowercase=False, giberish=False | Model params: max_depth=13, min_samples_split=7, min_samples_leaf=7 - F1 score train : 0.4866, F1 score val: 0.4074\n",
      "Best score: 0.4255\n",
      "Preprocessing params: no_stopwords=True, lemmatized=False, lowercase=False, giberish=False | Model params: max_depth=13, min_samples_split=7, min_samples_leaf=10 - F1 score train : 0.4727, F1 score val: 0.3905\n",
      "Best score: 0.4255\n",
      "Preprocessing params: no_stopwords=True, lemmatized=False, lowercase=False, giberish=False | Model params: max_depth=13, min_samples_split=10, min_samples_leaf=5 - F1 score train : 0.4985, F1 score val: 0.4193\n",
      "Best score: 0.4255\n",
      "Preprocessing params: no_stopwords=True, lemmatized=False, lowercase=False, giberish=False | Model params: max_depth=13, min_samples_split=10, min_samples_leaf=7 - F1 score train : 0.4866, F1 score val: 0.4074\n",
      "Best score: 0.4255\n",
      "Preprocessing params: no_stopwords=True, lemmatized=False, lowercase=False, giberish=False | Model params: max_depth=13, min_samples_split=10, min_samples_leaf=10 - F1 score train : 0.4727, F1 score val: 0.3905\n",
      "Best score: 0.4255\n",
      "Preprocessing params: no_stopwords=False, lemmatized=True, lowercase=True, giberish=True | Model params: max_depth=9, min_samples_split=5, min_samples_leaf=5 - F1 score train : 0.4818, F1 score val: 0.3877\n",
      "Best score: 0.4255\n",
      "Preprocessing params: no_stopwords=False, lemmatized=True, lowercase=True, giberish=True | Model params: max_depth=9, min_samples_split=5, min_samples_leaf=7 - F1 score train : 0.4621, F1 score val: 0.3662\n",
      "Best score: 0.4255\n",
      "Preprocessing params: no_stopwords=False, lemmatized=True, lowercase=True, giberish=True | Model params: max_depth=9, min_samples_split=5, min_samples_leaf=10 - F1 score train : 0.4586, F1 score val: 0.3770\n",
      "Best score: 0.4255\n",
      "Preprocessing params: no_stopwords=False, lemmatized=True, lowercase=True, giberish=True | Model params: max_depth=9, min_samples_split=7, min_samples_leaf=5 - F1 score train : 0.4818, F1 score val: 0.3877\n",
      "Best score: 0.4255\n",
      "Preprocessing params: no_stopwords=False, lemmatized=True, lowercase=True, giberish=True | Model params: max_depth=9, min_samples_split=7, min_samples_leaf=7 - F1 score train : 0.4621, F1 score val: 0.3662\n",
      "Best score: 0.4255\n",
      "Preprocessing params: no_stopwords=False, lemmatized=True, lowercase=True, giberish=True | Model params: max_depth=9, min_samples_split=7, min_samples_leaf=10 - F1 score train : 0.4586, F1 score val: 0.3770\n",
      "Best score: 0.4255\n",
      "Preprocessing params: no_stopwords=False, lemmatized=True, lowercase=True, giberish=True | Model params: max_depth=9, min_samples_split=10, min_samples_leaf=5 - F1 score train : 0.4818, F1 score val: 0.3877\n",
      "Best score: 0.4255\n",
      "Preprocessing params: no_stopwords=False, lemmatized=True, lowercase=True, giberish=True | Model params: max_depth=9, min_samples_split=10, min_samples_leaf=7 - F1 score train : 0.4621, F1 score val: 0.3662\n",
      "Best score: 0.4255\n",
      "Preprocessing params: no_stopwords=False, lemmatized=True, lowercase=True, giberish=True | Model params: max_depth=9, min_samples_split=10, min_samples_leaf=10 - F1 score train : 0.4586, F1 score val: 0.3770\n",
      "Best score: 0.4255\n",
      "Preprocessing params: no_stopwords=False, lemmatized=True, lowercase=True, giberish=True | Model params: max_depth=11, min_samples_split=5, min_samples_leaf=5 - F1 score train : 0.4931, F1 score val: 0.3864\n",
      "Best score: 0.4255\n",
      "Preprocessing params: no_stopwords=False, lemmatized=True, lowercase=True, giberish=True | Model params: max_depth=11, min_samples_split=5, min_samples_leaf=7 - F1 score train : 0.4877, F1 score val: 0.3820\n",
      "Best score: 0.4255\n",
      "Preprocessing params: no_stopwords=False, lemmatized=True, lowercase=True, giberish=True | Model params: max_depth=11, min_samples_split=5, min_samples_leaf=10 - F1 score train : 0.4893, F1 score val: 0.3764\n",
      "Best score: 0.4255\n",
      "Preprocessing params: no_stopwords=False, lemmatized=True, lowercase=True, giberish=True | Model params: max_depth=11, min_samples_split=7, min_samples_leaf=5 - F1 score train : 0.4931, F1 score val: 0.3864\n",
      "Best score: 0.4255\n",
      "Preprocessing params: no_stopwords=False, lemmatized=True, lowercase=True, giberish=True | Model params: max_depth=11, min_samples_split=7, min_samples_leaf=7 - F1 score train : 0.4877, F1 score val: 0.3820\n",
      "Best score: 0.4255\n",
      "Preprocessing params: no_stopwords=False, lemmatized=True, lowercase=True, giberish=True | Model params: max_depth=11, min_samples_split=7, min_samples_leaf=10 - F1 score train : 0.4893, F1 score val: 0.3764\n",
      "Best score: 0.4255\n",
      "Preprocessing params: no_stopwords=False, lemmatized=True, lowercase=True, giberish=True | Model params: max_depth=11, min_samples_split=10, min_samples_leaf=5 - F1 score train : 0.4931, F1 score val: 0.3864\n",
      "Best score: 0.4255\n",
      "Preprocessing params: no_stopwords=False, lemmatized=True, lowercase=True, giberish=True | Model params: max_depth=11, min_samples_split=10, min_samples_leaf=7 - F1 score train : 0.4877, F1 score val: 0.3820\n",
      "Best score: 0.4255\n",
      "Preprocessing params: no_stopwords=False, lemmatized=True, lowercase=True, giberish=True | Model params: max_depth=11, min_samples_split=10, min_samples_leaf=10 - F1 score train : 0.4893, F1 score val: 0.3764\n",
      "Best score: 0.4255\n",
      "Preprocessing params: no_stopwords=False, lemmatized=True, lowercase=True, giberish=True | Model params: max_depth=13, min_samples_split=5, min_samples_leaf=5 - F1 score train : 0.5186, F1 score val: 0.4045\n",
      "Best score: 0.4255\n",
      "Preprocessing params: no_stopwords=False, lemmatized=True, lowercase=True, giberish=True | Model params: max_depth=13, min_samples_split=5, min_samples_leaf=7 - F1 score train : 0.5075, F1 score val: 0.3718\n",
      "Best score: 0.4255\n",
      "Preprocessing params: no_stopwords=False, lemmatized=True, lowercase=True, giberish=True | Model params: max_depth=13, min_samples_split=5, min_samples_leaf=10 - F1 score train : 0.5048, F1 score val: 0.3781\n",
      "Best score: 0.4255\n",
      "Preprocessing params: no_stopwords=False, lemmatized=True, lowercase=True, giberish=True | Model params: max_depth=13, min_samples_split=7, min_samples_leaf=5 - F1 score train : 0.5186, F1 score val: 0.4045\n",
      "Best score: 0.4255\n",
      "Preprocessing params: no_stopwords=False, lemmatized=True, lowercase=True, giberish=True | Model params: max_depth=13, min_samples_split=7, min_samples_leaf=7 - F1 score train : 0.5075, F1 score val: 0.3718\n",
      "Best score: 0.4255\n",
      "Preprocessing params: no_stopwords=False, lemmatized=True, lowercase=True, giberish=True | Model params: max_depth=13, min_samples_split=7, min_samples_leaf=10 - F1 score train : 0.5048, F1 score val: 0.3781\n",
      "Best score: 0.4255\n",
      "Preprocessing params: no_stopwords=False, lemmatized=True, lowercase=True, giberish=True | Model params: max_depth=13, min_samples_split=10, min_samples_leaf=5 - F1 score train : 0.5186, F1 score val: 0.4045\n",
      "Best score: 0.4255\n",
      "Preprocessing params: no_stopwords=False, lemmatized=True, lowercase=True, giberish=True | Model params: max_depth=13, min_samples_split=10, min_samples_leaf=7 - F1 score train : 0.5075, F1 score val: 0.3718\n",
      "Best score: 0.4255\n",
      "Preprocessing params: no_stopwords=False, lemmatized=True, lowercase=True, giberish=True | Model params: max_depth=13, min_samples_split=10, min_samples_leaf=10 - F1 score train : 0.5048, F1 score val: 0.3781\n",
      "Best score: 0.4255\n",
      "Preprocessing params: no_stopwords=False, lemmatized=True, lowercase=True, giberish=False | Model params: max_depth=9, min_samples_split=5, min_samples_leaf=5 - F1 score train : 0.4818, F1 score val: 0.3877\n",
      "Best score: 0.4255\n",
      "Preprocessing params: no_stopwords=False, lemmatized=True, lowercase=True, giberish=False | Model params: max_depth=9, min_samples_split=5, min_samples_leaf=7 - F1 score train : 0.4621, F1 score val: 0.3662\n",
      "Best score: 0.4255\n",
      "Preprocessing params: no_stopwords=False, lemmatized=True, lowercase=True, giberish=False | Model params: max_depth=9, min_samples_split=5, min_samples_leaf=10 - F1 score train : 0.4586, F1 score val: 0.3770\n",
      "Best score: 0.4255\n",
      "Preprocessing params: no_stopwords=False, lemmatized=True, lowercase=True, giberish=False | Model params: max_depth=9, min_samples_split=7, min_samples_leaf=5 - F1 score train : 0.4818, F1 score val: 0.3877\n",
      "Best score: 0.4255\n",
      "Preprocessing params: no_stopwords=False, lemmatized=True, lowercase=True, giberish=False | Model params: max_depth=9, min_samples_split=7, min_samples_leaf=7 - F1 score train : 0.4621, F1 score val: 0.3662\n",
      "Best score: 0.4255\n",
      "Preprocessing params: no_stopwords=False, lemmatized=True, lowercase=True, giberish=False | Model params: max_depth=9, min_samples_split=7, min_samples_leaf=10 - F1 score train : 0.4586, F1 score val: 0.3770\n",
      "Best score: 0.4255\n",
      "Preprocessing params: no_stopwords=False, lemmatized=True, lowercase=True, giberish=False | Model params: max_depth=9, min_samples_split=10, min_samples_leaf=5 - F1 score train : 0.4818, F1 score val: 0.3877\n",
      "Best score: 0.4255\n",
      "Preprocessing params: no_stopwords=False, lemmatized=True, lowercase=True, giberish=False | Model params: max_depth=9, min_samples_split=10, min_samples_leaf=7 - F1 score train : 0.4621, F1 score val: 0.3662\n",
      "Best score: 0.4255\n",
      "Preprocessing params: no_stopwords=False, lemmatized=True, lowercase=True, giberish=False | Model params: max_depth=9, min_samples_split=10, min_samples_leaf=10 - F1 score train : 0.4586, F1 score val: 0.3770\n",
      "Best score: 0.4255\n",
      "Preprocessing params: no_stopwords=False, lemmatized=True, lowercase=True, giberish=False | Model params: max_depth=11, min_samples_split=5, min_samples_leaf=5 - F1 score train : 0.4931, F1 score val: 0.3864\n",
      "Best score: 0.4255\n",
      "Preprocessing params: no_stopwords=False, lemmatized=True, lowercase=True, giberish=False | Model params: max_depth=11, min_samples_split=5, min_samples_leaf=7 - F1 score train : 0.4877, F1 score val: 0.3820\n",
      "Best score: 0.4255\n",
      "Preprocessing params: no_stopwords=False, lemmatized=True, lowercase=True, giberish=False | Model params: max_depth=11, min_samples_split=5, min_samples_leaf=10 - F1 score train : 0.4893, F1 score val: 0.3764\n",
      "Best score: 0.4255\n",
      "Preprocessing params: no_stopwords=False, lemmatized=True, lowercase=True, giberish=False | Model params: max_depth=11, min_samples_split=7, min_samples_leaf=5 - F1 score train : 0.4931, F1 score val: 0.3864\n",
      "Best score: 0.4255\n",
      "Preprocessing params: no_stopwords=False, lemmatized=True, lowercase=True, giberish=False | Model params: max_depth=11, min_samples_split=7, min_samples_leaf=7 - F1 score train : 0.4877, F1 score val: 0.3820\n",
      "Best score: 0.4255\n",
      "Preprocessing params: no_stopwords=False, lemmatized=True, lowercase=True, giberish=False | Model params: max_depth=11, min_samples_split=7, min_samples_leaf=10 - F1 score train : 0.4893, F1 score val: 0.3764\n",
      "Best score: 0.4255\n",
      "Preprocessing params: no_stopwords=False, lemmatized=True, lowercase=True, giberish=False | Model params: max_depth=11, min_samples_split=10, min_samples_leaf=5 - F1 score train : 0.4931, F1 score val: 0.3864\n",
      "Best score: 0.4255\n",
      "Preprocessing params: no_stopwords=False, lemmatized=True, lowercase=True, giberish=False | Model params: max_depth=11, min_samples_split=10, min_samples_leaf=7 - F1 score train : 0.4877, F1 score val: 0.3820\n",
      "Best score: 0.4255\n",
      "Preprocessing params: no_stopwords=False, lemmatized=True, lowercase=True, giberish=False | Model params: max_depth=11, min_samples_split=10, min_samples_leaf=10 - F1 score train : 0.4893, F1 score val: 0.3764\n",
      "Best score: 0.4255\n",
      "Preprocessing params: no_stopwords=False, lemmatized=True, lowercase=True, giberish=False | Model params: max_depth=13, min_samples_split=5, min_samples_leaf=5 - F1 score train : 0.5186, F1 score val: 0.4045\n",
      "Best score: 0.4255\n",
      "Preprocessing params: no_stopwords=False, lemmatized=True, lowercase=True, giberish=False | Model params: max_depth=13, min_samples_split=5, min_samples_leaf=7 - F1 score train : 0.5075, F1 score val: 0.3718\n",
      "Best score: 0.4255\n",
      "Preprocessing params: no_stopwords=False, lemmatized=True, lowercase=True, giberish=False | Model params: max_depth=13, min_samples_split=5, min_samples_leaf=10 - F1 score train : 0.5048, F1 score val: 0.3781\n",
      "Best score: 0.4255\n",
      "Preprocessing params: no_stopwords=False, lemmatized=True, lowercase=True, giberish=False | Model params: max_depth=13, min_samples_split=7, min_samples_leaf=5 - F1 score train : 0.5186, F1 score val: 0.4045\n",
      "Best score: 0.4255\n",
      "Preprocessing params: no_stopwords=False, lemmatized=True, lowercase=True, giberish=False | Model params: max_depth=13, min_samples_split=7, min_samples_leaf=7 - F1 score train : 0.5075, F1 score val: 0.3718\n",
      "Best score: 0.4255\n",
      "Preprocessing params: no_stopwords=False, lemmatized=True, lowercase=True, giberish=False | Model params: max_depth=13, min_samples_split=7, min_samples_leaf=10 - F1 score train : 0.5048, F1 score val: 0.3781\n",
      "Best score: 0.4255\n",
      "Preprocessing params: no_stopwords=False, lemmatized=True, lowercase=True, giberish=False | Model params: max_depth=13, min_samples_split=10, min_samples_leaf=5 - F1 score train : 0.5186, F1 score val: 0.4045\n",
      "Best score: 0.4255\n",
      "Preprocessing params: no_stopwords=False, lemmatized=True, lowercase=True, giberish=False | Model params: max_depth=13, min_samples_split=10, min_samples_leaf=7 - F1 score train : 0.5075, F1 score val: 0.3718\n",
      "Best score: 0.4255\n",
      "Preprocessing params: no_stopwords=False, lemmatized=True, lowercase=True, giberish=False | Model params: max_depth=13, min_samples_split=10, min_samples_leaf=10 - F1 score train : 0.5048, F1 score val: 0.3781\n",
      "Best score: 0.4255\n",
      "Preprocessing params: no_stopwords=False, lemmatized=True, lowercase=False, giberish=True | Model params: max_depth=9, min_samples_split=5, min_samples_leaf=5 - F1 score train : 0.4818, F1 score val: 0.3877\n",
      "Best score: 0.4255\n",
      "Preprocessing params: no_stopwords=False, lemmatized=True, lowercase=False, giberish=True | Model params: max_depth=9, min_samples_split=5, min_samples_leaf=7 - F1 score train : 0.4621, F1 score val: 0.3662\n",
      "Best score: 0.4255\n",
      "Preprocessing params: no_stopwords=False, lemmatized=True, lowercase=False, giberish=True | Model params: max_depth=9, min_samples_split=5, min_samples_leaf=10 - F1 score train : 0.4586, F1 score val: 0.3770\n",
      "Best score: 0.4255\n",
      "Preprocessing params: no_stopwords=False, lemmatized=True, lowercase=False, giberish=True | Model params: max_depth=9, min_samples_split=7, min_samples_leaf=5 - F1 score train : 0.4818, F1 score val: 0.3877\n",
      "Best score: 0.4255\n",
      "Preprocessing params: no_stopwords=False, lemmatized=True, lowercase=False, giberish=True | Model params: max_depth=9, min_samples_split=7, min_samples_leaf=7 - F1 score train : 0.4621, F1 score val: 0.3662\n",
      "Best score: 0.4255\n",
      "Preprocessing params: no_stopwords=False, lemmatized=True, lowercase=False, giberish=True | Model params: max_depth=9, min_samples_split=7, min_samples_leaf=10 - F1 score train : 0.4586, F1 score val: 0.3770\n",
      "Best score: 0.4255\n",
      "Preprocessing params: no_stopwords=False, lemmatized=True, lowercase=False, giberish=True | Model params: max_depth=9, min_samples_split=10, min_samples_leaf=5 - F1 score train : 0.4818, F1 score val: 0.3877\n",
      "Best score: 0.4255\n",
      "Preprocessing params: no_stopwords=False, lemmatized=True, lowercase=False, giberish=True | Model params: max_depth=9, min_samples_split=10, min_samples_leaf=7 - F1 score train : 0.4621, F1 score val: 0.3662\n",
      "Best score: 0.4255\n",
      "Preprocessing params: no_stopwords=False, lemmatized=True, lowercase=False, giberish=True | Model params: max_depth=9, min_samples_split=10, min_samples_leaf=10 - F1 score train : 0.4586, F1 score val: 0.3770\n",
      "Best score: 0.4255\n",
      "Preprocessing params: no_stopwords=False, lemmatized=True, lowercase=False, giberish=True | Model params: max_depth=11, min_samples_split=5, min_samples_leaf=5 - F1 score train : 0.4931, F1 score val: 0.3864\n",
      "Best score: 0.4255\n",
      "Preprocessing params: no_stopwords=False, lemmatized=True, lowercase=False, giberish=True | Model params: max_depth=11, min_samples_split=5, min_samples_leaf=7 - F1 score train : 0.4877, F1 score val: 0.3820\n",
      "Best score: 0.4255\n",
      "Preprocessing params: no_stopwords=False, lemmatized=True, lowercase=False, giberish=True | Model params: max_depth=11, min_samples_split=5, min_samples_leaf=10 - F1 score train : 0.4893, F1 score val: 0.3764\n",
      "Best score: 0.4255\n",
      "Preprocessing params: no_stopwords=False, lemmatized=True, lowercase=False, giberish=True | Model params: max_depth=11, min_samples_split=7, min_samples_leaf=5 - F1 score train : 0.4931, F1 score val: 0.3864\n",
      "Best score: 0.4255\n",
      "Preprocessing params: no_stopwords=False, lemmatized=True, lowercase=False, giberish=True | Model params: max_depth=11, min_samples_split=7, min_samples_leaf=7 - F1 score train : 0.4877, F1 score val: 0.3820\n",
      "Best score: 0.4255\n",
      "Preprocessing params: no_stopwords=False, lemmatized=True, lowercase=False, giberish=True | Model params: max_depth=11, min_samples_split=7, min_samples_leaf=10 - F1 score train : 0.4893, F1 score val: 0.3764\n",
      "Best score: 0.4255\n",
      "Preprocessing params: no_stopwords=False, lemmatized=True, lowercase=False, giberish=True | Model params: max_depth=11, min_samples_split=10, min_samples_leaf=5 - F1 score train : 0.4931, F1 score val: 0.3864\n",
      "Best score: 0.4255\n",
      "Preprocessing params: no_stopwords=False, lemmatized=True, lowercase=False, giberish=True | Model params: max_depth=11, min_samples_split=10, min_samples_leaf=7 - F1 score train : 0.4877, F1 score val: 0.3820\n",
      "Best score: 0.4255\n",
      "Preprocessing params: no_stopwords=False, lemmatized=True, lowercase=False, giberish=True | Model params: max_depth=11, min_samples_split=10, min_samples_leaf=10 - F1 score train : 0.4893, F1 score val: 0.3764\n",
      "Best score: 0.4255\n",
      "Preprocessing params: no_stopwords=False, lemmatized=True, lowercase=False, giberish=True | Model params: max_depth=13, min_samples_split=5, min_samples_leaf=5 - F1 score train : 0.5186, F1 score val: 0.4045\n",
      "Best score: 0.4255\n",
      "Preprocessing params: no_stopwords=False, lemmatized=True, lowercase=False, giberish=True | Model params: max_depth=13, min_samples_split=5, min_samples_leaf=7 - F1 score train : 0.5075, F1 score val: 0.3718\n",
      "Best score: 0.4255\n",
      "Preprocessing params: no_stopwords=False, lemmatized=True, lowercase=False, giberish=True | Model params: max_depth=13, min_samples_split=5, min_samples_leaf=10 - F1 score train : 0.5048, F1 score val: 0.3781\n",
      "Best score: 0.4255\n",
      "Preprocessing params: no_stopwords=False, lemmatized=True, lowercase=False, giberish=True | Model params: max_depth=13, min_samples_split=7, min_samples_leaf=5 - F1 score train : 0.5186, F1 score val: 0.4045\n",
      "Best score: 0.4255\n",
      "Preprocessing params: no_stopwords=False, lemmatized=True, lowercase=False, giberish=True | Model params: max_depth=13, min_samples_split=7, min_samples_leaf=7 - F1 score train : 0.5075, F1 score val: 0.3718\n",
      "Best score: 0.4255\n",
      "Preprocessing params: no_stopwords=False, lemmatized=True, lowercase=False, giberish=True | Model params: max_depth=13, min_samples_split=7, min_samples_leaf=10 - F1 score train : 0.5048, F1 score val: 0.3781\n",
      "Best score: 0.4255\n",
      "Preprocessing params: no_stopwords=False, lemmatized=True, lowercase=False, giberish=True | Model params: max_depth=13, min_samples_split=10, min_samples_leaf=5 - F1 score train : 0.5186, F1 score val: 0.4045\n",
      "Best score: 0.4255\n",
      "Preprocessing params: no_stopwords=False, lemmatized=True, lowercase=False, giberish=True | Model params: max_depth=13, min_samples_split=10, min_samples_leaf=7 - F1 score train : 0.5075, F1 score val: 0.3718\n",
      "Best score: 0.4255\n",
      "Preprocessing params: no_stopwords=False, lemmatized=True, lowercase=False, giberish=True | Model params: max_depth=13, min_samples_split=10, min_samples_leaf=10 - F1 score train : 0.5048, F1 score val: 0.3781\n",
      "Best score: 0.4255\n",
      "Preprocessing params: no_stopwords=False, lemmatized=True, lowercase=False, giberish=False | Model params: max_depth=9, min_samples_split=5, min_samples_leaf=5 - F1 score train : 0.4818, F1 score val: 0.3877\n",
      "Best score: 0.4255\n",
      "Preprocessing params: no_stopwords=False, lemmatized=True, lowercase=False, giberish=False | Model params: max_depth=9, min_samples_split=5, min_samples_leaf=7 - F1 score train : 0.4621, F1 score val: 0.3662\n",
      "Best score: 0.4255\n",
      "Preprocessing params: no_stopwords=False, lemmatized=True, lowercase=False, giberish=False | Model params: max_depth=9, min_samples_split=5, min_samples_leaf=10 - F1 score train : 0.4586, F1 score val: 0.3770\n",
      "Best score: 0.4255\n",
      "Preprocessing params: no_stopwords=False, lemmatized=True, lowercase=False, giberish=False | Model params: max_depth=9, min_samples_split=7, min_samples_leaf=5 - F1 score train : 0.4818, F1 score val: 0.3877\n",
      "Best score: 0.4255\n",
      "Preprocessing params: no_stopwords=False, lemmatized=True, lowercase=False, giberish=False | Model params: max_depth=9, min_samples_split=7, min_samples_leaf=7 - F1 score train : 0.4621, F1 score val: 0.3662\n",
      "Best score: 0.4255\n",
      "Preprocessing params: no_stopwords=False, lemmatized=True, lowercase=False, giberish=False | Model params: max_depth=9, min_samples_split=7, min_samples_leaf=10 - F1 score train : 0.4586, F1 score val: 0.3770\n",
      "Best score: 0.4255\n",
      "Preprocessing params: no_stopwords=False, lemmatized=True, lowercase=False, giberish=False | Model params: max_depth=9, min_samples_split=10, min_samples_leaf=5 - F1 score train : 0.4818, F1 score val: 0.3877\n",
      "Best score: 0.4255\n",
      "Preprocessing params: no_stopwords=False, lemmatized=True, lowercase=False, giberish=False | Model params: max_depth=9, min_samples_split=10, min_samples_leaf=7 - F1 score train : 0.4621, F1 score val: 0.3662\n",
      "Best score: 0.4255\n",
      "Preprocessing params: no_stopwords=False, lemmatized=True, lowercase=False, giberish=False | Model params: max_depth=9, min_samples_split=10, min_samples_leaf=10 - F1 score train : 0.4586, F1 score val: 0.3770\n",
      "Best score: 0.4255\n",
      "Preprocessing params: no_stopwords=False, lemmatized=True, lowercase=False, giberish=False | Model params: max_depth=11, min_samples_split=5, min_samples_leaf=5 - F1 score train : 0.4931, F1 score val: 0.3864\n",
      "Best score: 0.4255\n",
      "Preprocessing params: no_stopwords=False, lemmatized=True, lowercase=False, giberish=False | Model params: max_depth=11, min_samples_split=5, min_samples_leaf=7 - F1 score train : 0.4877, F1 score val: 0.3820\n",
      "Best score: 0.4255\n",
      "Preprocessing params: no_stopwords=False, lemmatized=True, lowercase=False, giberish=False | Model params: max_depth=11, min_samples_split=5, min_samples_leaf=10 - F1 score train : 0.4893, F1 score val: 0.3764\n",
      "Best score: 0.4255\n",
      "Preprocessing params: no_stopwords=False, lemmatized=True, lowercase=False, giberish=False | Model params: max_depth=11, min_samples_split=7, min_samples_leaf=5 - F1 score train : 0.4931, F1 score val: 0.3864\n",
      "Best score: 0.4255\n",
      "Preprocessing params: no_stopwords=False, lemmatized=True, lowercase=False, giberish=False | Model params: max_depth=11, min_samples_split=7, min_samples_leaf=7 - F1 score train : 0.4877, F1 score val: 0.3820\n",
      "Best score: 0.4255\n",
      "Preprocessing params: no_stopwords=False, lemmatized=True, lowercase=False, giberish=False | Model params: max_depth=11, min_samples_split=7, min_samples_leaf=10 - F1 score train : 0.4893, F1 score val: 0.3764\n",
      "Best score: 0.4255\n",
      "Preprocessing params: no_stopwords=False, lemmatized=True, lowercase=False, giberish=False | Model params: max_depth=11, min_samples_split=10, min_samples_leaf=5 - F1 score train : 0.4931, F1 score val: 0.3864\n",
      "Best score: 0.4255\n",
      "Preprocessing params: no_stopwords=False, lemmatized=True, lowercase=False, giberish=False | Model params: max_depth=11, min_samples_split=10, min_samples_leaf=7 - F1 score train : 0.4877, F1 score val: 0.3820\n",
      "Best score: 0.4255\n",
      "Preprocessing params: no_stopwords=False, lemmatized=True, lowercase=False, giberish=False | Model params: max_depth=11, min_samples_split=10, min_samples_leaf=10 - F1 score train : 0.4893, F1 score val: 0.3764\n",
      "Best score: 0.4255\n",
      "Preprocessing params: no_stopwords=False, lemmatized=True, lowercase=False, giberish=False | Model params: max_depth=13, min_samples_split=5, min_samples_leaf=5 - F1 score train : 0.5186, F1 score val: 0.4045\n",
      "Best score: 0.4255\n",
      "Preprocessing params: no_stopwords=False, lemmatized=True, lowercase=False, giberish=False | Model params: max_depth=13, min_samples_split=5, min_samples_leaf=7 - F1 score train : 0.5075, F1 score val: 0.3718\n",
      "Best score: 0.4255\n",
      "Preprocessing params: no_stopwords=False, lemmatized=True, lowercase=False, giberish=False | Model params: max_depth=13, min_samples_split=5, min_samples_leaf=10 - F1 score train : 0.5048, F1 score val: 0.3781\n",
      "Best score: 0.4255\n",
      "Preprocessing params: no_stopwords=False, lemmatized=True, lowercase=False, giberish=False | Model params: max_depth=13, min_samples_split=7, min_samples_leaf=5 - F1 score train : 0.5186, F1 score val: 0.4045\n",
      "Best score: 0.4255\n",
      "Preprocessing params: no_stopwords=False, lemmatized=True, lowercase=False, giberish=False | Model params: max_depth=13, min_samples_split=7, min_samples_leaf=7 - F1 score train : 0.5075, F1 score val: 0.3718\n",
      "Best score: 0.4255\n",
      "Preprocessing params: no_stopwords=False, lemmatized=True, lowercase=False, giberish=False | Model params: max_depth=13, min_samples_split=7, min_samples_leaf=10 - F1 score train : 0.5048, F1 score val: 0.3781\n",
      "Best score: 0.4255\n",
      "Preprocessing params: no_stopwords=False, lemmatized=True, lowercase=False, giberish=False | Model params: max_depth=13, min_samples_split=10, min_samples_leaf=5 - F1 score train : 0.5186, F1 score val: 0.4045\n",
      "Best score: 0.4255\n",
      "Preprocessing params: no_stopwords=False, lemmatized=True, lowercase=False, giberish=False | Model params: max_depth=13, min_samples_split=10, min_samples_leaf=7 - F1 score train : 0.5075, F1 score val: 0.3718\n",
      "Best score: 0.4255\n",
      "Preprocessing params: no_stopwords=False, lemmatized=True, lowercase=False, giberish=False | Model params: max_depth=13, min_samples_split=10, min_samples_leaf=10 - F1 score train : 0.5048, F1 score val: 0.3781\n",
      "Best score: 0.4255\n",
      "Preprocessing params: no_stopwords=False, lemmatized=False, lowercase=True, giberish=True | Model params: max_depth=9, min_samples_split=5, min_samples_leaf=5 - F1 score train : 0.4771, F1 score val: 0.4078\n",
      "Best score: 0.4255\n",
      "Preprocessing params: no_stopwords=False, lemmatized=False, lowercase=True, giberish=True | Model params: max_depth=9, min_samples_split=5, min_samples_leaf=7 - F1 score train : 0.4767, F1 score val: 0.3854\n",
      "Best score: 0.4255\n",
      "Preprocessing params: no_stopwords=False, lemmatized=False, lowercase=True, giberish=True | Model params: max_depth=9, min_samples_split=5, min_samples_leaf=10 - F1 score train : 0.4636, F1 score val: 0.3686\n",
      "Best score: 0.4255\n",
      "Preprocessing params: no_stopwords=False, lemmatized=False, lowercase=True, giberish=True | Model params: max_depth=9, min_samples_split=7, min_samples_leaf=5 - F1 score train : 0.4771, F1 score val: 0.4078\n",
      "Best score: 0.4255\n",
      "Preprocessing params: no_stopwords=False, lemmatized=False, lowercase=True, giberish=True | Model params: max_depth=9, min_samples_split=7, min_samples_leaf=7 - F1 score train : 0.4767, F1 score val: 0.3854\n",
      "Best score: 0.4255\n",
      "Preprocessing params: no_stopwords=False, lemmatized=False, lowercase=True, giberish=True | Model params: max_depth=9, min_samples_split=7, min_samples_leaf=10 - F1 score train : 0.4636, F1 score val: 0.3686\n",
      "Best score: 0.4255\n",
      "Preprocessing params: no_stopwords=False, lemmatized=False, lowercase=True, giberish=True | Model params: max_depth=9, min_samples_split=10, min_samples_leaf=5 - F1 score train : 0.4771, F1 score val: 0.4078\n",
      "Best score: 0.4255\n",
      "Preprocessing params: no_stopwords=False, lemmatized=False, lowercase=True, giberish=True | Model params: max_depth=9, min_samples_split=10, min_samples_leaf=7 - F1 score train : 0.4767, F1 score val: 0.3854\n",
      "Best score: 0.4255\n",
      "Preprocessing params: no_stopwords=False, lemmatized=False, lowercase=True, giberish=True | Model params: max_depth=9, min_samples_split=10, min_samples_leaf=10 - F1 score train : 0.4636, F1 score val: 0.3686\n",
      "Best score: 0.4255\n",
      "Preprocessing params: no_stopwords=False, lemmatized=False, lowercase=True, giberish=True | Model params: max_depth=11, min_samples_split=5, min_samples_leaf=5 - F1 score train : 0.5059, F1 score val: 0.4000\n",
      "Best score: 0.4255\n",
      "Preprocessing params: no_stopwords=False, lemmatized=False, lowercase=True, giberish=True | Model params: max_depth=11, min_samples_split=5, min_samples_leaf=7 - F1 score train : 0.4954, F1 score val: 0.3934\n",
      "Best score: 0.4255\n",
      "Preprocessing params: no_stopwords=False, lemmatized=False, lowercase=True, giberish=True | Model params: max_depth=11, min_samples_split=5, min_samples_leaf=10 - F1 score train : 0.4974, F1 score val: 0.3776\n",
      "Best score: 0.4255\n",
      "Preprocessing params: no_stopwords=False, lemmatized=False, lowercase=True, giberish=True | Model params: max_depth=11, min_samples_split=7, min_samples_leaf=5 - F1 score train : 0.5059, F1 score val: 0.4000\n",
      "Best score: 0.4255\n",
      "Preprocessing params: no_stopwords=False, lemmatized=False, lowercase=True, giberish=True | Model params: max_depth=11, min_samples_split=7, min_samples_leaf=7 - F1 score train : 0.4954, F1 score val: 0.3934\n",
      "Best score: 0.4255\n",
      "Preprocessing params: no_stopwords=False, lemmatized=False, lowercase=True, giberish=True | Model params: max_depth=11, min_samples_split=7, min_samples_leaf=10 - F1 score train : 0.4974, F1 score val: 0.3776\n",
      "Best score: 0.4255\n",
      "Preprocessing params: no_stopwords=False, lemmatized=False, lowercase=True, giberish=True | Model params: max_depth=11, min_samples_split=10, min_samples_leaf=5 - F1 score train : 0.5059, F1 score val: 0.4000\n",
      "Best score: 0.4255\n",
      "Preprocessing params: no_stopwords=False, lemmatized=False, lowercase=True, giberish=True | Model params: max_depth=11, min_samples_split=10, min_samples_leaf=7 - F1 score train : 0.4954, F1 score val: 0.3934\n",
      "Best score: 0.4255\n",
      "Preprocessing params: no_stopwords=False, lemmatized=False, lowercase=True, giberish=True | Model params: max_depth=11, min_samples_split=10, min_samples_leaf=10 - F1 score train : 0.4974, F1 score val: 0.3776\n",
      "Best score: 0.4255\n",
      "Preprocessing params: no_stopwords=False, lemmatized=False, lowercase=True, giberish=True | Model params: max_depth=13, min_samples_split=5, min_samples_leaf=5 - F1 score train : 0.5296, F1 score val: 0.4102\n",
      "Best score: 0.4255\n",
      "Preprocessing params: no_stopwords=False, lemmatized=False, lowercase=True, giberish=True | Model params: max_depth=13, min_samples_split=5, min_samples_leaf=7 - F1 score train : 0.5320, F1 score val: 0.4037\n",
      "Best score: 0.4255\n",
      "Preprocessing params: no_stopwords=False, lemmatized=False, lowercase=True, giberish=True | Model params: max_depth=13, min_samples_split=5, min_samples_leaf=10 - F1 score train : 0.5126, F1 score val: 0.3840\n",
      "Best score: 0.4255\n",
      "Preprocessing params: no_stopwords=False, lemmatized=False, lowercase=True, giberish=True | Model params: max_depth=13, min_samples_split=7, min_samples_leaf=5 - F1 score train : 0.5296, F1 score val: 0.4102\n",
      "Best score: 0.4255\n",
      "Preprocessing params: no_stopwords=False, lemmatized=False, lowercase=True, giberish=True | Model params: max_depth=13, min_samples_split=7, min_samples_leaf=7 - F1 score train : 0.5320, F1 score val: 0.4037\n",
      "Best score: 0.4255\n",
      "Preprocessing params: no_stopwords=False, lemmatized=False, lowercase=True, giberish=True | Model params: max_depth=13, min_samples_split=7, min_samples_leaf=10 - F1 score train : 0.5126, F1 score val: 0.3840\n",
      "Best score: 0.4255\n",
      "Preprocessing params: no_stopwords=False, lemmatized=False, lowercase=True, giberish=True | Model params: max_depth=13, min_samples_split=10, min_samples_leaf=5 - F1 score train : 0.5296, F1 score val: 0.4102\n",
      "Best score: 0.4255\n",
      "Preprocessing params: no_stopwords=False, lemmatized=False, lowercase=True, giberish=True | Model params: max_depth=13, min_samples_split=10, min_samples_leaf=7 - F1 score train : 0.5320, F1 score val: 0.4037\n",
      "Best score: 0.4255\n",
      "Preprocessing params: no_stopwords=False, lemmatized=False, lowercase=True, giberish=True | Model params: max_depth=13, min_samples_split=10, min_samples_leaf=10 - F1 score train : 0.5126, F1 score val: 0.3840\n",
      "Best score: 0.4255\n",
      "Preprocessing params: no_stopwords=False, lemmatized=False, lowercase=True, giberish=False | Model params: max_depth=9, min_samples_split=5, min_samples_leaf=5 - F1 score train : 0.4771, F1 score val: 0.4078\n",
      "Best score: 0.4255\n",
      "Preprocessing params: no_stopwords=False, lemmatized=False, lowercase=True, giberish=False | Model params: max_depth=9, min_samples_split=5, min_samples_leaf=7 - F1 score train : 0.4767, F1 score val: 0.3854\n",
      "Best score: 0.4255\n",
      "Preprocessing params: no_stopwords=False, lemmatized=False, lowercase=True, giberish=False | Model params: max_depth=9, min_samples_split=5, min_samples_leaf=10 - F1 score train : 0.4636, F1 score val: 0.3686\n",
      "Best score: 0.4255\n",
      "Preprocessing params: no_stopwords=False, lemmatized=False, lowercase=True, giberish=False | Model params: max_depth=9, min_samples_split=7, min_samples_leaf=5 - F1 score train : 0.4771, F1 score val: 0.4078\n",
      "Best score: 0.4255\n",
      "Preprocessing params: no_stopwords=False, lemmatized=False, lowercase=True, giberish=False | Model params: max_depth=9, min_samples_split=7, min_samples_leaf=7 - F1 score train : 0.4767, F1 score val: 0.3854\n",
      "Best score: 0.4255\n",
      "Preprocessing params: no_stopwords=False, lemmatized=False, lowercase=True, giberish=False | Model params: max_depth=9, min_samples_split=7, min_samples_leaf=10 - F1 score train : 0.4636, F1 score val: 0.3686\n",
      "Best score: 0.4255\n",
      "Preprocessing params: no_stopwords=False, lemmatized=False, lowercase=True, giberish=False | Model params: max_depth=9, min_samples_split=10, min_samples_leaf=5 - F1 score train : 0.4771, F1 score val: 0.4078\n",
      "Best score: 0.4255\n",
      "Preprocessing params: no_stopwords=False, lemmatized=False, lowercase=True, giberish=False | Model params: max_depth=9, min_samples_split=10, min_samples_leaf=7 - F1 score train : 0.4767, F1 score val: 0.3854\n",
      "Best score: 0.4255\n",
      "Preprocessing params: no_stopwords=False, lemmatized=False, lowercase=True, giberish=False | Model params: max_depth=9, min_samples_split=10, min_samples_leaf=10 - F1 score train : 0.4636, F1 score val: 0.3686\n",
      "Best score: 0.4255\n",
      "Preprocessing params: no_stopwords=False, lemmatized=False, lowercase=True, giberish=False | Model params: max_depth=11, min_samples_split=5, min_samples_leaf=5 - F1 score train : 0.5059, F1 score val: 0.4000\n",
      "Best score: 0.4255\n",
      "Preprocessing params: no_stopwords=False, lemmatized=False, lowercase=True, giberish=False | Model params: max_depth=11, min_samples_split=5, min_samples_leaf=7 - F1 score train : 0.4954, F1 score val: 0.3934\n",
      "Best score: 0.4255\n",
      "Preprocessing params: no_stopwords=False, lemmatized=False, lowercase=True, giberish=False | Model params: max_depth=11, min_samples_split=5, min_samples_leaf=10 - F1 score train : 0.4974, F1 score val: 0.3776\n",
      "Best score: 0.4255\n",
      "Preprocessing params: no_stopwords=False, lemmatized=False, lowercase=True, giberish=False | Model params: max_depth=11, min_samples_split=7, min_samples_leaf=5 - F1 score train : 0.5059, F1 score val: 0.4000\n",
      "Best score: 0.4255\n",
      "Preprocessing params: no_stopwords=False, lemmatized=False, lowercase=True, giberish=False | Model params: max_depth=11, min_samples_split=7, min_samples_leaf=7 - F1 score train : 0.4954, F1 score val: 0.3934\n",
      "Best score: 0.4255\n",
      "Preprocessing params: no_stopwords=False, lemmatized=False, lowercase=True, giberish=False | Model params: max_depth=11, min_samples_split=7, min_samples_leaf=10 - F1 score train : 0.4974, F1 score val: 0.3776\n",
      "Best score: 0.4255\n",
      "Preprocessing params: no_stopwords=False, lemmatized=False, lowercase=True, giberish=False | Model params: max_depth=11, min_samples_split=10, min_samples_leaf=5 - F1 score train : 0.5059, F1 score val: 0.4000\n",
      "Best score: 0.4255\n",
      "Preprocessing params: no_stopwords=False, lemmatized=False, lowercase=True, giberish=False | Model params: max_depth=11, min_samples_split=10, min_samples_leaf=7 - F1 score train : 0.4954, F1 score val: 0.3934\n",
      "Best score: 0.4255\n",
      "Preprocessing params: no_stopwords=False, lemmatized=False, lowercase=True, giberish=False | Model params: max_depth=11, min_samples_split=10, min_samples_leaf=10 - F1 score train : 0.4974, F1 score val: 0.3776\n",
      "Best score: 0.4255\n",
      "Preprocessing params: no_stopwords=False, lemmatized=False, lowercase=True, giberish=False | Model params: max_depth=13, min_samples_split=5, min_samples_leaf=5 - F1 score train : 0.5296, F1 score val: 0.4102\n",
      "Best score: 0.4255\n",
      "Preprocessing params: no_stopwords=False, lemmatized=False, lowercase=True, giberish=False | Model params: max_depth=13, min_samples_split=5, min_samples_leaf=7 - F1 score train : 0.5320, F1 score val: 0.4037\n",
      "Best score: 0.4255\n",
      "Preprocessing params: no_stopwords=False, lemmatized=False, lowercase=True, giberish=False | Model params: max_depth=13, min_samples_split=5, min_samples_leaf=10 - F1 score train : 0.5126, F1 score val: 0.3840\n",
      "Best score: 0.4255\n",
      "Preprocessing params: no_stopwords=False, lemmatized=False, lowercase=True, giberish=False | Model params: max_depth=13, min_samples_split=7, min_samples_leaf=5 - F1 score train : 0.5296, F1 score val: 0.4102\n",
      "Best score: 0.4255\n",
      "Preprocessing params: no_stopwords=False, lemmatized=False, lowercase=True, giberish=False | Model params: max_depth=13, min_samples_split=7, min_samples_leaf=7 - F1 score train : 0.5320, F1 score val: 0.4037\n",
      "Best score: 0.4255\n",
      "Preprocessing params: no_stopwords=False, lemmatized=False, lowercase=True, giberish=False | Model params: max_depth=13, min_samples_split=7, min_samples_leaf=10 - F1 score train : 0.5126, F1 score val: 0.3840\n",
      "Best score: 0.4255\n",
      "Preprocessing params: no_stopwords=False, lemmatized=False, lowercase=True, giberish=False | Model params: max_depth=13, min_samples_split=10, min_samples_leaf=5 - F1 score train : 0.5296, F1 score val: 0.4102\n",
      "Best score: 0.4255\n",
      "Preprocessing params: no_stopwords=False, lemmatized=False, lowercase=True, giberish=False | Model params: max_depth=13, min_samples_split=10, min_samples_leaf=7 - F1 score train : 0.5320, F1 score val: 0.4037\n",
      "Best score: 0.4255\n",
      "Preprocessing params: no_stopwords=False, lemmatized=False, lowercase=True, giberish=False | Model params: max_depth=13, min_samples_split=10, min_samples_leaf=10 - F1 score train : 0.5126, F1 score val: 0.3840\n",
      "Best score: 0.4255\n",
      "Preprocessing params: no_stopwords=False, lemmatized=False, lowercase=False, giberish=True | Model params: max_depth=9, min_samples_split=5, min_samples_leaf=5 - F1 score train : 0.4771, F1 score val: 0.4078\n",
      "Best score: 0.4255\n",
      "Preprocessing params: no_stopwords=False, lemmatized=False, lowercase=False, giberish=True | Model params: max_depth=9, min_samples_split=5, min_samples_leaf=7 - F1 score train : 0.4767, F1 score val: 0.3854\n",
      "Best score: 0.4255\n",
      "Preprocessing params: no_stopwords=False, lemmatized=False, lowercase=False, giberish=True | Model params: max_depth=9, min_samples_split=5, min_samples_leaf=10 - F1 score train : 0.4636, F1 score val: 0.3686\n",
      "Best score: 0.4255\n",
      "Preprocessing params: no_stopwords=False, lemmatized=False, lowercase=False, giberish=True | Model params: max_depth=9, min_samples_split=7, min_samples_leaf=5 - F1 score train : 0.4771, F1 score val: 0.4078\n",
      "Best score: 0.4255\n",
      "Preprocessing params: no_stopwords=False, lemmatized=False, lowercase=False, giberish=True | Model params: max_depth=9, min_samples_split=7, min_samples_leaf=7 - F1 score train : 0.4767, F1 score val: 0.3854\n",
      "Best score: 0.4255\n",
      "Preprocessing params: no_stopwords=False, lemmatized=False, lowercase=False, giberish=True | Model params: max_depth=9, min_samples_split=7, min_samples_leaf=10 - F1 score train : 0.4636, F1 score val: 0.3686\n",
      "Best score: 0.4255\n",
      "Preprocessing params: no_stopwords=False, lemmatized=False, lowercase=False, giberish=True | Model params: max_depth=9, min_samples_split=10, min_samples_leaf=5 - F1 score train : 0.4771, F1 score val: 0.4078\n",
      "Best score: 0.4255\n",
      "Preprocessing params: no_stopwords=False, lemmatized=False, lowercase=False, giberish=True | Model params: max_depth=9, min_samples_split=10, min_samples_leaf=7 - F1 score train : 0.4767, F1 score val: 0.3854\n",
      "Best score: 0.4255\n",
      "Preprocessing params: no_stopwords=False, lemmatized=False, lowercase=False, giberish=True | Model params: max_depth=9, min_samples_split=10, min_samples_leaf=10 - F1 score train : 0.4636, F1 score val: 0.3686\n",
      "Best score: 0.4255\n",
      "Preprocessing params: no_stopwords=False, lemmatized=False, lowercase=False, giberish=True | Model params: max_depth=11, min_samples_split=5, min_samples_leaf=5 - F1 score train : 0.5059, F1 score val: 0.4000\n",
      "Best score: 0.4255\n",
      "Preprocessing params: no_stopwords=False, lemmatized=False, lowercase=False, giberish=True | Model params: max_depth=11, min_samples_split=5, min_samples_leaf=7 - F1 score train : 0.4954, F1 score val: 0.3934\n",
      "Best score: 0.4255\n",
      "Preprocessing params: no_stopwords=False, lemmatized=False, lowercase=False, giberish=True | Model params: max_depth=11, min_samples_split=5, min_samples_leaf=10 - F1 score train : 0.4974, F1 score val: 0.3776\n",
      "Best score: 0.4255\n",
      "Preprocessing params: no_stopwords=False, lemmatized=False, lowercase=False, giberish=True | Model params: max_depth=11, min_samples_split=7, min_samples_leaf=5 - F1 score train : 0.5059, F1 score val: 0.4000\n",
      "Best score: 0.4255\n",
      "Preprocessing params: no_stopwords=False, lemmatized=False, lowercase=False, giberish=True | Model params: max_depth=11, min_samples_split=7, min_samples_leaf=7 - F1 score train : 0.4954, F1 score val: 0.3934\n",
      "Best score: 0.4255\n",
      "Preprocessing params: no_stopwords=False, lemmatized=False, lowercase=False, giberish=True | Model params: max_depth=11, min_samples_split=7, min_samples_leaf=10 - F1 score train : 0.4974, F1 score val: 0.3776\n",
      "Best score: 0.4255\n",
      "Preprocessing params: no_stopwords=False, lemmatized=False, lowercase=False, giberish=True | Model params: max_depth=11, min_samples_split=10, min_samples_leaf=5 - F1 score train : 0.5059, F1 score val: 0.4000\n",
      "Best score: 0.4255\n",
      "Preprocessing params: no_stopwords=False, lemmatized=False, lowercase=False, giberish=True | Model params: max_depth=11, min_samples_split=10, min_samples_leaf=7 - F1 score train : 0.4954, F1 score val: 0.3934\n",
      "Best score: 0.4255\n",
      "Preprocessing params: no_stopwords=False, lemmatized=False, lowercase=False, giberish=True | Model params: max_depth=11, min_samples_split=10, min_samples_leaf=10 - F1 score train : 0.4974, F1 score val: 0.3776\n",
      "Best score: 0.4255\n",
      "Preprocessing params: no_stopwords=False, lemmatized=False, lowercase=False, giberish=True | Model params: max_depth=13, min_samples_split=5, min_samples_leaf=5 - F1 score train : 0.5296, F1 score val: 0.4102\n",
      "Best score: 0.4255\n",
      "Preprocessing params: no_stopwords=False, lemmatized=False, lowercase=False, giberish=True | Model params: max_depth=13, min_samples_split=5, min_samples_leaf=7 - F1 score train : 0.5320, F1 score val: 0.4037\n",
      "Best score: 0.4255\n",
      "Preprocessing params: no_stopwords=False, lemmatized=False, lowercase=False, giberish=True | Model params: max_depth=13, min_samples_split=5, min_samples_leaf=10 - F1 score train : 0.5126, F1 score val: 0.3840\n",
      "Best score: 0.4255\n",
      "Preprocessing params: no_stopwords=False, lemmatized=False, lowercase=False, giberish=True | Model params: max_depth=13, min_samples_split=7, min_samples_leaf=5 - F1 score train : 0.5296, F1 score val: 0.4102\n",
      "Best score: 0.4255\n",
      "Preprocessing params: no_stopwords=False, lemmatized=False, lowercase=False, giberish=True | Model params: max_depth=13, min_samples_split=7, min_samples_leaf=7 - F1 score train : 0.5320, F1 score val: 0.4037\n",
      "Best score: 0.4255\n",
      "Preprocessing params: no_stopwords=False, lemmatized=False, lowercase=False, giberish=True | Model params: max_depth=13, min_samples_split=7, min_samples_leaf=10 - F1 score train : 0.5126, F1 score val: 0.3840\n",
      "Best score: 0.4255\n",
      "Preprocessing params: no_stopwords=False, lemmatized=False, lowercase=False, giberish=True | Model params: max_depth=13, min_samples_split=10, min_samples_leaf=5 - F1 score train : 0.5296, F1 score val: 0.4102\n",
      "Best score: 0.4255\n",
      "Preprocessing params: no_stopwords=False, lemmatized=False, lowercase=False, giberish=True | Model params: max_depth=13, min_samples_split=10, min_samples_leaf=7 - F1 score train : 0.5320, F1 score val: 0.4037\n",
      "Best score: 0.4255\n",
      "Preprocessing params: no_stopwords=False, lemmatized=False, lowercase=False, giberish=True | Model params: max_depth=13, min_samples_split=10, min_samples_leaf=10 - F1 score train : 0.5126, F1 score val: 0.3840\n",
      "Best score: 0.4255\n",
      "Preprocessing params: no_stopwords=False, lemmatized=False, lowercase=False, giberish=False | Model params: max_depth=9, min_samples_split=5, min_samples_leaf=5 - F1 score train : 0.4771, F1 score val: 0.4078\n",
      "Best score: 0.4255\n",
      "Preprocessing params: no_stopwords=False, lemmatized=False, lowercase=False, giberish=False | Model params: max_depth=9, min_samples_split=5, min_samples_leaf=7 - F1 score train : 0.4767, F1 score val: 0.3854\n",
      "Best score: 0.4255\n",
      "Preprocessing params: no_stopwords=False, lemmatized=False, lowercase=False, giberish=False | Model params: max_depth=9, min_samples_split=5, min_samples_leaf=10 - F1 score train : 0.4636, F1 score val: 0.3686\n",
      "Best score: 0.4255\n",
      "Preprocessing params: no_stopwords=False, lemmatized=False, lowercase=False, giberish=False | Model params: max_depth=9, min_samples_split=7, min_samples_leaf=5 - F1 score train : 0.4771, F1 score val: 0.4078\n",
      "Best score: 0.4255\n",
      "Preprocessing params: no_stopwords=False, lemmatized=False, lowercase=False, giberish=False | Model params: max_depth=9, min_samples_split=7, min_samples_leaf=7 - F1 score train : 0.4767, F1 score val: 0.3854\n",
      "Best score: 0.4255\n",
      "Preprocessing params: no_stopwords=False, lemmatized=False, lowercase=False, giberish=False | Model params: max_depth=9, min_samples_split=7, min_samples_leaf=10 - F1 score train : 0.4636, F1 score val: 0.3686\n",
      "Best score: 0.4255\n",
      "Preprocessing params: no_stopwords=False, lemmatized=False, lowercase=False, giberish=False | Model params: max_depth=9, min_samples_split=10, min_samples_leaf=5 - F1 score train : 0.4771, F1 score val: 0.4078\n",
      "Best score: 0.4255\n",
      "Preprocessing params: no_stopwords=False, lemmatized=False, lowercase=False, giberish=False | Model params: max_depth=9, min_samples_split=10, min_samples_leaf=7 - F1 score train : 0.4767, F1 score val: 0.3854\n",
      "Best score: 0.4255\n",
      "Preprocessing params: no_stopwords=False, lemmatized=False, lowercase=False, giberish=False | Model params: max_depth=9, min_samples_split=10, min_samples_leaf=10 - F1 score train : 0.4636, F1 score val: 0.3686\n",
      "Best score: 0.4255\n",
      "Preprocessing params: no_stopwords=False, lemmatized=False, lowercase=False, giberish=False | Model params: max_depth=11, min_samples_split=5, min_samples_leaf=5 - F1 score train : 0.5059, F1 score val: 0.4000\n",
      "Best score: 0.4255\n",
      "Preprocessing params: no_stopwords=False, lemmatized=False, lowercase=False, giberish=False | Model params: max_depth=11, min_samples_split=5, min_samples_leaf=7 - F1 score train : 0.4954, F1 score val: 0.3934\n",
      "Best score: 0.4255\n",
      "Preprocessing params: no_stopwords=False, lemmatized=False, lowercase=False, giberish=False | Model params: max_depth=11, min_samples_split=5, min_samples_leaf=10 - F1 score train : 0.4974, F1 score val: 0.3776\n",
      "Best score: 0.4255\n",
      "Preprocessing params: no_stopwords=False, lemmatized=False, lowercase=False, giberish=False | Model params: max_depth=11, min_samples_split=7, min_samples_leaf=5 - F1 score train : 0.5059, F1 score val: 0.4000\n",
      "Best score: 0.4255\n",
      "Preprocessing params: no_stopwords=False, lemmatized=False, lowercase=False, giberish=False | Model params: max_depth=11, min_samples_split=7, min_samples_leaf=7 - F1 score train : 0.4954, F1 score val: 0.3934\n",
      "Best score: 0.4255\n",
      "Preprocessing params: no_stopwords=False, lemmatized=False, lowercase=False, giberish=False | Model params: max_depth=11, min_samples_split=7, min_samples_leaf=10 - F1 score train : 0.4974, F1 score val: 0.3776\n",
      "Best score: 0.4255\n",
      "Preprocessing params: no_stopwords=False, lemmatized=False, lowercase=False, giberish=False | Model params: max_depth=11, min_samples_split=10, min_samples_leaf=5 - F1 score train : 0.5059, F1 score val: 0.4000\n",
      "Best score: 0.4255\n",
      "Preprocessing params: no_stopwords=False, lemmatized=False, lowercase=False, giberish=False | Model params: max_depth=11, min_samples_split=10, min_samples_leaf=7 - F1 score train : 0.4954, F1 score val: 0.3934\n",
      "Best score: 0.4255\n",
      "Preprocessing params: no_stopwords=False, lemmatized=False, lowercase=False, giberish=False | Model params: max_depth=11, min_samples_split=10, min_samples_leaf=10 - F1 score train : 0.4974, F1 score val: 0.3776\n",
      "Best score: 0.4255\n",
      "Preprocessing params: no_stopwords=False, lemmatized=False, lowercase=False, giberish=False | Model params: max_depth=13, min_samples_split=5, min_samples_leaf=5 - F1 score train : 0.5296, F1 score val: 0.4102\n",
      "Best score: 0.4255\n",
      "Preprocessing params: no_stopwords=False, lemmatized=False, lowercase=False, giberish=False | Model params: max_depth=13, min_samples_split=5, min_samples_leaf=7 - F1 score train : 0.5320, F1 score val: 0.4037\n",
      "Best score: 0.4255\n",
      "Preprocessing params: no_stopwords=False, lemmatized=False, lowercase=False, giberish=False | Model params: max_depth=13, min_samples_split=5, min_samples_leaf=10 - F1 score train : 0.5126, F1 score val: 0.3840\n",
      "Best score: 0.4255\n",
      "Preprocessing params: no_stopwords=False, lemmatized=False, lowercase=False, giberish=False | Model params: max_depth=13, min_samples_split=7, min_samples_leaf=5 - F1 score train : 0.5296, F1 score val: 0.4102\n",
      "Best score: 0.4255\n",
      "Preprocessing params: no_stopwords=False, lemmatized=False, lowercase=False, giberish=False | Model params: max_depth=13, min_samples_split=7, min_samples_leaf=7 - F1 score train : 0.5320, F1 score val: 0.4037\n",
      "Best score: 0.4255\n",
      "Preprocessing params: no_stopwords=False, lemmatized=False, lowercase=False, giberish=False | Model params: max_depth=13, min_samples_split=7, min_samples_leaf=10 - F1 score train : 0.5126, F1 score val: 0.3840\n",
      "Best score: 0.4255\n",
      "Preprocessing params: no_stopwords=False, lemmatized=False, lowercase=False, giberish=False | Model params: max_depth=13, min_samples_split=10, min_samples_leaf=5 - F1 score train : 0.5296, F1 score val: 0.4102\n",
      "Best score: 0.4255\n",
      "Preprocessing params: no_stopwords=False, lemmatized=False, lowercase=False, giberish=False | Model params: max_depth=13, min_samples_split=10, min_samples_leaf=7 - F1 score train : 0.5320, F1 score val: 0.4037\n",
      "Best score: 0.4255\n",
      "Preprocessing params: no_stopwords=False, lemmatized=False, lowercase=False, giberish=False | Model params: max_depth=13, min_samples_split=10, min_samples_leaf=10 - F1 score train : 0.5126, F1 score val: 0.3840\n",
      "Best score: 0.4255\n",
      "\n",
      "Best parameters for LabelPowerset Classifier:\n",
      "{'max_depth': 11, 'min_samples_split': 5, 'min_samples_leaf': 5, 'no_stopwords': True, 'lemmatized': True, 'lowercase': True, 'giberish': True}\n",
      "Best score for val LabelPowerset Classifier: 0.42546098065514376\n",
      "Best score for train LabelPowerset Classifier: 0.4822729534066418\n"
     ]
    }
   ],
   "source": [
    "control_value=0\n",
    "best_score = 0\n",
    "best_params = {}\n",
    "\n",
    "# Iterate through all combinations of hyperparameters for preprocessing text\n",
    "for combination_1 in product(parameter_preproc['preprocessor__no_stopwords'], parameter_preproc['preprocessor__lemmatized'], parameter_preproc['preprocessor__lowercase'], parameter_preproc['preprocessor__giberish']):\n",
    " no_stopwords, lemmatized, lowercase, giberish = combination_1\n",
    "\n",
    "\n",
    " # Iterate through all combinations of hyperparameters for RandomForestClassifier\n",
    " for combination in product(param_grid['max_depth'], param_grid['min_samples_split'], param_grid['min_samples_leaf']):\n",
    "    max_depth, min_samples_split, min_samples_leaf = combination\n",
    "    \n",
    "    # Preprocess the data\n",
    "    X_train, X_val, X_test, y_train, y_val, y_test = preproc(reviews, restaurants, giberish=giberish, no_stopwords=no_stopwords, lemmatized=lemmatized,  lowercase=lowercase)\n",
    "    # Set model parameters\n",
    "    lp_classifier.classifier.set_params(max_depth=max_depth, \n",
    "                                        min_samples_split=min_samples_split,\n",
    "                                        min_samples_leaf=min_samples_leaf)\n",
    "    \n",
    "    # Train the model\n",
    "    lp_classifier.fit(X_train, y_train)\n",
    "    \n",
    "    # Evaluate the model\n",
    "    y_pred = lp_classifier.predict(X_val)\n",
    "    score_val = f1_score(y_val, y_pred, average='macro')\n",
    "\n",
    "    y_pred = lp_classifier.predict(X_train)\n",
    "    score_train = f1_score(y_train, y_pred, average='macro')\n",
    "    \n",
    "    # Print the model parameters and its F1 score\n",
    "    print(f\"Preprocessing params: no_stopwords={no_stopwords}, lemmatized={lemmatized}, \"\n",
    "              f\"lowercase={lowercase}, giberish={giberish} | \"\n",
    "              f\"Model params: max_depth={max_depth}, min_samples_split={min_samples_split}, \"\n",
    "              f\"min_samples_leaf={min_samples_leaf} - F1 score train : {score_train:.4f}, F1 score val: {score_val:.4f}\")\n",
    "    \n",
    "    # Check if this combination is the best and update the best parameters\n",
    "    if score_val -(score_train - score_val) > control_value:\n",
    "        control_value = score_val -(score_train - score_val)\n",
    "        best_score = score_val\n",
    "        best_score_train=score_train\n",
    "        best_params = {'max_depth': max_depth, 'min_samples_split': min_samples_split, 'min_samples_leaf': min_samples_leaf, 'no_stopwords': no_stopwords, 'lemmatized': lemmatized, 'lowercase': lowercase, 'giberish': giberish}\n",
    "    print(f\"Best score: {best_score:.4f}\")\n",
    "\n",
    "# Print the best parameters and score\n",
    "print(\"\\nBest parameters for LabelPowerset Classifier:\")\n",
    "print(best_params)\n",
    "print(\"Best score for val LabelPowerset Classifier:\", best_score)\n",
    "print(\"Best score for train LabelPowerset Classifier:\", best_score_train)"
   ]
  },
  {
   "cell_type": "markdown",
   "id": "cb82e4be",
   "metadata": {},
   "source": [
    "Best parameters for LabelPowerset Classifier:\n",
    "{'max_depth': 11, 'min_samples_split': 5, 'min_samples_leaf': 5, 'no_stopwords': True, 'lemmatized': True, 'lowercase': True, 'giberish': True}\n",
    "\n",
    "Best score for val LabelPowerset Classifier: 0.42546\n",
    "\n",
    "Best score for train LabelPowerset Classifier: 0.4823"
   ]
  },
  {
   "cell_type": "markdown",
   "id": "e89b8641",
   "metadata": {},
   "source": [
    "As we can see when used Hold Out Method the scores decrease, so we will try out best model with simple train-test split and compare results."
   ]
  },
  {
   "cell_type": "code",
   "execution_count": 106,
   "id": "d086fe0a",
   "metadata": {},
   "outputs": [
    {
     "data": {
      "text/html": [
       "<style>#sk-container-id-1 {color: black;background-color: white;}#sk-container-id-1 pre{padding: 0;}#sk-container-id-1 div.sk-toggleable {background-color: white;}#sk-container-id-1 label.sk-toggleable__label {cursor: pointer;display: block;width: 100%;margin-bottom: 0;padding: 0.3em;box-sizing: border-box;text-align: center;}#sk-container-id-1 label.sk-toggleable__label-arrow:before {content: \"▸\";float: left;margin-right: 0.25em;color: #696969;}#sk-container-id-1 label.sk-toggleable__label-arrow:hover:before {color: black;}#sk-container-id-1 div.sk-estimator:hover label.sk-toggleable__label-arrow:before {color: black;}#sk-container-id-1 div.sk-toggleable__content {max-height: 0;max-width: 0;overflow: hidden;text-align: left;background-color: #f0f8ff;}#sk-container-id-1 div.sk-toggleable__content pre {margin: 0.2em;color: black;border-radius: 0.25em;background-color: #f0f8ff;}#sk-container-id-1 input.sk-toggleable__control:checked~div.sk-toggleable__content {max-height: 200px;max-width: 100%;overflow: auto;}#sk-container-id-1 input.sk-toggleable__control:checked~label.sk-toggleable__label-arrow:before {content: \"▾\";}#sk-container-id-1 div.sk-estimator input.sk-toggleable__control:checked~label.sk-toggleable__label {background-color: #d4ebff;}#sk-container-id-1 div.sk-label input.sk-toggleable__control:checked~label.sk-toggleable__label {background-color: #d4ebff;}#sk-container-id-1 input.sk-hidden--visually {border: 0;clip: rect(1px 1px 1px 1px);clip: rect(1px, 1px, 1px, 1px);height: 1px;margin: -1px;overflow: hidden;padding: 0;position: absolute;width: 1px;}#sk-container-id-1 div.sk-estimator {font-family: monospace;background-color: #f0f8ff;border: 1px dotted black;border-radius: 0.25em;box-sizing: border-box;margin-bottom: 0.5em;}#sk-container-id-1 div.sk-estimator:hover {background-color: #d4ebff;}#sk-container-id-1 div.sk-parallel-item::after {content: \"\";width: 100%;border-bottom: 1px solid gray;flex-grow: 1;}#sk-container-id-1 div.sk-label:hover label.sk-toggleable__label {background-color: #d4ebff;}#sk-container-id-1 div.sk-serial::before {content: \"\";position: absolute;border-left: 1px solid gray;box-sizing: border-box;top: 0;bottom: 0;left: 50%;z-index: 0;}#sk-container-id-1 div.sk-serial {display: flex;flex-direction: column;align-items: center;background-color: white;padding-right: 0.2em;padding-left: 0.2em;position: relative;}#sk-container-id-1 div.sk-item {position: relative;z-index: 1;}#sk-container-id-1 div.sk-parallel {display: flex;align-items: stretch;justify-content: center;background-color: white;position: relative;}#sk-container-id-1 div.sk-item::before, #sk-container-id-1 div.sk-parallel-item::before {content: \"\";position: absolute;border-left: 1px solid gray;box-sizing: border-box;top: 0;bottom: 0;left: 50%;z-index: -1;}#sk-container-id-1 div.sk-parallel-item {display: flex;flex-direction: column;z-index: 1;position: relative;background-color: white;}#sk-container-id-1 div.sk-parallel-item:first-child::after {align-self: flex-end;width: 50%;}#sk-container-id-1 div.sk-parallel-item:last-child::after {align-self: flex-start;width: 50%;}#sk-container-id-1 div.sk-parallel-item:only-child::after {width: 0;}#sk-container-id-1 div.sk-dashed-wrapped {border: 1px dashed gray;margin: 0 0.4em 0.5em 0.4em;box-sizing: border-box;padding-bottom: 0.4em;background-color: white;}#sk-container-id-1 div.sk-label label {font-family: monospace;font-weight: bold;display: inline-block;line-height: 1.2em;}#sk-container-id-1 div.sk-label-container {text-align: center;}#sk-container-id-1 div.sk-container {/* jupyter's `normalize.less` sets `[hidden] { display: none; }` but bootstrap.min.css set `[hidden] { display: none !important; }` so we also need the `!important` here to be able to override the default hidden behavior on the sphinx rendered scikit-learn.org. See: https://github.com/scikit-learn/scikit-learn/issues/21755 */display: inline-block !important;position: relative;}#sk-container-id-1 div.sk-text-repr-fallback {display: none;}</style><div id=\"sk-container-id-1\" class=\"sk-top-container\"><div class=\"sk-text-repr-fallback\"><pre>LabelPowerset(classifier=RandomForestClassifier(class_weight=&#x27;balanced&#x27;,\n",
       "                                                max_depth=11,\n",
       "                                                min_samples_leaf=5,\n",
       "                                                min_samples_split=5, n_jobs=-1,\n",
       "                                                random_state=0),\n",
       "              require_dense=[True, True])</pre><b>In a Jupyter environment, please rerun this cell to show the HTML representation or trust the notebook. <br />On GitHub, the HTML representation is unable to render, please try loading this page with nbviewer.org.</b></div><div class=\"sk-container\" hidden><div class=\"sk-item sk-dashed-wrapped\"><div class=\"sk-label-container\"><div class=\"sk-label sk-toggleable\"><input class=\"sk-toggleable__control sk-hidden--visually\" id=\"sk-estimator-id-1\" type=\"checkbox\" ><label for=\"sk-estimator-id-1\" class=\"sk-toggleable__label sk-toggleable__label-arrow\">LabelPowerset</label><div class=\"sk-toggleable__content\"><pre>LabelPowerset(classifier=RandomForestClassifier(class_weight=&#x27;balanced&#x27;,\n",
       "                                                max_depth=11,\n",
       "                                                min_samples_leaf=5,\n",
       "                                                min_samples_split=5, n_jobs=-1,\n",
       "                                                random_state=0),\n",
       "              require_dense=[True, True])</pre></div></div></div><div class=\"sk-parallel\"><div class=\"sk-parallel-item\"><div class=\"sk-item\"><div class=\"sk-label-container\"><div class=\"sk-label sk-toggleable\"><input class=\"sk-toggleable__control sk-hidden--visually\" id=\"sk-estimator-id-2\" type=\"checkbox\" ><label for=\"sk-estimator-id-2\" class=\"sk-toggleable__label sk-toggleable__label-arrow\">classifier: RandomForestClassifier</label><div class=\"sk-toggleable__content\"><pre>RandomForestClassifier(class_weight=&#x27;balanced&#x27;, max_depth=11,\n",
       "                       min_samples_leaf=5, min_samples_split=5, n_jobs=-1,\n",
       "                       random_state=0)</pre></div></div></div><div class=\"sk-serial\"><div class=\"sk-item\"><div class=\"sk-estimator sk-toggleable\"><input class=\"sk-toggleable__control sk-hidden--visually\" id=\"sk-estimator-id-3\" type=\"checkbox\" ><label for=\"sk-estimator-id-3\" class=\"sk-toggleable__label sk-toggleable__label-arrow\">RandomForestClassifier</label><div class=\"sk-toggleable__content\"><pre>RandomForestClassifier(class_weight=&#x27;balanced&#x27;, max_depth=11,\n",
       "                       min_samples_leaf=5, min_samples_split=5, n_jobs=-1,\n",
       "                       random_state=0)</pre></div></div></div></div></div></div></div></div></div></div>"
      ],
      "text/plain": [
       "LabelPowerset(classifier=RandomForestClassifier(class_weight='balanced',\n",
       "                                                max_depth=11,\n",
       "                                                min_samples_leaf=5,\n",
       "                                                min_samples_split=5, n_jobs=-1,\n",
       "                                                random_state=0),\n",
       "              require_dense=[True, True])"
      ]
     },
     "execution_count": 106,
     "metadata": {},
     "output_type": "execute_result"
    }
   ],
   "source": [
    "logreg = RandomForestClassifier(random_state=0, max_depth=11, class_weight=\"balanced\", n_jobs=-1,\n",
    "                                    min_samples_split=5, min_samples_leaf=5)\n",
    "\n",
    "# Use LabelPowerset with Logistic Regression\n",
    "lp_classifier = LabelPowerset(logreg)\n",
    "lp_classifier.fit(reviews_bow_td_matrix_train, y_train_q1)\n"
   ]
  },
  {
   "cell_type": "code",
   "execution_count": 107,
   "id": "ad7c2498",
   "metadata": {},
   "outputs": [],
   "source": [
    "y_pred_q1_test = lp_classifier.predict(reviews_bow_td_matrix_test)\n",
    "y_pred_q1_train = lp_classifier.predict(reviews_bow_td_matrix_train)"
   ]
  },
  {
   "cell_type": "markdown",
   "id": "95b57ac3",
   "metadata": {},
   "source": [
    "Evaluate in train and test datasets."
   ]
  },
  {
   "cell_type": "code",
   "execution_count": 108,
   "id": "7bbcfd08",
   "metadata": {},
   "outputs": [
    {
     "name": "stdout",
     "output_type": "stream",
     "text": [
      "Accuracy: 0.3575742325113236 \n",
      "Precision: 0.6192733337596741 \n",
      "Recall: 0.5106125177571655 \n",
      "F1: 0.5424406959811757\n"
     ]
    },
    {
     "data": {
      "text/plain": [
       "(0.3575742325113236,\n",
       " 0.6192733337596741,\n",
       " 0.5106125177571655,\n",
       " 0.5424406959811757)"
      ]
     },
     "execution_count": 108,
     "metadata": {},
     "output_type": "execute_result"
    }
   ],
   "source": [
    "fold_score_calculator(y_pred_q1_train, y_train_q1, verbose=True)"
   ]
  },
  {
   "cell_type": "code",
   "execution_count": 109,
   "id": "2571721f",
   "metadata": {},
   "outputs": [
    {
     "name": "stdout",
     "output_type": "stream",
     "text": [
      "Accuracy: 0.29139406139909413 \n",
      "Precision: 0.5749206058795995 \n",
      "Recall: 0.46948670790837654 \n",
      "F1: 0.49996873017169724\n"
     ]
    },
    {
     "data": {
      "text/plain": [
       "(0.29139406139909413,\n",
       " 0.5749206058795995,\n",
       " 0.46948670790837654,\n",
       " 0.49996873017169724)"
      ]
     },
     "execution_count": 109,
     "metadata": {},
     "output_type": "execute_result"
    }
   ],
   "source": [
    "fold_score_calculator(y_pred_q1_test, y_test_q1, verbose=True)"
   ]
  },
  {
   "cell_type": "markdown",
   "id": "4080ca73",
   "metadata": {},
   "source": [
    "We still obtained lower scores, but this gives us more confidence in our approach, as the best model chooses the same text-cleaning hyperparameters: no_stopwords=True, lemmatized=True, lowercase=True, and giberish=True"
   ]
  },
  {
   "cell_type": "markdown",
   "id": "e3dd6ef7",
   "metadata": {},
   "source": [
    "<font color='#BFD72F' size= 5>5. Best Model</font> <a class=\"anchor\" id=\"P24\"></a>\n",
    "\n",
    "[Back to TOC](#toc)"
   ]
  },
  {
   "cell_type": "code",
   "execution_count": 16,
   "id": "144175f8",
   "metadata": {},
   "outputs": [
    {
     "data": {
      "text/html": [
       "<style>#sk-container-id-1 {\n",
       "  /* Definition of color scheme common for light and dark mode */\n",
       "  --sklearn-color-text: black;\n",
       "  --sklearn-color-line: gray;\n",
       "  /* Definition of color scheme for unfitted estimators */\n",
       "  --sklearn-color-unfitted-level-0: #fff5e6;\n",
       "  --sklearn-color-unfitted-level-1: #f6e4d2;\n",
       "  --sklearn-color-unfitted-level-2: #ffe0b3;\n",
       "  --sklearn-color-unfitted-level-3: chocolate;\n",
       "  /* Definition of color scheme for fitted estimators */\n",
       "  --sklearn-color-fitted-level-0: #f0f8ff;\n",
       "  --sklearn-color-fitted-level-1: #d4ebff;\n",
       "  --sklearn-color-fitted-level-2: #b3dbfd;\n",
       "  --sklearn-color-fitted-level-3: cornflowerblue;\n",
       "\n",
       "  /* Specific color for light theme */\n",
       "  --sklearn-color-text-on-default-background: var(--sg-text-color, var(--theme-code-foreground, var(--jp-content-font-color1, black)));\n",
       "  --sklearn-color-background: var(--sg-background-color, var(--theme-background, var(--jp-layout-color0, white)));\n",
       "  --sklearn-color-border-box: var(--sg-text-color, var(--theme-code-foreground, var(--jp-content-font-color1, black)));\n",
       "  --sklearn-color-icon: #696969;\n",
       "\n",
       "  @media (prefers-color-scheme: dark) {\n",
       "    /* Redefinition of color scheme for dark theme */\n",
       "    --sklearn-color-text-on-default-background: var(--sg-text-color, var(--theme-code-foreground, var(--jp-content-font-color1, white)));\n",
       "    --sklearn-color-background: var(--sg-background-color, var(--theme-background, var(--jp-layout-color0, #111)));\n",
       "    --sklearn-color-border-box: var(--sg-text-color, var(--theme-code-foreground, var(--jp-content-font-color1, white)));\n",
       "    --sklearn-color-icon: #878787;\n",
       "  }\n",
       "}\n",
       "\n",
       "#sk-container-id-1 {\n",
       "  color: var(--sklearn-color-text);\n",
       "}\n",
       "\n",
       "#sk-container-id-1 pre {\n",
       "  padding: 0;\n",
       "}\n",
       "\n",
       "#sk-container-id-1 input.sk-hidden--visually {\n",
       "  border: 0;\n",
       "  clip: rect(1px 1px 1px 1px);\n",
       "  clip: rect(1px, 1px, 1px, 1px);\n",
       "  height: 1px;\n",
       "  margin: -1px;\n",
       "  overflow: hidden;\n",
       "  padding: 0;\n",
       "  position: absolute;\n",
       "  width: 1px;\n",
       "}\n",
       "\n",
       "#sk-container-id-1 div.sk-dashed-wrapped {\n",
       "  border: 1px dashed var(--sklearn-color-line);\n",
       "  margin: 0 0.4em 0.5em 0.4em;\n",
       "  box-sizing: border-box;\n",
       "  padding-bottom: 0.4em;\n",
       "  background-color: var(--sklearn-color-background);\n",
       "}\n",
       "\n",
       "#sk-container-id-1 div.sk-container {\n",
       "  /* jupyter's `normalize.less` sets `[hidden] { display: none; }`\n",
       "     but bootstrap.min.css set `[hidden] { display: none !important; }`\n",
       "     so we also need the `!important` here to be able to override the\n",
       "     default hidden behavior on the sphinx rendered scikit-learn.org.\n",
       "     See: https://github.com/scikit-learn/scikit-learn/issues/21755 */\n",
       "  display: inline-block !important;\n",
       "  position: relative;\n",
       "}\n",
       "\n",
       "#sk-container-id-1 div.sk-text-repr-fallback {\n",
       "  display: none;\n",
       "}\n",
       "\n",
       "div.sk-parallel-item,\n",
       "div.sk-serial,\n",
       "div.sk-item {\n",
       "  /* draw centered vertical line to link estimators */\n",
       "  background-image: linear-gradient(var(--sklearn-color-text-on-default-background), var(--sklearn-color-text-on-default-background));\n",
       "  background-size: 2px 100%;\n",
       "  background-repeat: no-repeat;\n",
       "  background-position: center center;\n",
       "}\n",
       "\n",
       "/* Parallel-specific style estimator block */\n",
       "\n",
       "#sk-container-id-1 div.sk-parallel-item::after {\n",
       "  content: \"\";\n",
       "  width: 100%;\n",
       "  border-bottom: 2px solid var(--sklearn-color-text-on-default-background);\n",
       "  flex-grow: 1;\n",
       "}\n",
       "\n",
       "#sk-container-id-1 div.sk-parallel {\n",
       "  display: flex;\n",
       "  align-items: stretch;\n",
       "  justify-content: center;\n",
       "  background-color: var(--sklearn-color-background);\n",
       "  position: relative;\n",
       "}\n",
       "\n",
       "#sk-container-id-1 div.sk-parallel-item {\n",
       "  display: flex;\n",
       "  flex-direction: column;\n",
       "}\n",
       "\n",
       "#sk-container-id-1 div.sk-parallel-item:first-child::after {\n",
       "  align-self: flex-end;\n",
       "  width: 50%;\n",
       "}\n",
       "\n",
       "#sk-container-id-1 div.sk-parallel-item:last-child::after {\n",
       "  align-self: flex-start;\n",
       "  width: 50%;\n",
       "}\n",
       "\n",
       "#sk-container-id-1 div.sk-parallel-item:only-child::after {\n",
       "  width: 0;\n",
       "}\n",
       "\n",
       "/* Serial-specific style estimator block */\n",
       "\n",
       "#sk-container-id-1 div.sk-serial {\n",
       "  display: flex;\n",
       "  flex-direction: column;\n",
       "  align-items: center;\n",
       "  background-color: var(--sklearn-color-background);\n",
       "  padding-right: 1em;\n",
       "  padding-left: 1em;\n",
       "}\n",
       "\n",
       "\n",
       "/* Toggleable style: style used for estimator/Pipeline/ColumnTransformer box that is\n",
       "clickable and can be expanded/collapsed.\n",
       "- Pipeline and ColumnTransformer use this feature and define the default style\n",
       "- Estimators will overwrite some part of the style using the `sk-estimator` class\n",
       "*/\n",
       "\n",
       "/* Pipeline and ColumnTransformer style (default) */\n",
       "\n",
       "#sk-container-id-1 div.sk-toggleable {\n",
       "  /* Default theme specific background. It is overwritten whether we have a\n",
       "  specific estimator or a Pipeline/ColumnTransformer */\n",
       "  background-color: var(--sklearn-color-background);\n",
       "}\n",
       "\n",
       "/* Toggleable label */\n",
       "#sk-container-id-1 label.sk-toggleable__label {\n",
       "  cursor: pointer;\n",
       "  display: block;\n",
       "  width: 100%;\n",
       "  margin-bottom: 0;\n",
       "  padding: 0.5em;\n",
       "  box-sizing: border-box;\n",
       "  text-align: center;\n",
       "}\n",
       "\n",
       "#sk-container-id-1 label.sk-toggleable__label-arrow:before {\n",
       "  /* Arrow on the left of the label */\n",
       "  content: \"▸\";\n",
       "  float: left;\n",
       "  margin-right: 0.25em;\n",
       "  color: var(--sklearn-color-icon);\n",
       "}\n",
       "\n",
       "#sk-container-id-1 label.sk-toggleable__label-arrow:hover:before {\n",
       "  color: var(--sklearn-color-text);\n",
       "}\n",
       "\n",
       "/* Toggleable content - dropdown */\n",
       "\n",
       "#sk-container-id-1 div.sk-toggleable__content {\n",
       "  max-height: 0;\n",
       "  max-width: 0;\n",
       "  overflow: hidden;\n",
       "  text-align: left;\n",
       "  /* unfitted */\n",
       "  background-color: var(--sklearn-color-unfitted-level-0);\n",
       "}\n",
       "\n",
       "#sk-container-id-1 div.sk-toggleable__content.fitted {\n",
       "  /* fitted */\n",
       "  background-color: var(--sklearn-color-fitted-level-0);\n",
       "}\n",
       "\n",
       "#sk-container-id-1 div.sk-toggleable__content pre {\n",
       "  margin: 0.2em;\n",
       "  border-radius: 0.25em;\n",
       "  color: var(--sklearn-color-text);\n",
       "  /* unfitted */\n",
       "  background-color: var(--sklearn-color-unfitted-level-0);\n",
       "}\n",
       "\n",
       "#sk-container-id-1 div.sk-toggleable__content.fitted pre {\n",
       "  /* unfitted */\n",
       "  background-color: var(--sklearn-color-fitted-level-0);\n",
       "}\n",
       "\n",
       "#sk-container-id-1 input.sk-toggleable__control:checked~div.sk-toggleable__content {\n",
       "  /* Expand drop-down */\n",
       "  max-height: 200px;\n",
       "  max-width: 100%;\n",
       "  overflow: auto;\n",
       "}\n",
       "\n",
       "#sk-container-id-1 input.sk-toggleable__control:checked~label.sk-toggleable__label-arrow:before {\n",
       "  content: \"▾\";\n",
       "}\n",
       "\n",
       "/* Pipeline/ColumnTransformer-specific style */\n",
       "\n",
       "#sk-container-id-1 div.sk-label input.sk-toggleable__control:checked~label.sk-toggleable__label {\n",
       "  color: var(--sklearn-color-text);\n",
       "  background-color: var(--sklearn-color-unfitted-level-2);\n",
       "}\n",
       "\n",
       "#sk-container-id-1 div.sk-label.fitted input.sk-toggleable__control:checked~label.sk-toggleable__label {\n",
       "  background-color: var(--sklearn-color-fitted-level-2);\n",
       "}\n",
       "\n",
       "/* Estimator-specific style */\n",
       "\n",
       "/* Colorize estimator box */\n",
       "#sk-container-id-1 div.sk-estimator input.sk-toggleable__control:checked~label.sk-toggleable__label {\n",
       "  /* unfitted */\n",
       "  background-color: var(--sklearn-color-unfitted-level-2);\n",
       "}\n",
       "\n",
       "#sk-container-id-1 div.sk-estimator.fitted input.sk-toggleable__control:checked~label.sk-toggleable__label {\n",
       "  /* fitted */\n",
       "  background-color: var(--sklearn-color-fitted-level-2);\n",
       "}\n",
       "\n",
       "#sk-container-id-1 div.sk-label label.sk-toggleable__label,\n",
       "#sk-container-id-1 div.sk-label label {\n",
       "  /* The background is the default theme color */\n",
       "  color: var(--sklearn-color-text-on-default-background);\n",
       "}\n",
       "\n",
       "/* On hover, darken the color of the background */\n",
       "#sk-container-id-1 div.sk-label:hover label.sk-toggleable__label {\n",
       "  color: var(--sklearn-color-text);\n",
       "  background-color: var(--sklearn-color-unfitted-level-2);\n",
       "}\n",
       "\n",
       "/* Label box, darken color on hover, fitted */\n",
       "#sk-container-id-1 div.sk-label.fitted:hover label.sk-toggleable__label.fitted {\n",
       "  color: var(--sklearn-color-text);\n",
       "  background-color: var(--sklearn-color-fitted-level-2);\n",
       "}\n",
       "\n",
       "/* Estimator label */\n",
       "\n",
       "#sk-container-id-1 div.sk-label label {\n",
       "  font-family: monospace;\n",
       "  font-weight: bold;\n",
       "  display: inline-block;\n",
       "  line-height: 1.2em;\n",
       "}\n",
       "\n",
       "#sk-container-id-1 div.sk-label-container {\n",
       "  text-align: center;\n",
       "}\n",
       "\n",
       "/* Estimator-specific */\n",
       "#sk-container-id-1 div.sk-estimator {\n",
       "  font-family: monospace;\n",
       "  border: 1px dotted var(--sklearn-color-border-box);\n",
       "  border-radius: 0.25em;\n",
       "  box-sizing: border-box;\n",
       "  margin-bottom: 0.5em;\n",
       "  /* unfitted */\n",
       "  background-color: var(--sklearn-color-unfitted-level-0);\n",
       "}\n",
       "\n",
       "#sk-container-id-1 div.sk-estimator.fitted {\n",
       "  /* fitted */\n",
       "  background-color: var(--sklearn-color-fitted-level-0);\n",
       "}\n",
       "\n",
       "/* on hover */\n",
       "#sk-container-id-1 div.sk-estimator:hover {\n",
       "  /* unfitted */\n",
       "  background-color: var(--sklearn-color-unfitted-level-2);\n",
       "}\n",
       "\n",
       "#sk-container-id-1 div.sk-estimator.fitted:hover {\n",
       "  /* fitted */\n",
       "  background-color: var(--sklearn-color-fitted-level-2);\n",
       "}\n",
       "\n",
       "/* Specification for estimator info (e.g. \"i\" and \"?\") */\n",
       "\n",
       "/* Common style for \"i\" and \"?\" */\n",
       "\n",
       ".sk-estimator-doc-link,\n",
       "a:link.sk-estimator-doc-link,\n",
       "a:visited.sk-estimator-doc-link {\n",
       "  float: right;\n",
       "  font-size: smaller;\n",
       "  line-height: 1em;\n",
       "  font-family: monospace;\n",
       "  background-color: var(--sklearn-color-background);\n",
       "  border-radius: 1em;\n",
       "  height: 1em;\n",
       "  width: 1em;\n",
       "  text-decoration: none !important;\n",
       "  margin-left: 1ex;\n",
       "  /* unfitted */\n",
       "  border: var(--sklearn-color-unfitted-level-1) 1pt solid;\n",
       "  color: var(--sklearn-color-unfitted-level-1);\n",
       "}\n",
       "\n",
       ".sk-estimator-doc-link.fitted,\n",
       "a:link.sk-estimator-doc-link.fitted,\n",
       "a:visited.sk-estimator-doc-link.fitted {\n",
       "  /* fitted */\n",
       "  border: var(--sklearn-color-fitted-level-1) 1pt solid;\n",
       "  color: var(--sklearn-color-fitted-level-1);\n",
       "}\n",
       "\n",
       "/* On hover */\n",
       "div.sk-estimator:hover .sk-estimator-doc-link:hover,\n",
       ".sk-estimator-doc-link:hover,\n",
       "div.sk-label-container:hover .sk-estimator-doc-link:hover,\n",
       ".sk-estimator-doc-link:hover {\n",
       "  /* unfitted */\n",
       "  background-color: var(--sklearn-color-unfitted-level-3);\n",
       "  color: var(--sklearn-color-background);\n",
       "  text-decoration: none;\n",
       "}\n",
       "\n",
       "div.sk-estimator.fitted:hover .sk-estimator-doc-link.fitted:hover,\n",
       ".sk-estimator-doc-link.fitted:hover,\n",
       "div.sk-label-container:hover .sk-estimator-doc-link.fitted:hover,\n",
       ".sk-estimator-doc-link.fitted:hover {\n",
       "  /* fitted */\n",
       "  background-color: var(--sklearn-color-fitted-level-3);\n",
       "  color: var(--sklearn-color-background);\n",
       "  text-decoration: none;\n",
       "}\n",
       "\n",
       "/* Span, style for the box shown on hovering the info icon */\n",
       ".sk-estimator-doc-link span {\n",
       "  display: none;\n",
       "  z-index: 9999;\n",
       "  position: relative;\n",
       "  font-weight: normal;\n",
       "  right: .2ex;\n",
       "  padding: .5ex;\n",
       "  margin: .5ex;\n",
       "  width: min-content;\n",
       "  min-width: 20ex;\n",
       "  max-width: 50ex;\n",
       "  color: var(--sklearn-color-text);\n",
       "  box-shadow: 2pt 2pt 4pt #999;\n",
       "  /* unfitted */\n",
       "  background: var(--sklearn-color-unfitted-level-0);\n",
       "  border: .5pt solid var(--sklearn-color-unfitted-level-3);\n",
       "}\n",
       "\n",
       ".sk-estimator-doc-link.fitted span {\n",
       "  /* fitted */\n",
       "  background: var(--sklearn-color-fitted-level-0);\n",
       "  border: var(--sklearn-color-fitted-level-3);\n",
       "}\n",
       "\n",
       ".sk-estimator-doc-link:hover span {\n",
       "  display: block;\n",
       "}\n",
       "\n",
       "/* \"?\"-specific style due to the `<a>` HTML tag */\n",
       "\n",
       "#sk-container-id-1 a.estimator_doc_link {\n",
       "  float: right;\n",
       "  font-size: 1rem;\n",
       "  line-height: 1em;\n",
       "  font-family: monospace;\n",
       "  background-color: var(--sklearn-color-background);\n",
       "  border-radius: 1rem;\n",
       "  height: 1rem;\n",
       "  width: 1rem;\n",
       "  text-decoration: none;\n",
       "  /* unfitted */\n",
       "  color: var(--sklearn-color-unfitted-level-1);\n",
       "  border: var(--sklearn-color-unfitted-level-1) 1pt solid;\n",
       "}\n",
       "\n",
       "#sk-container-id-1 a.estimator_doc_link.fitted {\n",
       "  /* fitted */\n",
       "  border: var(--sklearn-color-fitted-level-1) 1pt solid;\n",
       "  color: var(--sklearn-color-fitted-level-1);\n",
       "}\n",
       "\n",
       "/* On hover */\n",
       "#sk-container-id-1 a.estimator_doc_link:hover {\n",
       "  /* unfitted */\n",
       "  background-color: var(--sklearn-color-unfitted-level-3);\n",
       "  color: var(--sklearn-color-background);\n",
       "  text-decoration: none;\n",
       "}\n",
       "\n",
       "#sk-container-id-1 a.estimator_doc_link.fitted:hover {\n",
       "  /* fitted */\n",
       "  background-color: var(--sklearn-color-fitted-level-3);\n",
       "}\n",
       "</style><div id=\"sk-container-id-1\" class=\"sk-top-container\"><div class=\"sk-text-repr-fallback\"><pre>LabelPowerset(classifier=RandomForestClassifier(class_weight=&#x27;balanced&#x27;,\n",
       "                                                max_depth=9, min_samples_leaf=5,\n",
       "                                                min_samples_split=10, n_jobs=-1,\n",
       "                                                random_state=0),\n",
       "              require_dense=[True, True])</pre><b>In a Jupyter environment, please rerun this cell to show the HTML representation or trust the notebook. <br />On GitHub, the HTML representation is unable to render, please try loading this page with nbviewer.org.</b></div><div class=\"sk-container\" hidden><div class=\"sk-item sk-dashed-wrapped\"><div class=\"sk-label-container\"><div class=\"sk-label fitted sk-toggleable\"><input class=\"sk-toggleable__control sk-hidden--visually\" id=\"sk-estimator-id-1\" type=\"checkbox\" ><label for=\"sk-estimator-id-1\" class=\"sk-toggleable__label fitted sk-toggleable__label-arrow fitted\">&nbsp;LabelPowerset<span class=\"sk-estimator-doc-link fitted\">i<span>Fitted</span></span></label><div class=\"sk-toggleable__content fitted\"><pre>LabelPowerset(classifier=RandomForestClassifier(class_weight=&#x27;balanced&#x27;,\n",
       "                                                max_depth=9, min_samples_leaf=5,\n",
       "                                                min_samples_split=10, n_jobs=-1,\n",
       "                                                random_state=0),\n",
       "              require_dense=[True, True])</pre></div> </div></div><div class=\"sk-parallel\"><div class=\"sk-parallel-item\"><div class=\"sk-item\"><div class=\"sk-label-container\"><div class=\"sk-label fitted sk-toggleable\"><input class=\"sk-toggleable__control sk-hidden--visually\" id=\"sk-estimator-id-2\" type=\"checkbox\" ><label for=\"sk-estimator-id-2\" class=\"sk-toggleable__label fitted sk-toggleable__label-arrow fitted\">classifier: RandomForestClassifier</label><div class=\"sk-toggleable__content fitted\"><pre>RandomForestClassifier(class_weight=&#x27;balanced&#x27;, max_depth=9, min_samples_leaf=5,\n",
       "                       min_samples_split=10, n_jobs=-1, random_state=0)</pre></div> </div></div><div class=\"sk-serial\"><div class=\"sk-item\"><div class=\"sk-estimator fitted sk-toggleable\"><input class=\"sk-toggleable__control sk-hidden--visually\" id=\"sk-estimator-id-3\" type=\"checkbox\" ><label for=\"sk-estimator-id-3\" class=\"sk-toggleable__label fitted sk-toggleable__label-arrow fitted\">&nbsp;RandomForestClassifier<a class=\"sk-estimator-doc-link fitted\" rel=\"noreferrer\" target=\"_blank\" href=\"https://scikit-learn.org/1.5/modules/generated/sklearn.ensemble.RandomForestClassifier.html\">?<span>Documentation for RandomForestClassifier</span></a></label><div class=\"sk-toggleable__content fitted\"><pre>RandomForestClassifier(class_weight=&#x27;balanced&#x27;, max_depth=9, min_samples_leaf=5,\n",
       "                       min_samples_split=10, n_jobs=-1, random_state=0)</pre></div> </div></div></div></div></div></div></div></div></div>"
      ],
      "text/plain": [
       "LabelPowerset(classifier=RandomForestClassifier(class_weight='balanced',\n",
       "                                                max_depth=9, min_samples_leaf=5,\n",
       "                                                min_samples_split=10, n_jobs=-1,\n",
       "                                                random_state=0),\n",
       "              require_dense=[True, True])"
      ]
     },
     "execution_count": 16,
     "metadata": {},
     "output_type": "execute_result"
    }
   ],
   "source": [
    "logreg = RandomForestClassifier(random_state=0, max_depth=9, class_weight=\"balanced\", n_jobs=-1,\n",
    "                                    min_samples_split=10, min_samples_leaf=5)\n",
    "\n",
    "\n",
    "lp_classifier = LabelPowerset(logreg)\n",
    "lp_classifier.fit(reviews_bow_td_matrix_train, y_train_q1)"
   ]
  },
  {
   "cell_type": "code",
   "execution_count": 17,
   "id": "07b318ba",
   "metadata": {},
   "outputs": [],
   "source": [
    "y_pred_q1_test = lp_classifier.predict(reviews_bow_td_matrix_test)\n",
    "y_pred_q1_train = lp_classifier.predict(reviews_bow_td_matrix_train)"
   ]
  },
  {
   "cell_type": "code",
   "execution_count": 20,
   "id": "ed50e6dd",
   "metadata": {},
   "outputs": [
    {
     "name": "stdout",
     "output_type": "stream",
     "text": [
      "Accuracy: 0.352038248616004 \n",
      "Precision: 0.6187130815772561 \n",
      "Recall: 0.5178825102364837 \n",
      "F1: 0.5462076643227995\n"
     ]
    },
    {
     "data": {
      "text/plain": [
       "(0.352038248616004, 0.6187130815772561, 0.5178825102364837, 0.5462076643227995)"
      ]
     },
     "execution_count": 20,
     "metadata": {},
     "output_type": "execute_result"
    }
   ],
   "source": [
    "fold_score_calculator(y_pred_q1_train, y_train_q1, verbose=True)"
   ]
  },
  {
   "cell_type": "code",
   "execution_count": 21,
   "id": "3b2737cd",
   "metadata": {},
   "outputs": [
    {
     "name": "stdout",
     "output_type": "stream",
     "text": [
      "Accuracy: 0.29894313034725717 \n",
      "Precision: 0.5810622784315473 \n",
      "Recall: 0.4872094967396756 \n",
      "F1: 0.5148434416897879\n"
     ]
    },
    {
     "data": {
      "text/plain": [
       "(0.29894313034725717,\n",
       " 0.5810622784315473,\n",
       " 0.4872094967396756,\n",
       " 0.5148434416897879)"
      ]
     },
     "execution_count": 21,
     "metadata": {},
     "output_type": "execute_result"
    }
   ],
   "source": [
    "fold_score_calculator(y_pred_q1_test, y_test_q1, verbose=True)"
   ]
  },
  {
   "cell_type": "markdown",
   "id": "0e333827",
   "metadata": {},
   "source": [
    "Train F1 Score of 0.546 and Test F1 score of 0.515."
   ]
  },
  {
   "cell_type": "markdown",
   "id": "8e09ac4f",
   "metadata": {},
   "source": [
    "<font color='#BFD72F' size= 5>6. Results Exploration</font> <a class=\"anchor\" id=\"P27\"></a>\n",
    "\n",
    "[Back to TOC](#toc)"
   ]
  },
  {
   "cell_type": "code",
   "execution_count": 18,
   "id": "d9e19efd",
   "metadata": {},
   "outputs": [
    {
     "name": "stderr",
     "output_type": "stream",
     "text": [
      "c:\\Users\\mnasc\\anaconda3\\envs\\tm\\lib\\site-packages\\sklearn\\metrics\\_classification.py:1531: UndefinedMetricWarning: Precision is ill-defined and being set to 0.0 in labels with no predicted samples. Use `zero_division` parameter to control this behavior.\n",
      "  _warn_prf(average, modifier, f\"{metric.capitalize()} is\", len(result))\n"
     ]
    },
    {
     "data": {
      "image/png": "[encoded data removed]",
      "text/plain": [
       "<Figure size 1400x600 with 1 Axes>"
      ]
     },
     "metadata": {},
     "output_type": "display_data"
    }
   ],
   "source": [
    "# Generate classification report\n",
    "report = classification_report(y_test_q1, y_pred_q1_test, target_names=mlb.classes_, output_dict=True)\n",
    "\n",
    "# Extract F1-scores\n",
    "labels = mlb.classes_\n",
    "f1_scores = [report[label]['f1-score'] for label in labels]\n",
    "\n",
    "# Calculate the percentage of the dataset that each label represents\n",
    "label_counts = np.sum(y_test_q1, axis=0)\n",
    "total_count = np.sum(label_counts)\n",
    "label_percentages = (label_counts / total_count) * 100\n",
    "\n",
    "# Create labels with percentages\n",
    "labels_with_percentages = [f\"{label} ({percentage:.1f}%)\" for label, percentage in zip(labels, label_percentages)]\n",
    "\n",
    "# Plot F1-scores\n",
    "plt.figure(figsize=(14, 6))  \n",
    "bar_width = 0.6  # Set the width of the bars\n",
    "bar_positions = np.arange(len(labels_with_percentages)) * 1.2  #  add spacing\n",
    "\n",
    "plt.bar(bar_positions, f1_scores, width=bar_width, color='sandybrown')\n",
    "plt.xlabel('Labels')\n",
    "plt.ylabel('F1-Score')\n",
    "plt.title('F1-Score per Label')\n",
    "plt.xticks(bar_positions, labels_with_percentages, rotation=45, ha=\"right\")\n",
    "\n",
    "# Add values on top of bars\n",
    "for i, score in enumerate(f1_scores):\n",
    "    plt.text(bar_positions[i], score + 0.01, f'{score:.2f}', ha='center', va='bottom')\n",
    "\n",
    "plt.tight_layout()\n",
    "plt.show()"
   ]
  },
  {
   "cell_type": "markdown",
   "id": "881c8abf",
   "metadata": {},
   "source": [
    "We observe in this chart that cuisines with fewer data points generally tend to have lower F1 scores. \n",
    "\n",
    "This trend is evident in categories such as Pizza, Mexican, and Ice Cream, which have relatively low scores. This contributed to the overall decrease in the F1 score."
   ]
  },
  {
   "cell_type": "code",
   "execution_count": 24,
   "id": "d5711778",
   "metadata": {},
   "outputs": [
    {
     "name": "stdout",
     "output_type": "stream",
     "text": [
      "Classification Report:\n",
      "               precision    recall  f1-score   support\n",
      "\n",
      "     American       0.56      0.52      0.54       115\n",
      "       Andhra       0.56      0.23      0.33       118\n",
      "      Arabian       0.33      0.15      0.21        40\n",
      "        Asian       0.50      0.49      0.50       280\n",
      "          BBQ       0.25      0.62      0.35        40\n",
      "       Bakery       0.57      0.57      0.57       120\n",
      "    Beverages       0.41      0.50      0.45       100\n",
      "      Biryani       0.58      0.25      0.35       297\n",
      "       Burger       0.48      0.55      0.51        95\n",
      "         Cafe       0.69      0.55      0.61       120\n",
      "      Chinese       0.65      0.46      0.54       816\n",
      "  Continental       0.62      0.51      0.56       417\n",
      "     Desserts       0.66      0.48      0.56       260\n",
      "     European       0.58      0.54      0.56        80\n",
      "    Fast Food       0.29      0.66      0.40       254\n",
      "  Finger Food       0.35      0.15      0.21        40\n",
      "         Goan       0.65      0.55      0.59        20\n",
      " Healthy Food       0.36      0.60      0.45        20\n",
      "   Hyderabadi       0.56      0.32      0.40        79\n",
      "    Ice Cream       0.60      0.53      0.56        40\n",
      "   Indonesian       0.33      0.05      0.09        20\n",
      "      Italian       0.51      0.47      0.49       280\n",
      "     Japanese       0.22      0.33      0.26        40\n",
      "       Juices       0.28      0.35      0.31        20\n",
      "        Kebab       0.41      0.40      0.41       120\n",
      "     Lebanese       0.27      0.50      0.35        20\n",
      "Mediterranean       0.64      0.51      0.57       100\n",
      "      Mexican       0.06      0.10      0.07        20\n",
      "Modern Indian       0.17      0.50      0.26        40\n",
      "        Momos       0.69      0.36      0.48        80\n",
      "      Mughlai       0.49      0.41      0.44       120\n",
      "North Eastern       0.57      0.60      0.59        20\n",
      " North Indian       0.82      0.66      0.73      1195\n",
      "        Pizza       0.06      0.85      0.12        20\n",
      "        Salad       0.22      0.23      0.23        75\n",
      "      Seafood       0.29      0.46      0.35        80\n",
      " South Indian       0.39      0.35      0.37       180\n",
      "      Spanish       0.28      0.35      0.31        20\n",
      "  Street Food       0.44      0.38      0.41        40\n",
      "        Sushi       0.35      0.36      0.35        80\n",
      "         Thai       0.50      0.12      0.20        40\n",
      "        Wraps       0.62      0.25      0.36        20\n",
      "\n",
      "    micro avg       0.51      0.49      0.50      5981\n",
      "    macro avg       0.45      0.42      0.40      5981\n",
      " weighted avg       0.58      0.49      0.51      5981\n",
      "  samples avg       0.50      0.50      0.49      5981\n",
      "\n"
     ]
    }
   ],
   "source": [
    "report = classification_report(y_test_q1, y_pred_q1_test, target_names=mlb.classes_)\n",
    "\n",
    "print(\"Classification Report:\")\n",
    "print(report)"
   ]
  },
  {
   "cell_type": "code",
   "execution_count": 20,
   "id": "967f6d6f",
   "metadata": {},
   "outputs": [
    {
     "data": {
      "image/png": "[encoded data removed]",
      "text/plain": [
       "<Figure size 1600x800 with 1 Axes>"
      ]
     },
     "metadata": {},
     "output_type": "display_data"
    }
   ],
   "source": [
    "# Convert binary matrices back to label lists\n",
    "y_test_q1_inverse = mlb.inverse_transform(y_test_q1)\n",
    "y_pred_q1_test_inverse = mlb.inverse_transform(y_pred_q1_test)\n",
    "\n",
    "# Flatten the lists of labels \n",
    "flattened_labels_test = [label for sublist in y_test_q1_inverse for label in sublist]\n",
    "flattened_labels_pred = [label for sublist in y_pred_q1_test_inverse for label in sublist]\n",
    "\n",
    "# Count the occurrences of each label\n",
    "label_counts_test = Counter(flattened_labels_test)\n",
    "label_counts_pred = Counter(flattened_labels_pred)\n",
    "\n",
    "# Combine label counts for both true and predicted labels\n",
    "all_labels = list(set(label_counts_test.keys()).union(set(label_counts_pred.keys())))\n",
    "\n",
    "# Prepare data for plotting\n",
    "true_counts = [label_counts_test.get(label, 0) for label in all_labels]\n",
    "pred_counts = [label_counts_pred.get(label, 0) for label in all_labels]\n",
    "\n",
    "\n",
    "plt.figure(figsize=(16, 8))\n",
    "x = np.arange(len(all_labels))\n",
    "bar_width = 0.35\n",
    "plt.bar(x - bar_width / 2, true_counts, width=bar_width, color='sandybrown', label='True Count')\n",
    "plt.bar(x + bar_width / 2, pred_counts, width=bar_width, color='steelblue', label='Predicted Count')\n",
    "plt.xlabel('Labels')\n",
    "plt.ylabel('Counts')\n",
    "plt.title('True vs Predicted Label Counts (Multilabel Task)')\n",
    "plt.xticks(x, all_labels, rotation=45, ha=\"right\")\n",
    "plt.legend()\n",
    "\n",
    "# Add values on top of bars\n",
    "for i in range(len(all_labels)):\n",
    "    plt.text(x[i] - bar_width / 2, true_counts[i] + 0.01, f'{true_counts[i]}', ha='center', va='bottom', color='sandybrown', fontsize=9)\n",
    "    plt.text(x[i] + bar_width / 2, pred_counts[i] + 0.01, f'{pred_counts[i]}', ha='center', va='bottom', color='steelblue', fontsize=9)\n",
    "\n",
    "\n",
    "plt.tight_layout()\n",
    "plt.show()"
   ]
  },
  {
   "cell_type": "markdown",
   "id": "e481f141",
   "metadata": {},
   "source": [
    "It is possible to observe that some classes are overpredicted, while others are underpredicted. Cuisines such as Chinese and North Indian are being underpredicted, whereas minority classes like Pizza and Fast Food are being overpredicted. \n",
    "\n",
    "This is likely due to the challenges of stratifying the data in a way that ensures equal representation of all cuisines in both the training and test sets.\n",
    "\n",
    "As a result, these cuisines may be more heavily represented in the training data, leading to these imbalances in predictions"
   ]
  }
 ],
 "metadata": {
  "kernelspec": {
   "display_name": "tm",
   "language": "python",
   "name": "python3"
  },
  "language_info": {
   "codemirror_mode": {
    "name": "ipython",
    "version": 3
   },
   "file_extension": ".py",
   "mimetype": "text/x-python",
   "name": "python",
   "nbconvert_exporter": "python",
   "pygments_lexer": "ipython3",
   "version": "3.10.9"
  }
 },
 "nbformat": 4,
 "nbformat_minor": 5
}
